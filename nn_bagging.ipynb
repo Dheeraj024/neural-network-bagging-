{
  "nbformat": 4,
  "nbformat_minor": 0,
  "metadata": {
    "colab": {
      "provenance": [],
      "mount_file_id": "1HTORzEUy1CZmC5mi97z5DYrtLtNf1L5R",
      "authorship_tag": "ABX9TyO/UGnACPnHN1rqfMiQjGPX",
      "include_colab_link": true
    },
    "kernelspec": {
      "name": "python3",
      "display_name": "Python 3"
    },
    "language_info": {
      "name": "python"
    }
  },
  "cells": [
    {
      "cell_type": "markdown",
      "metadata": {
        "id": "view-in-github",
        "colab_type": "text"
      },
      "source": [
        "<a href=\"https://colab.research.google.com/github/Dheeraj024/neural-network-bagging-/blob/main/nn_bagging.ipynb\" target=\"_parent\"><img src=\"https://colab.research.google.com/assets/colab-badge.svg\" alt=\"Open In Colab\"/></a>"
      ]
    },
    {
      "cell_type": "code",
      "execution_count": 1,
      "metadata": {
        "id": "6CYe3-tP5mN6"
      },
      "outputs": [],
      "source": [
        "import numpy as np\n",
        "import pandas as pd\n",
        "import scipy.io as sio\n",
        "import matplotlib.pyplot as plt\n",
        "from sklearn.decomposition import PCA"
      ]
    },
    {
      "cell_type": "code",
      "source": [
        "hyp_data = sio.loadmat(\"/content/drive/MyDrive/Colab Notebooks/Indian_pines_corrected.mat\")\n",
        "gt_data = sio.loadmat(\"/content/drive/MyDrive/Colab Notebooks/Indian_pines_gt.mat\")"
      ],
      "metadata": {
        "id": "7zrkHODe6YKX"
      },
      "execution_count": 2,
      "outputs": []
    },
    {
      "cell_type": "code",
      "source": [
        "data = hyp_data[sorted(hyp_data.keys())[-1]]\n",
        "\n",
        "def applyPCA(X, n_components=30, seed=1):\n",
        "    newX = np.reshape(X, (-1, X.shape[2]))\n",
        "    pca = PCA(n_components=n_components, whiten=True, random_state=seed)\n",
        "    newX = pca.fit_transform(newX)\n",
        "    newX = np.reshape(newX, (X.shape[0], X.shape[1], n_components))\n",
        "    return newX"
      ],
      "metadata": {
        "id": "4d_nr9HB6jdn"
      },
      "execution_count": 3,
      "outputs": []
    },
    {
      "cell_type": "code",
      "source": [
        "data = applyPCA(data)\n",
        "data.shape\n",
        "\n",
        "labels = gt_data[sorted(gt_data.keys())[-1]]\n",
        "\n",
        "print(data.shape)\n",
        "print(labels.shape)\n",
        "\n",
        "data = data.reshape(data.shape[0]*data.shape[1],data.shape[2])\n",
        "data.shape\n",
        "\n",
        "labels = labels.reshape(-1,1)\n",
        "labels.shape"
      ],
      "metadata": {
        "colab": {
          "base_uri": "https://localhost:8080/"
        },
        "id": "SBhPjwI-6oXq",
        "outputId": "43970245-4dea-4bdf-a248-d8c61f9e6811"
      },
      "execution_count": 4,
      "outputs": [
        {
          "output_type": "stream",
          "name": "stdout",
          "text": [
            "(145, 145, 30)\n",
            "(145, 145)\n"
          ]
        },
        {
          "output_type": "execute_result",
          "data": {
            "text/plain": [
              "(21025, 1)"
            ]
          },
          "metadata": {},
          "execution_count": 4
        }
      ]
    },
    {
      "cell_type": "code",
      "source": [
        "combine = np.concatenate((data,labels),axis=1)\n",
        "combine"
      ],
      "metadata": {
        "colab": {
          "base_uri": "https://localhost:8080/"
        },
        "id": "V6NnvvK96y0g",
        "outputId": "5614aea1-ba65-42ff-beaf-b7d384b052dc"
      },
      "execution_count": 5,
      "outputs": [
        {
          "output_type": "execute_result",
          "data": {
            "text/plain": [
              "array([[ 0.96876849,  0.4801512 ,  0.09501285, ..., -0.08308338,\n",
              "        -0.3144414 ,  3.        ],\n",
              "       [ 1.08206297, -0.66688618,  0.45761543, ..., -1.70082187,\n",
              "         3.01117831,  3.        ],\n",
              "       [ 1.11968468, -1.01852852,  0.64112087, ...,  0.83300539,\n",
              "        -0.37002131,  3.        ],\n",
              "       ...,\n",
              "       [-1.42368833, -0.37320899,  0.52039646, ...,  0.37675531,\n",
              "         1.08857678,  0.        ],\n",
              "       [-1.255093  ,  0.26308297,  0.88456889, ...,  0.01608009,\n",
              "        -0.01004176,  0.        ],\n",
              "       [-1.26926721,  0.11428131,  0.60833014, ...,  0.53927323,\n",
              "         0.54789815,  0.        ]])"
            ]
          },
          "metadata": {},
          "execution_count": 5
        }
      ]
    },
    {
      "cell_type": "code",
      "source": [
        "hyp_columns = []\n",
        "for i in range(data.shape[1]):\n",
        "  hyp_columns.append('b'+str(i))\n",
        "\n",
        "hyp_columns.append('labels')\n",
        "\n",
        "df = pd.DataFrame(combine,columns = hyp_columns)\n",
        "df.head()"
      ],
      "metadata": {
        "colab": {
          "base_uri": "https://localhost:8080/",
          "height": 299
        },
        "id": "BuT-GYS761PP",
        "outputId": "b1a0e9c6-c2b7-4aa4-cc28-380907fc5f89"
      },
      "execution_count": 6,
      "outputs": [
        {
          "output_type": "execute_result",
          "data": {
            "text/plain": [
              "         b0        b1        b2        b3        b4        b5        b6  \\\n",
              "0  0.968768  0.480151  0.095013  0.125597 -0.835529 -0.153065  0.340914   \n",
              "1  1.082063 -0.666886  0.457615 -0.932147  0.283993 -0.641161  0.513249   \n",
              "2  1.119685 -1.018529  0.641121 -1.340924  0.498481 -0.292635  0.437308   \n",
              "3  1.079131 -0.780896  0.465640 -0.886678  0.281052 -0.681895  0.634920   \n",
              "4  0.969944  0.111926 -0.030070 -0.163259 -0.706674 -0.974477  1.271296   \n",
              "\n",
              "         b7        b8        b9  ...       b21       b22       b23       b24  \\\n",
              "0 -0.808389  0.739768 -0.196726  ... -0.680243 -0.742375  0.309232  0.706960   \n",
              "1  0.639667 -1.369898  0.276044  ... -0.074711  0.634126  0.264466 -0.794392   \n",
              "2  0.546881  1.651552 -0.565767  ...  0.060651  0.936132  0.691308 -1.013655   \n",
              "3  0.624044 -0.905912  0.162279  ...  0.120929  0.673786  0.522048 -0.722938   \n",
              "4 -0.917720 -0.543372 -0.199309  ... -0.232870 -0.182736  0.318033  0.060125   \n",
              "\n",
              "        b25       b26       b27       b28       b29  labels  \n",
              "0 -0.505994  0.346319 -0.390967 -0.083083 -0.314441     3.0  \n",
              "1 -0.303542  1.126113 -0.518024 -1.700822  3.011178     3.0  \n",
              "2 -0.927224  0.821306  0.184328  0.833005 -0.370021     3.0  \n",
              "3 -0.164347  1.201609 -0.673626 -1.598063  2.643712     3.0  \n",
              "4 -0.217072  0.644748 -0.392546  0.256941  0.084382     3.0  \n",
              "\n",
              "[5 rows x 31 columns]"
            ],
            "text/html": [
              "\n",
              "  <div id=\"df-d4521a8e-62ba-478b-b7ac-5e29ba14d3ca\">\n",
              "    <div class=\"colab-df-container\">\n",
              "      <div>\n",
              "<style scoped>\n",
              "    .dataframe tbody tr th:only-of-type {\n",
              "        vertical-align: middle;\n",
              "    }\n",
              "\n",
              "    .dataframe tbody tr th {\n",
              "        vertical-align: top;\n",
              "    }\n",
              "\n",
              "    .dataframe thead th {\n",
              "        text-align: right;\n",
              "    }\n",
              "</style>\n",
              "<table border=\"1\" class=\"dataframe\">\n",
              "  <thead>\n",
              "    <tr style=\"text-align: right;\">\n",
              "      <th></th>\n",
              "      <th>b0</th>\n",
              "      <th>b1</th>\n",
              "      <th>b2</th>\n",
              "      <th>b3</th>\n",
              "      <th>b4</th>\n",
              "      <th>b5</th>\n",
              "      <th>b6</th>\n",
              "      <th>b7</th>\n",
              "      <th>b8</th>\n",
              "      <th>b9</th>\n",
              "      <th>...</th>\n",
              "      <th>b21</th>\n",
              "      <th>b22</th>\n",
              "      <th>b23</th>\n",
              "      <th>b24</th>\n",
              "      <th>b25</th>\n",
              "      <th>b26</th>\n",
              "      <th>b27</th>\n",
              "      <th>b28</th>\n",
              "      <th>b29</th>\n",
              "      <th>labels</th>\n",
              "    </tr>\n",
              "  </thead>\n",
              "  <tbody>\n",
              "    <tr>\n",
              "      <th>0</th>\n",
              "      <td>0.968768</td>\n",
              "      <td>0.480151</td>\n",
              "      <td>0.095013</td>\n",
              "      <td>0.125597</td>\n",
              "      <td>-0.835529</td>\n",
              "      <td>-0.153065</td>\n",
              "      <td>0.340914</td>\n",
              "      <td>-0.808389</td>\n",
              "      <td>0.739768</td>\n",
              "      <td>-0.196726</td>\n",
              "      <td>...</td>\n",
              "      <td>-0.680243</td>\n",
              "      <td>-0.742375</td>\n",
              "      <td>0.309232</td>\n",
              "      <td>0.706960</td>\n",
              "      <td>-0.505994</td>\n",
              "      <td>0.346319</td>\n",
              "      <td>-0.390967</td>\n",
              "      <td>-0.083083</td>\n",
              "      <td>-0.314441</td>\n",
              "      <td>3.0</td>\n",
              "    </tr>\n",
              "    <tr>\n",
              "      <th>1</th>\n",
              "      <td>1.082063</td>\n",
              "      <td>-0.666886</td>\n",
              "      <td>0.457615</td>\n",
              "      <td>-0.932147</td>\n",
              "      <td>0.283993</td>\n",
              "      <td>-0.641161</td>\n",
              "      <td>0.513249</td>\n",
              "      <td>0.639667</td>\n",
              "      <td>-1.369898</td>\n",
              "      <td>0.276044</td>\n",
              "      <td>...</td>\n",
              "      <td>-0.074711</td>\n",
              "      <td>0.634126</td>\n",
              "      <td>0.264466</td>\n",
              "      <td>-0.794392</td>\n",
              "      <td>-0.303542</td>\n",
              "      <td>1.126113</td>\n",
              "      <td>-0.518024</td>\n",
              "      <td>-1.700822</td>\n",
              "      <td>3.011178</td>\n",
              "      <td>3.0</td>\n",
              "    </tr>\n",
              "    <tr>\n",
              "      <th>2</th>\n",
              "      <td>1.119685</td>\n",
              "      <td>-1.018529</td>\n",
              "      <td>0.641121</td>\n",
              "      <td>-1.340924</td>\n",
              "      <td>0.498481</td>\n",
              "      <td>-0.292635</td>\n",
              "      <td>0.437308</td>\n",
              "      <td>0.546881</td>\n",
              "      <td>1.651552</td>\n",
              "      <td>-0.565767</td>\n",
              "      <td>...</td>\n",
              "      <td>0.060651</td>\n",
              "      <td>0.936132</td>\n",
              "      <td>0.691308</td>\n",
              "      <td>-1.013655</td>\n",
              "      <td>-0.927224</td>\n",
              "      <td>0.821306</td>\n",
              "      <td>0.184328</td>\n",
              "      <td>0.833005</td>\n",
              "      <td>-0.370021</td>\n",
              "      <td>3.0</td>\n",
              "    </tr>\n",
              "    <tr>\n",
              "      <th>3</th>\n",
              "      <td>1.079131</td>\n",
              "      <td>-0.780896</td>\n",
              "      <td>0.465640</td>\n",
              "      <td>-0.886678</td>\n",
              "      <td>0.281052</td>\n",
              "      <td>-0.681895</td>\n",
              "      <td>0.634920</td>\n",
              "      <td>0.624044</td>\n",
              "      <td>-0.905912</td>\n",
              "      <td>0.162279</td>\n",
              "      <td>...</td>\n",
              "      <td>0.120929</td>\n",
              "      <td>0.673786</td>\n",
              "      <td>0.522048</td>\n",
              "      <td>-0.722938</td>\n",
              "      <td>-0.164347</td>\n",
              "      <td>1.201609</td>\n",
              "      <td>-0.673626</td>\n",
              "      <td>-1.598063</td>\n",
              "      <td>2.643712</td>\n",
              "      <td>3.0</td>\n",
              "    </tr>\n",
              "    <tr>\n",
              "      <th>4</th>\n",
              "      <td>0.969944</td>\n",
              "      <td>0.111926</td>\n",
              "      <td>-0.030070</td>\n",
              "      <td>-0.163259</td>\n",
              "      <td>-0.706674</td>\n",
              "      <td>-0.974477</td>\n",
              "      <td>1.271296</td>\n",
              "      <td>-0.917720</td>\n",
              "      <td>-0.543372</td>\n",
              "      <td>-0.199309</td>\n",
              "      <td>...</td>\n",
              "      <td>-0.232870</td>\n",
              "      <td>-0.182736</td>\n",
              "      <td>0.318033</td>\n",
              "      <td>0.060125</td>\n",
              "      <td>-0.217072</td>\n",
              "      <td>0.644748</td>\n",
              "      <td>-0.392546</td>\n",
              "      <td>0.256941</td>\n",
              "      <td>0.084382</td>\n",
              "      <td>3.0</td>\n",
              "    </tr>\n",
              "  </tbody>\n",
              "</table>\n",
              "<p>5 rows × 31 columns</p>\n",
              "</div>\n",
              "      <button class=\"colab-df-convert\" onclick=\"convertToInteractive('df-d4521a8e-62ba-478b-b7ac-5e29ba14d3ca')\"\n",
              "              title=\"Convert this dataframe to an interactive table.\"\n",
              "              style=\"display:none;\">\n",
              "        \n",
              "  <svg xmlns=\"http://www.w3.org/2000/svg\" height=\"24px\"viewBox=\"0 0 24 24\"\n",
              "       width=\"24px\">\n",
              "    <path d=\"M0 0h24v24H0V0z\" fill=\"none\"/>\n",
              "    <path d=\"M18.56 5.44l.94 2.06.94-2.06 2.06-.94-2.06-.94-.94-2.06-.94 2.06-2.06.94zm-11 1L8.5 8.5l.94-2.06 2.06-.94-2.06-.94L8.5 2.5l-.94 2.06-2.06.94zm10 10l.94 2.06.94-2.06 2.06-.94-2.06-.94-.94-2.06-.94 2.06-2.06.94z\"/><path d=\"M17.41 7.96l-1.37-1.37c-.4-.4-.92-.59-1.43-.59-.52 0-1.04.2-1.43.59L10.3 9.45l-7.72 7.72c-.78.78-.78 2.05 0 2.83L4 21.41c.39.39.9.59 1.41.59.51 0 1.02-.2 1.41-.59l7.78-7.78 2.81-2.81c.8-.78.8-2.07 0-2.86zM5.41 20L4 18.59l7.72-7.72 1.47 1.35L5.41 20z\"/>\n",
              "  </svg>\n",
              "      </button>\n",
              "      \n",
              "  <style>\n",
              "    .colab-df-container {\n",
              "      display:flex;\n",
              "      flex-wrap:wrap;\n",
              "      gap: 12px;\n",
              "    }\n",
              "\n",
              "    .colab-df-convert {\n",
              "      background-color: #E8F0FE;\n",
              "      border: none;\n",
              "      border-radius: 50%;\n",
              "      cursor: pointer;\n",
              "      display: none;\n",
              "      fill: #1967D2;\n",
              "      height: 32px;\n",
              "      padding: 0 0 0 0;\n",
              "      width: 32px;\n",
              "    }\n",
              "\n",
              "    .colab-df-convert:hover {\n",
              "      background-color: #E2EBFA;\n",
              "      box-shadow: 0px 1px 2px rgba(60, 64, 67, 0.3), 0px 1px 3px 1px rgba(60, 64, 67, 0.15);\n",
              "      fill: #174EA6;\n",
              "    }\n",
              "\n",
              "    [theme=dark] .colab-df-convert {\n",
              "      background-color: #3B4455;\n",
              "      fill: #D2E3FC;\n",
              "    }\n",
              "\n",
              "    [theme=dark] .colab-df-convert:hover {\n",
              "      background-color: #434B5C;\n",
              "      box-shadow: 0px 1px 3px 1px rgba(0, 0, 0, 0.15);\n",
              "      filter: drop-shadow(0px 1px 2px rgba(0, 0, 0, 0.3));\n",
              "      fill: #FFFFFF;\n",
              "    }\n",
              "  </style>\n",
              "\n",
              "      <script>\n",
              "        const buttonEl =\n",
              "          document.querySelector('#df-d4521a8e-62ba-478b-b7ac-5e29ba14d3ca button.colab-df-convert');\n",
              "        buttonEl.style.display =\n",
              "          google.colab.kernel.accessAllowed ? 'block' : 'none';\n",
              "\n",
              "        async function convertToInteractive(key) {\n",
              "          const element = document.querySelector('#df-d4521a8e-62ba-478b-b7ac-5e29ba14d3ca');\n",
              "          const dataTable =\n",
              "            await google.colab.kernel.invokeFunction('convertToInteractive',\n",
              "                                                     [key], {});\n",
              "          if (!dataTable) return;\n",
              "\n",
              "          const docLinkHtml = 'Like what you see? Visit the ' +\n",
              "            '<a target=\"_blank\" href=https://colab.research.google.com/notebooks/data_table.ipynb>data table notebook</a>'\n",
              "            + ' to learn more about interactive tables.';\n",
              "          element.innerHTML = '';\n",
              "          dataTable['output_type'] = 'display_data';\n",
              "          await google.colab.output.renderOutput(dataTable, element);\n",
              "          const docLink = document.createElement('div');\n",
              "          docLink.innerHTML = docLinkHtml;\n",
              "          element.appendChild(docLink);\n",
              "        }\n",
              "      </script>\n",
              "    </div>\n",
              "  </div>\n",
              "  "
            ]
          },
          "metadata": {},
          "execution_count": 6
        }
      ]
    },
    {
      "cell_type": "code",
      "source": [
        "hyp_columns = hyp_columns[-1:] + hyp_columns[:-1]\n",
        "df = df[hyp_columns]\n",
        "df.head()"
      ],
      "metadata": {
        "colab": {
          "base_uri": "https://localhost:8080/",
          "height": 299
        },
        "id": "fD2iD8lp66dP",
        "outputId": "2aebe30f-d872-4ef2-d1e4-6b1f6bdfc044"
      },
      "execution_count": 7,
      "outputs": [
        {
          "output_type": "execute_result",
          "data": {
            "text/plain": [
              "   labels        b0        b1        b2        b3        b4        b5  \\\n",
              "0     3.0  0.968768  0.480151  0.095013  0.125597 -0.835529 -0.153065   \n",
              "1     3.0  1.082063 -0.666886  0.457615 -0.932147  0.283993 -0.641161   \n",
              "2     3.0  1.119685 -1.018529  0.641121 -1.340924  0.498481 -0.292635   \n",
              "3     3.0  1.079131 -0.780896  0.465640 -0.886678  0.281052 -0.681895   \n",
              "4     3.0  0.969944  0.111926 -0.030070 -0.163259 -0.706674 -0.974477   \n",
              "\n",
              "         b6        b7        b8  ...       b20       b21       b22       b23  \\\n",
              "0  0.340914 -0.808389  0.739768  ...  0.216976 -0.680243 -0.742375  0.309232   \n",
              "1  0.513249  0.639667 -1.369898  ...  0.196222 -0.074711  0.634126  0.264466   \n",
              "2  0.437308  0.546881  1.651552  ... -0.033171  0.060651  0.936132  0.691308   \n",
              "3  0.634920  0.624044 -0.905912  ...  0.069646  0.120929  0.673786  0.522048   \n",
              "4  1.271296 -0.917720 -0.543372  ...  0.211589 -0.232870 -0.182736  0.318033   \n",
              "\n",
              "        b24       b25       b26       b27       b28       b29  \n",
              "0  0.706960 -0.505994  0.346319 -0.390967 -0.083083 -0.314441  \n",
              "1 -0.794392 -0.303542  1.126113 -0.518024 -1.700822  3.011178  \n",
              "2 -1.013655 -0.927224  0.821306  0.184328  0.833005 -0.370021  \n",
              "3 -0.722938 -0.164347  1.201609 -0.673626 -1.598063  2.643712  \n",
              "4  0.060125 -0.217072  0.644748 -0.392546  0.256941  0.084382  \n",
              "\n",
              "[5 rows x 31 columns]"
            ],
            "text/html": [
              "\n",
              "  <div id=\"df-ab1afa79-3af2-4694-9ed4-602b54f52c61\">\n",
              "    <div class=\"colab-df-container\">\n",
              "      <div>\n",
              "<style scoped>\n",
              "    .dataframe tbody tr th:only-of-type {\n",
              "        vertical-align: middle;\n",
              "    }\n",
              "\n",
              "    .dataframe tbody tr th {\n",
              "        vertical-align: top;\n",
              "    }\n",
              "\n",
              "    .dataframe thead th {\n",
              "        text-align: right;\n",
              "    }\n",
              "</style>\n",
              "<table border=\"1\" class=\"dataframe\">\n",
              "  <thead>\n",
              "    <tr style=\"text-align: right;\">\n",
              "      <th></th>\n",
              "      <th>labels</th>\n",
              "      <th>b0</th>\n",
              "      <th>b1</th>\n",
              "      <th>b2</th>\n",
              "      <th>b3</th>\n",
              "      <th>b4</th>\n",
              "      <th>b5</th>\n",
              "      <th>b6</th>\n",
              "      <th>b7</th>\n",
              "      <th>b8</th>\n",
              "      <th>...</th>\n",
              "      <th>b20</th>\n",
              "      <th>b21</th>\n",
              "      <th>b22</th>\n",
              "      <th>b23</th>\n",
              "      <th>b24</th>\n",
              "      <th>b25</th>\n",
              "      <th>b26</th>\n",
              "      <th>b27</th>\n",
              "      <th>b28</th>\n",
              "      <th>b29</th>\n",
              "    </tr>\n",
              "  </thead>\n",
              "  <tbody>\n",
              "    <tr>\n",
              "      <th>0</th>\n",
              "      <td>3.0</td>\n",
              "      <td>0.968768</td>\n",
              "      <td>0.480151</td>\n",
              "      <td>0.095013</td>\n",
              "      <td>0.125597</td>\n",
              "      <td>-0.835529</td>\n",
              "      <td>-0.153065</td>\n",
              "      <td>0.340914</td>\n",
              "      <td>-0.808389</td>\n",
              "      <td>0.739768</td>\n",
              "      <td>...</td>\n",
              "      <td>0.216976</td>\n",
              "      <td>-0.680243</td>\n",
              "      <td>-0.742375</td>\n",
              "      <td>0.309232</td>\n",
              "      <td>0.706960</td>\n",
              "      <td>-0.505994</td>\n",
              "      <td>0.346319</td>\n",
              "      <td>-0.390967</td>\n",
              "      <td>-0.083083</td>\n",
              "      <td>-0.314441</td>\n",
              "    </tr>\n",
              "    <tr>\n",
              "      <th>1</th>\n",
              "      <td>3.0</td>\n",
              "      <td>1.082063</td>\n",
              "      <td>-0.666886</td>\n",
              "      <td>0.457615</td>\n",
              "      <td>-0.932147</td>\n",
              "      <td>0.283993</td>\n",
              "      <td>-0.641161</td>\n",
              "      <td>0.513249</td>\n",
              "      <td>0.639667</td>\n",
              "      <td>-1.369898</td>\n",
              "      <td>...</td>\n",
              "      <td>0.196222</td>\n",
              "      <td>-0.074711</td>\n",
              "      <td>0.634126</td>\n",
              "      <td>0.264466</td>\n",
              "      <td>-0.794392</td>\n",
              "      <td>-0.303542</td>\n",
              "      <td>1.126113</td>\n",
              "      <td>-0.518024</td>\n",
              "      <td>-1.700822</td>\n",
              "      <td>3.011178</td>\n",
              "    </tr>\n",
              "    <tr>\n",
              "      <th>2</th>\n",
              "      <td>3.0</td>\n",
              "      <td>1.119685</td>\n",
              "      <td>-1.018529</td>\n",
              "      <td>0.641121</td>\n",
              "      <td>-1.340924</td>\n",
              "      <td>0.498481</td>\n",
              "      <td>-0.292635</td>\n",
              "      <td>0.437308</td>\n",
              "      <td>0.546881</td>\n",
              "      <td>1.651552</td>\n",
              "      <td>...</td>\n",
              "      <td>-0.033171</td>\n",
              "      <td>0.060651</td>\n",
              "      <td>0.936132</td>\n",
              "      <td>0.691308</td>\n",
              "      <td>-1.013655</td>\n",
              "      <td>-0.927224</td>\n",
              "      <td>0.821306</td>\n",
              "      <td>0.184328</td>\n",
              "      <td>0.833005</td>\n",
              "      <td>-0.370021</td>\n",
              "    </tr>\n",
              "    <tr>\n",
              "      <th>3</th>\n",
              "      <td>3.0</td>\n",
              "      <td>1.079131</td>\n",
              "      <td>-0.780896</td>\n",
              "      <td>0.465640</td>\n",
              "      <td>-0.886678</td>\n",
              "      <td>0.281052</td>\n",
              "      <td>-0.681895</td>\n",
              "      <td>0.634920</td>\n",
              "      <td>0.624044</td>\n",
              "      <td>-0.905912</td>\n",
              "      <td>...</td>\n",
              "      <td>0.069646</td>\n",
              "      <td>0.120929</td>\n",
              "      <td>0.673786</td>\n",
              "      <td>0.522048</td>\n",
              "      <td>-0.722938</td>\n",
              "      <td>-0.164347</td>\n",
              "      <td>1.201609</td>\n",
              "      <td>-0.673626</td>\n",
              "      <td>-1.598063</td>\n",
              "      <td>2.643712</td>\n",
              "    </tr>\n",
              "    <tr>\n",
              "      <th>4</th>\n",
              "      <td>3.0</td>\n",
              "      <td>0.969944</td>\n",
              "      <td>0.111926</td>\n",
              "      <td>-0.030070</td>\n",
              "      <td>-0.163259</td>\n",
              "      <td>-0.706674</td>\n",
              "      <td>-0.974477</td>\n",
              "      <td>1.271296</td>\n",
              "      <td>-0.917720</td>\n",
              "      <td>-0.543372</td>\n",
              "      <td>...</td>\n",
              "      <td>0.211589</td>\n",
              "      <td>-0.232870</td>\n",
              "      <td>-0.182736</td>\n",
              "      <td>0.318033</td>\n",
              "      <td>0.060125</td>\n",
              "      <td>-0.217072</td>\n",
              "      <td>0.644748</td>\n",
              "      <td>-0.392546</td>\n",
              "      <td>0.256941</td>\n",
              "      <td>0.084382</td>\n",
              "    </tr>\n",
              "  </tbody>\n",
              "</table>\n",
              "<p>5 rows × 31 columns</p>\n",
              "</div>\n",
              "      <button class=\"colab-df-convert\" onclick=\"convertToInteractive('df-ab1afa79-3af2-4694-9ed4-602b54f52c61')\"\n",
              "              title=\"Convert this dataframe to an interactive table.\"\n",
              "              style=\"display:none;\">\n",
              "        \n",
              "  <svg xmlns=\"http://www.w3.org/2000/svg\" height=\"24px\"viewBox=\"0 0 24 24\"\n",
              "       width=\"24px\">\n",
              "    <path d=\"M0 0h24v24H0V0z\" fill=\"none\"/>\n",
              "    <path d=\"M18.56 5.44l.94 2.06.94-2.06 2.06-.94-2.06-.94-.94-2.06-.94 2.06-2.06.94zm-11 1L8.5 8.5l.94-2.06 2.06-.94-2.06-.94L8.5 2.5l-.94 2.06-2.06.94zm10 10l.94 2.06.94-2.06 2.06-.94-2.06-.94-.94-2.06-.94 2.06-2.06.94z\"/><path d=\"M17.41 7.96l-1.37-1.37c-.4-.4-.92-.59-1.43-.59-.52 0-1.04.2-1.43.59L10.3 9.45l-7.72 7.72c-.78.78-.78 2.05 0 2.83L4 21.41c.39.39.9.59 1.41.59.51 0 1.02-.2 1.41-.59l7.78-7.78 2.81-2.81c.8-.78.8-2.07 0-2.86zM5.41 20L4 18.59l7.72-7.72 1.47 1.35L5.41 20z\"/>\n",
              "  </svg>\n",
              "      </button>\n",
              "      \n",
              "  <style>\n",
              "    .colab-df-container {\n",
              "      display:flex;\n",
              "      flex-wrap:wrap;\n",
              "      gap: 12px;\n",
              "    }\n",
              "\n",
              "    .colab-df-convert {\n",
              "      background-color: #E8F0FE;\n",
              "      border: none;\n",
              "      border-radius: 50%;\n",
              "      cursor: pointer;\n",
              "      display: none;\n",
              "      fill: #1967D2;\n",
              "      height: 32px;\n",
              "      padding: 0 0 0 0;\n",
              "      width: 32px;\n",
              "    }\n",
              "\n",
              "    .colab-df-convert:hover {\n",
              "      background-color: #E2EBFA;\n",
              "      box-shadow: 0px 1px 2px rgba(60, 64, 67, 0.3), 0px 1px 3px 1px rgba(60, 64, 67, 0.15);\n",
              "      fill: #174EA6;\n",
              "    }\n",
              "\n",
              "    [theme=dark] .colab-df-convert {\n",
              "      background-color: #3B4455;\n",
              "      fill: #D2E3FC;\n",
              "    }\n",
              "\n",
              "    [theme=dark] .colab-df-convert:hover {\n",
              "      background-color: #434B5C;\n",
              "      box-shadow: 0px 1px 3px 1px rgba(0, 0, 0, 0.15);\n",
              "      filter: drop-shadow(0px 1px 2px rgba(0, 0, 0, 0.3));\n",
              "      fill: #FFFFFF;\n",
              "    }\n",
              "  </style>\n",
              "\n",
              "      <script>\n",
              "        const buttonEl =\n",
              "          document.querySelector('#df-ab1afa79-3af2-4694-9ed4-602b54f52c61 button.colab-df-convert');\n",
              "        buttonEl.style.display =\n",
              "          google.colab.kernel.accessAllowed ? 'block' : 'none';\n",
              "\n",
              "        async function convertToInteractive(key) {\n",
              "          const element = document.querySelector('#df-ab1afa79-3af2-4694-9ed4-602b54f52c61');\n",
              "          const dataTable =\n",
              "            await google.colab.kernel.invokeFunction('convertToInteractive',\n",
              "                                                     [key], {});\n",
              "          if (!dataTable) return;\n",
              "\n",
              "          const docLinkHtml = 'Like what you see? Visit the ' +\n",
              "            '<a target=\"_blank\" href=https://colab.research.google.com/notebooks/data_table.ipynb>data table notebook</a>'\n",
              "            + ' to learn more about interactive tables.';\n",
              "          element.innerHTML = '';\n",
              "          dataTable['output_type'] = 'display_data';\n",
              "          await google.colab.output.renderOutput(dataTable, element);\n",
              "          const docLink = document.createElement('div');\n",
              "          docLink.innerHTML = docLinkHtml;\n",
              "          element.appendChild(docLink);\n",
              "        }\n",
              "      </script>\n",
              "    </div>\n",
              "  </div>\n",
              "  "
            ]
          },
          "metadata": {},
          "execution_count": 7
        }
      ]
    },
    {
      "cell_type": "code",
      "source": [
        "class NeuralNetwork:\n",
        "\n",
        "\n",
        "\n",
        "    def __init__(self, input_size, hidden_size, output_size):\n",
        "        self.input_size = input_size\n",
        "        self.hidden_size = hidden_size\n",
        "        self.output_size = output_size\n",
        "\n",
        "        # Initialize weights and biases\n",
        "        self.W1 = np.random.randn(self.input_size, self.hidden_size) * 0.01\n",
        "        self.b1 = np.zeros((1, self.hidden_size))\n",
        "        self.W2 = np.random.randn(self.hidden_size, self.output_size) * 0.01\n",
        "        self.b2 = np.zeros((1, self.output_size))\n",
        "\n",
        "    def forward(self, X):\n",
        "        # Forward pass\n",
        "        self.z1 = np.dot(X, self.W1) + self.b1\n",
        "        self.a1 = np.maximum(0, self.z1)  # ReLU activation\n",
        "        self.z2 = np.dot(self.a1, self.W2) + self.b2\n",
        "        self.a2 = np.exp(self.z2 - np.max(self.z2, axis=1, keepdims=True))  # Softmax activation\n",
        "        self.a2 /= np.sum(self.a2, axis=1, keepdims=True)\n",
        "        return self.a2\n",
        "\n",
        "    def backward(self, X, y, learning_rate):\n",
        "        # Backward pass\n",
        "        m = X.shape[0]\n",
        "\n",
        "        dZ2 = self.a2\n",
        "        dZ2[range(m), y.astype(int)] -= 1\n",
        "        dZ2 /= m\n",
        "\n",
        "        dW2 = np.dot(self.a1.T, dZ2)\n",
        "        db2 = np.sum(dZ2, axis=0)\n",
        "\n",
        "        dA1 = np.dot(dZ2, self.W2.T)\n",
        "        dZ1 = dA1 * (self.a1 > 0)  # ReLU derivative\n",
        "\n",
        "        dW1 = np.dot(X.T, dZ1)\n",
        "        db1 = np.sum(dZ1, axis=0)\n",
        "\n",
        "        # Update weights and biases\n",
        "        self.W2 -= learning_rate * dW2\n",
        "        self.b2 -= learning_rate * db2\n",
        "        self.W1 -= learning_rate * dW1\n",
        "        self.b1 -= learning_rate * db1\n",
        "\n",
        "    def train(self, X, y, epochs, learning_rate):\n",
        "        epsilon = 1e-8\n",
        "        for epoch in range(epochs):\n",
        "            # Forward pass\n",
        "            a2 = self.forward(X)\n",
        "\n",
        "            # Compute loss\n",
        "            loss = -np.sum(np.log(a2[range(X.shape[0]), y.astype(int)]+epsilon)) / X.shape[0]\n",
        "\n",
        "            # Backward pass\n",
        "            self.backward(X, y, learning_rate)\n",
        "\n",
        "            # Print loss\n",
        "            if (epoch+1) % 100 == 0:\n",
        "              print(f'Epoch {epoch}, Loss: {loss:.4f}')\n",
        "\n",
        "    def predict(self, X):\n",
        "        # Predict class labels\n",
        "        a2 = self.forward(X)\n",
        "        y_pred = np.argmax(a2, axis=1)\n",
        "        return y_pred\n"
      ],
      "metadata": {
        "id": "T132EuqZ7M75"
      },
      "execution_count": 8,
      "outputs": []
    },
    {
      "cell_type": "code",
      "source": [
        "def sampling(tdata,val):\n",
        "    len1= int(len(tdata)*val)\n",
        "    t1 = tdata.sample(frac=1)\n",
        "    val_data = t1.iloc[0:len1,:]\n",
        "    train = t1.iloc[len1:,:]\n",
        "    return val_data,train"
      ],
      "metadata": {
        "id": "djt1dP6y7PeI"
      },
      "execution_count": 9,
      "outputs": []
    },
    {
      "cell_type": "code",
      "source": [
        "\n",
        "model_net = []\n",
        "for i in range(5):\n",
        "    validation,train_data = sampling(df,0.2)\n",
        "    v_data = validation.iloc[:,1:]\n",
        "    v_label = validation.iloc[:,0]\n",
        "    x_data = train_data.iloc[:,1:]\n",
        "    y_data = train_data.iloc[:,0]\n",
        "    nn = NeuralNetwork(x_data.shape[1],128,17)\n",
        "    nn.train(x_data,y_data,500,1)\n",
        "    model_net.append(nn)"
      ],
      "metadata": {
        "colab": {
          "base_uri": "https://localhost:8080/"
        },
        "id": "Tio8aGyK7i6P",
        "outputId": "2e3c4f99-9c10-44bf-cea5-8bfade796479"
      },
      "execution_count": 13,
      "outputs": [
        {
          "output_type": "stream",
          "name": "stdout",
          "text": [
            "Epoch 99, Loss: 0.8745\n",
            "Epoch 199, Loss: 0.8026\n",
            "Epoch 299, Loss: 0.7357\n",
            "Epoch 399, Loss: 0.6875\n",
            "Epoch 499, Loss: 0.6529\n",
            "Epoch 99, Loss: 0.8791\n",
            "Epoch 199, Loss: 0.7988\n",
            "Epoch 299, Loss: 0.7269\n",
            "Epoch 399, Loss: 0.6789\n",
            "Epoch 499, Loss: 0.6454\n",
            "Epoch 99, Loss: 0.8655\n",
            "Epoch 199, Loss: 0.7907\n",
            "Epoch 299, Loss: 0.7249\n",
            "Epoch 399, Loss: 0.6810\n",
            "Epoch 499, Loss: 0.6481\n",
            "Epoch 99, Loss: 0.8747\n",
            "Epoch 199, Loss: 0.7975\n",
            "Epoch 299, Loss: 0.7286\n",
            "Epoch 399, Loss: 0.6816\n",
            "Epoch 499, Loss: 0.6481\n",
            "Epoch 99, Loss: 0.8782\n",
            "Epoch 199, Loss: 0.8023\n",
            "Epoch 299, Loss: 0.7345\n",
            "Epoch 399, Loss: 0.6893\n",
            "Epoch 499, Loss: 0.6548\n"
          ]
        }
      ]
    },
    {
      "cell_type": "code",
      "source": [
        "from sklearn.metrics import accuracy_score\n",
        "\n",
        "y_pred1 = []\n",
        "label_op1 = []\n",
        "for i in range(len(v_data)):\n",
        "  input = v_data.iloc[i]\n",
        "  for model in model_net:\n",
        "      prediction1 = model.predict(input)\n",
        "      label_op1.append(prediction1)\n",
        "  max = 0\n",
        "  res1 = label_op1[0]\n",
        "  for i in label_op1:\n",
        "      freq1 = label_op1.count(i)\n",
        "      if freq1 > max:\n",
        "          max = freq1\n",
        "          res1 = i\n",
        "  label_op1.clear()\n",
        "  y_pred1.append(res1)      \n",
        "# print(y_pred)\n",
        "\n",
        "cm2 = accuracy_score(v_label,y_pred1)\n",
        "print(cm2)"
      ],
      "metadata": {
        "colab": {
          "base_uri": "https://localhost:8080/"
        },
        "id": "BgvHMyOkFWJk",
        "outputId": "b32153b9-38ee-4a93-bc46-d463ffe0aed6"
      },
      "execution_count": 21,
      "outputs": [
        {
          "output_type": "stream",
          "name": "stdout",
          "text": [
            "0.7536266349583829\n"
          ]
        }
      ]
    },
    {
      "cell_type": "code",
      "source": [
        "from sklearn.metrics import accuracy_score\n",
        "\n",
        "y_pred = []\n",
        "label_op = []\n",
        "for i in range(len(data)):\n",
        "  input = data[i]\n",
        "  for model in model_net:\n",
        "      prediction = model.predict(input)\n",
        "      label_op.append(prediction)\n",
        "  max = 0\n",
        "  res = label_op[0]\n",
        "  for i in label_op:\n",
        "      freq = label_op.count(i)\n",
        "      if freq > max:\n",
        "          max = freq\n",
        "          res = i\n",
        "  label_op.clear()\n",
        "  y_pred.append(res)      \n",
        "# print(y_pred)\n",
        "\n",
        "cm1 = accuracy_score(labels,y_pred)\n",
        "print(cm1)"
      ],
      "metadata": {
        "colab": {
          "base_uri": "https://localhost:8080/"
        },
        "id": "RWQKrrN-7m_c",
        "outputId": "70b8c4fd-99e2-4a57-eb21-974dd818fbff"
      },
      "execution_count": 14,
      "outputs": [
        {
          "output_type": "stream",
          "name": "stdout",
          "text": [
            "0.7643281807372176\n"
          ]
        }
      ]
    },
    {
      "cell_type": "code",
      "source": [
        "np.unique(y_pred, return_counts=True)"
      ],
      "metadata": {
        "colab": {
          "base_uri": "https://localhost:8080/"
        },
        "id": "RlS053rp99kt",
        "outputId": "8239495c-7666-4563-e540-b033c4ea668a"
      },
      "execution_count": 15,
      "outputs": [
        {
          "output_type": "execute_result",
          "data": {
            "text/plain": [
              "(array([ 0,  1,  2,  3,  4,  5,  6,  7,  8, 10, 11, 12, 13, 14, 15, 16]),\n",
              " array([9618,   33, 1599,  588,  112,  441,  834,   12,  596,  939, 3451,\n",
              "         619,  224, 1808,   37,  114]))"
            ]
          },
          "metadata": {},
          "execution_count": 15
        }
      ]
    },
    {
      "cell_type": "code",
      "source": [
        "arr = np.array(y_pred)\n",
        "arr.shape"
      ],
      "metadata": {
        "colab": {
          "base_uri": "https://localhost:8080/"
        },
        "id": "m3bejDz694Ez",
        "outputId": "1859bb4c-652b-4734-aea0-68b7e10bc847"
      },
      "execution_count": 16,
      "outputs": [
        {
          "output_type": "execute_result",
          "data": {
            "text/plain": [
              "(21025, 1)"
            ]
          },
          "metadata": {},
          "execution_count": 16
        }
      ]
    },
    {
      "cell_type": "code",
      "source": [
        "actual_labels = gt_data[sorted(gt_data.keys())[-1]]"
      ],
      "metadata": {
        "id": "OXqu-oAD_YfV"
      },
      "execution_count": 17,
      "outputs": []
    },
    {
      "cell_type": "code",
      "source": [
        "# reshape y_pred to match the shape of the original image\n",
        "y_pred_2d = np.reshape(y_pred, (145,145))\n",
        "\n",
        "# # display the original image and the predicted labels side by side\n",
        "\n",
        "\n",
        "plt.figure(1)\n",
        "fig, axs = plt.subplots(1, 3, figsize=(10, 5))\n",
        "\n",
        "# rest of the code for creating subplots and displaying images\n",
        "\n",
        "# display the original image\n",
        "axs[0].imshow(data.reshape(145,145,30)[:,:,0], cmap='gray')\n",
        "axs[0].set_title('Original Image')\n",
        "\n",
        "# display the predicted labels as a 2D image\n",
        "im = axs[1].imshow(y_pred_2d, cmap='twilight')\n",
        "axs[1].set_title('Predicted Labels')\n",
        "cbar = fig.colorbar(im, ax=axs.ravel().tolist())\n",
        "\n",
        "im = axs[2].imshow(actual_labels, cmap='twilight')\n",
        "axs[1].set_title('Actual Labels')\n",
        "\n",
        "# plt.legend(label_cols)\n",
        "plt.show()\n"
      ],
      "metadata": {
        "colab": {
          "base_uri": "https://localhost:8080/",
          "height": 452
        },
        "id": "R3_p_8eD9lSi",
        "outputId": "38bfbf44-097e-4578-b83d-2398dff6b553"
      },
      "execution_count": 19,
      "outputs": [
        {
          "output_type": "display_data",
          "data": {
            "text/plain": [
              "<Figure size 640x480 with 0 Axes>"
            ]
          },
          "metadata": {}
        },
        {
          "output_type": "display_data",
          "data": {
            "text/plain": [
              "<Figure size 1000x500 with 4 Axes>"
            ],
            "image/png": "[encoded data removed]"
          },
          "metadata": {}
        }
      ]
    },
    {
      "cell_type": "code",
      "source": [],
      "metadata": {
        "id": "2GDD8UAE9mFh"
      },
      "execution_count": null,
      "outputs": []
    }
  ]
}