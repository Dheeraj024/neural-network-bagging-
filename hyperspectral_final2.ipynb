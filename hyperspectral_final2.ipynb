{
  "nbformat": 4,
  "nbformat_minor": 0,
  "metadata": {
    "colab": {
      "provenance": [],
      "include_colab_link": true
    },
    "kernelspec": {
      "name": "python3",
      "display_name": "Python 3"
    },
    "language_info": {
      "name": "python"
    }
  },
  "cells": [
    {
      "cell_type": "markdown",
      "metadata": {
        "id": "view-in-github",
        "colab_type": "text"
      },
      "source": [
        "<a href=\"https://colab.research.google.com/github/Dheeraj024/neural-network-bagging-/blob/main/hyperspectral_final2.ipynb\" target=\"_parent\"><img src=\"https://colab.research.google.com/assets/colab-badge.svg\" alt=\"Open In Colab\"/></a>"
      ]
    },
    {
      "cell_type": "code",
      "execution_count": 1,
      "metadata": {
        "id": "nU550uH9iu2z"
      },
      "outputs": [],
      "source": [
        "import numpy as np\n",
        "import pandas as pd\n",
        "import scipy.io as sio\n",
        "import matplotlib.pyplot as plt\n",
        "from sklearn.decomposition import PCA"
      ]
    },
    {
      "cell_type": "code",
      "source": [
        "hyp_data = sio.loadmat(\"Indian_pines_corrected.mat\")\n",
        "gt_data = sio.loadmat(\"Indian_pines_gt.mat\")"
      ],
      "metadata": {
        "id": "yhq7srFfjvyY"
      },
      "execution_count": 2,
      "outputs": []
    },
    {
      "cell_type": "code",
      "source": [
        "data = hyp_data[sorted(hyp_data.keys())[-1]]"
      ],
      "metadata": {
        "id": "7g3TpO1QkAbc"
      },
      "execution_count": 3,
      "outputs": []
    },
    {
      "cell_type": "code",
      "source": [
        "def applyPCA(X, n_components=30, seed=1):\n",
        "    newX = np.reshape(X, (-1, X.shape[2]))\n",
        "    pca = PCA(n_components=n_components, whiten=True, random_state=seed)\n",
        "    newX = pca.fit_transform(newX)\n",
        "    newX = np.reshape(newX, (X.shape[0], X.shape[1], n_components))\n",
        "    return newX\n",
        "\n",
        "\n",
        "# def applyPCA(X, n_components=30, seed=1):\n",
        "#     # Reshape input data to 2D array\n",
        "#     X_reshape = X.reshape(-1, X.shape[2])\n",
        "    \n",
        "#     # Center the data\n",
        "#     X_mean = np.mean(X_reshape, axis=0)\n",
        "#     X_centered = X_reshape - X_mean\n",
        "    \n",
        "#     # Compute covariance matrix and eigenvalues/eigenvectors\n",
        "#     cov = np.cov(X_centered.T)\n",
        "#     eigvals, eigvecs = np.linalg.eigh(cov)\n",
        "    \n",
        "#     # Sort eigenvalues in decreasing order and select top n_components eigenvectors\n",
        "#     eigvals_sorted = np.flip(eigvals.argsort())\n",
        "#     eigvecs_sorted = eigvecs[:, eigvals_sorted[:n_components]]\n",
        "    \n",
        "#     # Project data onto eigenvectors\n",
        "#     newX = np.dot(X_centered, eigvecs_sorted)\n",
        "    \n",
        "#     # Reshape projected data back to original shape\n",
        "#     newX = newX.reshape(X.shape[0], X.shape[1], n_components)\n",
        "    \n",
        "#     return newX\n",
        "\n",
        "\n"
      ],
      "metadata": {
        "id": "UeGpTC3aV3lj"
      },
      "execution_count": 4,
      "outputs": []
    },
    {
      "cell_type": "code",
      "source": [
        "data = applyPCA(data)\n",
        "data.shape"
      ],
      "metadata": {
        "colab": {
          "base_uri": "https://localhost:8080/"
        },
        "id": "9GAVgsL_VqYu",
        "outputId": "8d4e21cb-e6ec-432b-bbf0-8133ebe9dd08"
      },
      "execution_count": 5,
      "outputs": [
        {
          "output_type": "execute_result",
          "data": {
            "text/plain": [
              "(145, 145, 30)"
            ]
          },
          "metadata": {},
          "execution_count": 5
        }
      ]
    },
    {
      "cell_type": "code",
      "source": [
        "labels = gt_data[sorted(gt_data.keys())[-1]]"
      ],
      "metadata": {
        "id": "wPUjZAKAkk3H"
      },
      "execution_count": 6,
      "outputs": []
    },
    {
      "cell_type": "code",
      "source": [
        "print(data.shape)\n",
        "print(labels.shape)"
      ],
      "metadata": {
        "colab": {
          "base_uri": "https://localhost:8080/"
        },
        "id": "GDOQ3-Omks4c",
        "outputId": "d48b1dc1-ff37-45d6-b9f1-c092cc09eafd"
      },
      "execution_count": 7,
      "outputs": [
        {
          "output_type": "stream",
          "name": "stdout",
          "text": [
            "(145, 145, 30)\n",
            "(145, 145)\n"
          ]
        }
      ]
    },
    {
      "cell_type": "code",
      "source": [
        "data = data.reshape(data.shape[0]*data.shape[1],data.shape[2])\n",
        "data.shape"
      ],
      "metadata": {
        "colab": {
          "base_uri": "https://localhost:8080/"
        },
        "id": "YiVDxcjukzqr",
        "outputId": "ca788822-8cbc-411b-f361-21998ba1ee6e"
      },
      "execution_count": 8,
      "outputs": [
        {
          "output_type": "execute_result",
          "data": {
            "text/plain": [
              "(21025, 30)"
            ]
          },
          "metadata": {},
          "execution_count": 8
        }
      ]
    },
    {
      "cell_type": "code",
      "source": [
        "labels = labels.reshape(-1,1)\n",
        "labels.shape"
      ],
      "metadata": {
        "colab": {
          "base_uri": "https://localhost:8080/"
        },
        "id": "rxw4_aXPlZp9",
        "outputId": "9d7b97e3-a367-467a-8b3a-6ea75edd3303"
      },
      "execution_count": 9,
      "outputs": [
        {
          "output_type": "execute_result",
          "data": {
            "text/plain": [
              "(21025, 1)"
            ]
          },
          "metadata": {},
          "execution_count": 9
        }
      ]
    },
    {
      "cell_type": "code",
      "source": [
        "combine = np.concatenate((data,labels),axis=1)\n",
        "combine"
      ],
      "metadata": {
        "colab": {
          "base_uri": "https://localhost:8080/"
        },
        "id": "JKnH3HgVllIM",
        "outputId": "afd8e4b1-7207-4e1c-cf54-fc7a3c4c773d"
      },
      "execution_count": 10,
      "outputs": [
        {
          "output_type": "execute_result",
          "data": {
            "text/plain": [
              "array([[ 0.96876849,  0.4801512 ,  0.09501285, ..., -0.08308338,\n",
              "        -0.3144414 ,  3.        ],\n",
              "       [ 1.08206297, -0.66688618,  0.45761543, ..., -1.70082187,\n",
              "         3.01117831,  3.        ],\n",
              "       [ 1.11968468, -1.01852852,  0.64112087, ...,  0.83300539,\n",
              "        -0.37002131,  3.        ],\n",
              "       ...,\n",
              "       [-1.42368833, -0.37320899,  0.52039646, ...,  0.37675531,\n",
              "         1.08857678,  0.        ],\n",
              "       [-1.255093  ,  0.26308297,  0.88456889, ...,  0.01608009,\n",
              "        -0.01004176,  0.        ],\n",
              "       [-1.26926721,  0.11428131,  0.60833014, ...,  0.53927323,\n",
              "         0.54789815,  0.        ]])"
            ]
          },
          "metadata": {},
          "execution_count": 10
        }
      ]
    },
    {
      "cell_type": "code",
      "source": [
        "combine = np.delete(combine,np.where(combine[:,-1]==0),axis=0)"
      ],
      "metadata": {
        "id": "iBbgl8G1lyvj"
      },
      "execution_count": 11,
      "outputs": []
    },
    {
      "cell_type": "code",
      "source": [
        "combine"
      ],
      "metadata": {
        "colab": {
          "base_uri": "https://localhost:8080/"
        },
        "id": "mJo0bEhkmk-m",
        "outputId": "809f0aec-23e3-4bff-f670-d66025896a4b"
      },
      "execution_count": 12,
      "outputs": [
        {
          "output_type": "execute_result",
          "data": {
            "text/plain": [
              "array([[ 0.96876849,  0.4801512 ,  0.09501285, ..., -0.08308338,\n",
              "        -0.3144414 ,  3.        ],\n",
              "       [ 1.08206297, -0.66688618,  0.45761543, ..., -1.70082187,\n",
              "         3.01117831,  3.        ],\n",
              "       [ 1.11968468, -1.01852852,  0.64112087, ...,  0.83300539,\n",
              "        -0.37002131,  3.        ],\n",
              "       ...,\n",
              "       [ 0.78190925, -0.06725478, -0.82645118, ...,  0.47676664,\n",
              "         0.10542668, 10.        ],\n",
              "       [ 0.84842986, -0.14102249, -0.78848811, ...,  0.56100352,\n",
              "         0.1365349 , 10.        ],\n",
              "       [ 0.90907877, -0.15120964, -0.76338284, ...,  0.55151822,\n",
              "         0.14988625, 10.        ]])"
            ]
          },
          "metadata": {},
          "execution_count": 12
        }
      ]
    },
    {
      "cell_type": "code",
      "source": [
        "hyp_columns = []\n",
        "for i in range(data.shape[1]):\n",
        "  hyp_columns.append('b'+str(i))\n",
        "\n",
        "hyp_columns.append('labels')"
      ],
      "metadata": {
        "id": "Gr1JyRU-ml_n"
      },
      "execution_count": 13,
      "outputs": []
    },
    {
      "cell_type": "code",
      "source": [
        "combine.shape"
      ],
      "metadata": {
        "colab": {
          "base_uri": "https://localhost:8080/"
        },
        "id": "U9QKIN7SW_eq",
        "outputId": "f7ac14f4-e005-428c-e3d2-49dd34349a29"
      },
      "execution_count": 14,
      "outputs": [
        {
          "output_type": "execute_result",
          "data": {
            "text/plain": [
              "(10249, 31)"
            ]
          },
          "metadata": {},
          "execution_count": 14
        }
      ]
    },
    {
      "cell_type": "code",
      "source": [
        "df = pd.DataFrame(combine,columns = hyp_columns)\n",
        "df.head()"
      ],
      "metadata": {
        "colab": {
          "base_uri": "https://localhost:8080/",
          "height": 299
        },
        "id": "ddU1twaKnNHs",
        "outputId": "07b59958-46a4-4918-c827-ff0830d2cfea"
      },
      "execution_count": 15,
      "outputs": [
        {
          "output_type": "execute_result",
          "data": {
            "text/plain": [
              "         b0        b1        b2        b3        b4        b5        b6  \\\n",
              "0  0.968768  0.480151  0.095013  0.125597 -0.835529 -0.153065  0.340914   \n",
              "1  1.082063 -0.666886  0.457615 -0.932147  0.283993 -0.641161  0.513249   \n",
              "2  1.119685 -1.018529  0.641121 -1.340924  0.498481 -0.292635  0.437308   \n",
              "3  1.079131 -0.780896  0.465640 -0.886678  0.281052 -0.681895  0.634920   \n",
              "4  0.969944  0.111926 -0.030070 -0.163259 -0.706674 -0.974477  1.271296   \n",
              "\n",
              "         b7        b8        b9  ...       b21       b22       b23       b24  \\\n",
              "0 -0.808389  0.739768 -0.196726  ... -0.680243 -0.742375  0.309232  0.706960   \n",
              "1  0.639667 -1.369898  0.276044  ... -0.074711  0.634126  0.264466 -0.794392   \n",
              "2  0.546881  1.651552 -0.565767  ...  0.060651  0.936132  0.691308 -1.013655   \n",
              "3  0.624044 -0.905912  0.162279  ...  0.120929  0.673786  0.522048 -0.722938   \n",
              "4 -0.917720 -0.543372 -0.199309  ... -0.232870 -0.182736  0.318033  0.060125   \n",
              "\n",
              "        b25       b26       b27       b28       b29  labels  \n",
              "0 -0.505994  0.346319 -0.390967 -0.083083 -0.314441     3.0  \n",
              "1 -0.303542  1.126113 -0.518024 -1.700822  3.011178     3.0  \n",
              "2 -0.927224  0.821306  0.184328  0.833005 -0.370021     3.0  \n",
              "3 -0.164347  1.201609 -0.673626 -1.598063  2.643712     3.0  \n",
              "4 -0.217072  0.644748 -0.392546  0.256941  0.084382     3.0  \n",
              "\n",
              "[5 rows x 31 columns]"
            ],
            "text/html": [
              "\n",
              "  <div id=\"df-d1d33bfc-5fe9-4e8c-aa3c-095d42072e98\">\n",
              "    <div class=\"colab-df-container\">\n",
              "      <div>\n",
              "<style scoped>\n",
              "    .dataframe tbody tr th:only-of-type {\n",
              "        vertical-align: middle;\n",
              "    }\n",
              "\n",
              "    .dataframe tbody tr th {\n",
              "        vertical-align: top;\n",
              "    }\n",
              "\n",
              "    .dataframe thead th {\n",
              "        text-align: right;\n",
              "    }\n",
              "</style>\n",
              "<table border=\"1\" class=\"dataframe\">\n",
              "  <thead>\n",
              "    <tr style=\"text-align: right;\">\n",
              "      <th></th>\n",
              "      <th>b0</th>\n",
              "      <th>b1</th>\n",
              "      <th>b2</th>\n",
              "      <th>b3</th>\n",
              "      <th>b4</th>\n",
              "      <th>b5</th>\n",
              "      <th>b6</th>\n",
              "      <th>b7</th>\n",
              "      <th>b8</th>\n",
              "      <th>b9</th>\n",
              "      <th>...</th>\n",
              "      <th>b21</th>\n",
              "      <th>b22</th>\n",
              "      <th>b23</th>\n",
              "      <th>b24</th>\n",
              "      <th>b25</th>\n",
              "      <th>b26</th>\n",
              "      <th>b27</th>\n",
              "      <th>b28</th>\n",
              "      <th>b29</th>\n",
              "      <th>labels</th>\n",
              "    </tr>\n",
              "  </thead>\n",
              "  <tbody>\n",
              "    <tr>\n",
              "      <th>0</th>\n",
              "      <td>0.968768</td>\n",
              "      <td>0.480151</td>\n",
              "      <td>0.095013</td>\n",
              "      <td>0.125597</td>\n",
              "      <td>-0.835529</td>\n",
              "      <td>-0.153065</td>\n",
              "      <td>0.340914</td>\n",
              "      <td>-0.808389</td>\n",
              "      <td>0.739768</td>\n",
              "      <td>-0.196726</td>\n",
              "      <td>...</td>\n",
              "      <td>-0.680243</td>\n",
              "      <td>-0.742375</td>\n",
              "      <td>0.309232</td>\n",
              "      <td>0.706960</td>\n",
              "      <td>-0.505994</td>\n",
              "      <td>0.346319</td>\n",
              "      <td>-0.390967</td>\n",
              "      <td>-0.083083</td>\n",
              "      <td>-0.314441</td>\n",
              "      <td>3.0</td>\n",
              "    </tr>\n",
              "    <tr>\n",
              "      <th>1</th>\n",
              "      <td>1.082063</td>\n",
              "      <td>-0.666886</td>\n",
              "      <td>0.457615</td>\n",
              "      <td>-0.932147</td>\n",
              "      <td>0.283993</td>\n",
              "      <td>-0.641161</td>\n",
              "      <td>0.513249</td>\n",
              "      <td>0.639667</td>\n",
              "      <td>-1.369898</td>\n",
              "      <td>0.276044</td>\n",
              "      <td>...</td>\n",
              "      <td>-0.074711</td>\n",
              "      <td>0.634126</td>\n",
              "      <td>0.264466</td>\n",
              "      <td>-0.794392</td>\n",
              "      <td>-0.303542</td>\n",
              "      <td>1.126113</td>\n",
              "      <td>-0.518024</td>\n",
              "      <td>-1.700822</td>\n",
              "      <td>3.011178</td>\n",
              "      <td>3.0</td>\n",
              "    </tr>\n",
              "    <tr>\n",
              "      <th>2</th>\n",
              "      <td>1.119685</td>\n",
              "      <td>-1.018529</td>\n",
              "      <td>0.641121</td>\n",
              "      <td>-1.340924</td>\n",
              "      <td>0.498481</td>\n",
              "      <td>-0.292635</td>\n",
              "      <td>0.437308</td>\n",
              "      <td>0.546881</td>\n",
              "      <td>1.651552</td>\n",
              "      <td>-0.565767</td>\n",
              "      <td>...</td>\n",
              "      <td>0.060651</td>\n",
              "      <td>0.936132</td>\n",
              "      <td>0.691308</td>\n",
              "      <td>-1.013655</td>\n",
              "      <td>-0.927224</td>\n",
              "      <td>0.821306</td>\n",
              "      <td>0.184328</td>\n",
              "      <td>0.833005</td>\n",
              "      <td>-0.370021</td>\n",
              "      <td>3.0</td>\n",
              "    </tr>\n",
              "    <tr>\n",
              "      <th>3</th>\n",
              "      <td>1.079131</td>\n",
              "      <td>-0.780896</td>\n",
              "      <td>0.465640</td>\n",
              "      <td>-0.886678</td>\n",
              "      <td>0.281052</td>\n",
              "      <td>-0.681895</td>\n",
              "      <td>0.634920</td>\n",
              "      <td>0.624044</td>\n",
              "      <td>-0.905912</td>\n",
              "      <td>0.162279</td>\n",
              "      <td>...</td>\n",
              "      <td>0.120929</td>\n",
              "      <td>0.673786</td>\n",
              "      <td>0.522048</td>\n",
              "      <td>-0.722938</td>\n",
              "      <td>-0.164347</td>\n",
              "      <td>1.201609</td>\n",
              "      <td>-0.673626</td>\n",
              "      <td>-1.598063</td>\n",
              "      <td>2.643712</td>\n",
              "      <td>3.0</td>\n",
              "    </tr>\n",
              "    <tr>\n",
              "      <th>4</th>\n",
              "      <td>0.969944</td>\n",
              "      <td>0.111926</td>\n",
              "      <td>-0.030070</td>\n",
              "      <td>-0.163259</td>\n",
              "      <td>-0.706674</td>\n",
              "      <td>-0.974477</td>\n",
              "      <td>1.271296</td>\n",
              "      <td>-0.917720</td>\n",
              "      <td>-0.543372</td>\n",
              "      <td>-0.199309</td>\n",
              "      <td>...</td>\n",
              "      <td>-0.232870</td>\n",
              "      <td>-0.182736</td>\n",
              "      <td>0.318033</td>\n",
              "      <td>0.060125</td>\n",
              "      <td>-0.217072</td>\n",
              "      <td>0.644748</td>\n",
              "      <td>-0.392546</td>\n",
              "      <td>0.256941</td>\n",
              "      <td>0.084382</td>\n",
              "      <td>3.0</td>\n",
              "    </tr>\n",
              "  </tbody>\n",
              "</table>\n",
              "<p>5 rows × 31 columns</p>\n",
              "</div>\n",
              "      <button class=\"colab-df-convert\" onclick=\"convertToInteractive('df-d1d33bfc-5fe9-4e8c-aa3c-095d42072e98')\"\n",
              "              title=\"Convert this dataframe to an interactive table.\"\n",
              "              style=\"display:none;\">\n",
              "        \n",
              "  <svg xmlns=\"http://www.w3.org/2000/svg\" height=\"24px\"viewBox=\"0 0 24 24\"\n",
              "       width=\"24px\">\n",
              "    <path d=\"M0 0h24v24H0V0z\" fill=\"none\"/>\n",
              "    <path d=\"M18.56 5.44l.94 2.06.94-2.06 2.06-.94-2.06-.94-.94-2.06-.94 2.06-2.06.94zm-11 1L8.5 8.5l.94-2.06 2.06-.94-2.06-.94L8.5 2.5l-.94 2.06-2.06.94zm10 10l.94 2.06.94-2.06 2.06-.94-2.06-.94-.94-2.06-.94 2.06-2.06.94z\"/><path d=\"M17.41 7.96l-1.37-1.37c-.4-.4-.92-.59-1.43-.59-.52 0-1.04.2-1.43.59L10.3 9.45l-7.72 7.72c-.78.78-.78 2.05 0 2.83L4 21.41c.39.39.9.59 1.41.59.51 0 1.02-.2 1.41-.59l7.78-7.78 2.81-2.81c.8-.78.8-2.07 0-2.86zM5.41 20L4 18.59l7.72-7.72 1.47 1.35L5.41 20z\"/>\n",
              "  </svg>\n",
              "      </button>\n",
              "      \n",
              "  <style>\n",
              "    .colab-df-container {\n",
              "      display:flex;\n",
              "      flex-wrap:wrap;\n",
              "      gap: 12px;\n",
              "    }\n",
              "\n",
              "    .colab-df-convert {\n",
              "      background-color: #E8F0FE;\n",
              "      border: none;\n",
              "      border-radius: 50%;\n",
              "      cursor: pointer;\n",
              "      display: none;\n",
              "      fill: #1967D2;\n",
              "      height: 32px;\n",
              "      padding: 0 0 0 0;\n",
              "      width: 32px;\n",
              "    }\n",
              "\n",
              "    .colab-df-convert:hover {\n",
              "      background-color: #E2EBFA;\n",
              "      box-shadow: 0px 1px 2px rgba(60, 64, 67, 0.3), 0px 1px 3px 1px rgba(60, 64, 67, 0.15);\n",
              "      fill: #174EA6;\n",
              "    }\n",
              "\n",
              "    [theme=dark] .colab-df-convert {\n",
              "      background-color: #3B4455;\n",
              "      fill: #D2E3FC;\n",
              "    }\n",
              "\n",
              "    [theme=dark] .colab-df-convert:hover {\n",
              "      background-color: #434B5C;\n",
              "      box-shadow: 0px 1px 3px 1px rgba(0, 0, 0, 0.15);\n",
              "      filter: drop-shadow(0px 1px 2px rgba(0, 0, 0, 0.3));\n",
              "      fill: #FFFFFF;\n",
              "    }\n",
              "  </style>\n",
              "\n",
              "      <script>\n",
              "        const buttonEl =\n",
              "          document.querySelector('#df-d1d33bfc-5fe9-4e8c-aa3c-095d42072e98 button.colab-df-convert');\n",
              "        buttonEl.style.display =\n",
              "          google.colab.kernel.accessAllowed ? 'block' : 'none';\n",
              "\n",
              "        async function convertToInteractive(key) {\n",
              "          const element = document.querySelector('#df-d1d33bfc-5fe9-4e8c-aa3c-095d42072e98');\n",
              "          const dataTable =\n",
              "            await google.colab.kernel.invokeFunction('convertToInteractive',\n",
              "                                                     [key], {});\n",
              "          if (!dataTable) return;\n",
              "\n",
              "          const docLinkHtml = 'Like what you see? Visit the ' +\n",
              "            '<a target=\"_blank\" href=https://colab.research.google.com/notebooks/data_table.ipynb>data table notebook</a>'\n",
              "            + ' to learn more about interactive tables.';\n",
              "          element.innerHTML = '';\n",
              "          dataTable['output_type'] = 'display_data';\n",
              "          await google.colab.output.renderOutput(dataTable, element);\n",
              "          const docLink = document.createElement('div');\n",
              "          docLink.innerHTML = docLinkHtml;\n",
              "          element.appendChild(docLink);\n",
              "        }\n",
              "      </script>\n",
              "    </div>\n",
              "  </div>\n",
              "  "
            ]
          },
          "metadata": {},
          "execution_count": 15
        }
      ]
    },
    {
      "cell_type": "code",
      "source": [
        "class StandardScaler:\n",
        "    def __init__(self):\n",
        "        self.mean = None\n",
        "        self.std = None\n",
        "    \n",
        "    def fit(self, X):\n",
        "        self.mean = np.mean(X, axis=0)\n",
        "        self.std = np.std(X, axis=0)\n",
        "    \n",
        "    def transform(self, X):\n",
        "        X_scaled = (X - self.mean) / self.std\n",
        "        return X_scaled\n",
        "    \n",
        "    def fit_transform(self, X):\n",
        "        self.fit(X)\n",
        "        return self.transform(X)"
      ],
      "metadata": {
        "id": "5_d3jkIio77z"
      },
      "execution_count": 16,
      "outputs": []
    },
    {
      "cell_type": "code",
      "source": [
        "scaler = StandardScaler()\n",
        "scaler.fit(data)\n",
        "scaler.transform(data)\n",
        "data= scaler.fit_transform(data)"
      ],
      "metadata": {
        "id": "YiBxbkXE0gt_"
      },
      "execution_count": 17,
      "outputs": []
    },
    {
      "cell_type": "code",
      "source": [
        "df = pd.DataFrame(combine,columns = hyp_columns)\n",
        "df.head()"
      ],
      "metadata": {
        "colab": {
          "base_uri": "https://localhost:8080/",
          "height": 299
        },
        "id": "34YzCG8p0-j9",
        "outputId": "4ee6caa5-8098-42fc-812f-edcd67c42cf1"
      },
      "execution_count": 18,
      "outputs": [
        {
          "output_type": "execute_result",
          "data": {
            "text/plain": [
              "         b0        b1        b2        b3        b4        b5        b6  \\\n",
              "0  0.968768  0.480151  0.095013  0.125597 -0.835529 -0.153065  0.340914   \n",
              "1  1.082063 -0.666886  0.457615 -0.932147  0.283993 -0.641161  0.513249   \n",
              "2  1.119685 -1.018529  0.641121 -1.340924  0.498481 -0.292635  0.437308   \n",
              "3  1.079131 -0.780896  0.465640 -0.886678  0.281052 -0.681895  0.634920   \n",
              "4  0.969944  0.111926 -0.030070 -0.163259 -0.706674 -0.974477  1.271296   \n",
              "\n",
              "         b7        b8        b9  ...       b21       b22       b23       b24  \\\n",
              "0 -0.808389  0.739768 -0.196726  ... -0.680243 -0.742375  0.309232  0.706960   \n",
              "1  0.639667 -1.369898  0.276044  ... -0.074711  0.634126  0.264466 -0.794392   \n",
              "2  0.546881  1.651552 -0.565767  ...  0.060651  0.936132  0.691308 -1.013655   \n",
              "3  0.624044 -0.905912  0.162279  ...  0.120929  0.673786  0.522048 -0.722938   \n",
              "4 -0.917720 -0.543372 -0.199309  ... -0.232870 -0.182736  0.318033  0.060125   \n",
              "\n",
              "        b25       b26       b27       b28       b29  labels  \n",
              "0 -0.505994  0.346319 -0.390967 -0.083083 -0.314441     3.0  \n",
              "1 -0.303542  1.126113 -0.518024 -1.700822  3.011178     3.0  \n",
              "2 -0.927224  0.821306  0.184328  0.833005 -0.370021     3.0  \n",
              "3 -0.164347  1.201609 -0.673626 -1.598063  2.643712     3.0  \n",
              "4 -0.217072  0.644748 -0.392546  0.256941  0.084382     3.0  \n",
              "\n",
              "[5 rows x 31 columns]"
            ],
            "text/html": [
              "\n",
              "  <div id=\"df-b96ca8b2-71ce-40e7-bf34-be3000f7d123\">\n",
              "    <div class=\"colab-df-container\">\n",
              "      <div>\n",
              "<style scoped>\n",
              "    .dataframe tbody tr th:only-of-type {\n",
              "        vertical-align: middle;\n",
              "    }\n",
              "\n",
              "    .dataframe tbody tr th {\n",
              "        vertical-align: top;\n",
              "    }\n",
              "\n",
              "    .dataframe thead th {\n",
              "        text-align: right;\n",
              "    }\n",
              "</style>\n",
              "<table border=\"1\" class=\"dataframe\">\n",
              "  <thead>\n",
              "    <tr style=\"text-align: right;\">\n",
              "      <th></th>\n",
              "      <th>b0</th>\n",
              "      <th>b1</th>\n",
              "      <th>b2</th>\n",
              "      <th>b3</th>\n",
              "      <th>b4</th>\n",
              "      <th>b5</th>\n",
              "      <th>b6</th>\n",
              "      <th>b7</th>\n",
              "      <th>b8</th>\n",
              "      <th>b9</th>\n",
              "      <th>...</th>\n",
              "      <th>b21</th>\n",
              "      <th>b22</th>\n",
              "      <th>b23</th>\n",
              "      <th>b24</th>\n",
              "      <th>b25</th>\n",
              "      <th>b26</th>\n",
              "      <th>b27</th>\n",
              "      <th>b28</th>\n",
              "      <th>b29</th>\n",
              "      <th>labels</th>\n",
              "    </tr>\n",
              "  </thead>\n",
              "  <tbody>\n",
              "    <tr>\n",
              "      <th>0</th>\n",
              "      <td>0.968768</td>\n",
              "      <td>0.480151</td>\n",
              "      <td>0.095013</td>\n",
              "      <td>0.125597</td>\n",
              "      <td>-0.835529</td>\n",
              "      <td>-0.153065</td>\n",
              "      <td>0.340914</td>\n",
              "      <td>-0.808389</td>\n",
              "      <td>0.739768</td>\n",
              "      <td>-0.196726</td>\n",
              "      <td>...</td>\n",
              "      <td>-0.680243</td>\n",
              "      <td>-0.742375</td>\n",
              "      <td>0.309232</td>\n",
              "      <td>0.706960</td>\n",
              "      <td>-0.505994</td>\n",
              "      <td>0.346319</td>\n",
              "      <td>-0.390967</td>\n",
              "      <td>-0.083083</td>\n",
              "      <td>-0.314441</td>\n",
              "      <td>3.0</td>\n",
              "    </tr>\n",
              "    <tr>\n",
              "      <th>1</th>\n",
              "      <td>1.082063</td>\n",
              "      <td>-0.666886</td>\n",
              "      <td>0.457615</td>\n",
              "      <td>-0.932147</td>\n",
              "      <td>0.283993</td>\n",
              "      <td>-0.641161</td>\n",
              "      <td>0.513249</td>\n",
              "      <td>0.639667</td>\n",
              "      <td>-1.369898</td>\n",
              "      <td>0.276044</td>\n",
              "      <td>...</td>\n",
              "      <td>-0.074711</td>\n",
              "      <td>0.634126</td>\n",
              "      <td>0.264466</td>\n",
              "      <td>-0.794392</td>\n",
              "      <td>-0.303542</td>\n",
              "      <td>1.126113</td>\n",
              "      <td>-0.518024</td>\n",
              "      <td>-1.700822</td>\n",
              "      <td>3.011178</td>\n",
              "      <td>3.0</td>\n",
              "    </tr>\n",
              "    <tr>\n",
              "      <th>2</th>\n",
              "      <td>1.119685</td>\n",
              "      <td>-1.018529</td>\n",
              "      <td>0.641121</td>\n",
              "      <td>-1.340924</td>\n",
              "      <td>0.498481</td>\n",
              "      <td>-0.292635</td>\n",
              "      <td>0.437308</td>\n",
              "      <td>0.546881</td>\n",
              "      <td>1.651552</td>\n",
              "      <td>-0.565767</td>\n",
              "      <td>...</td>\n",
              "      <td>0.060651</td>\n",
              "      <td>0.936132</td>\n",
              "      <td>0.691308</td>\n",
              "      <td>-1.013655</td>\n",
              "      <td>-0.927224</td>\n",
              "      <td>0.821306</td>\n",
              "      <td>0.184328</td>\n",
              "      <td>0.833005</td>\n",
              "      <td>-0.370021</td>\n",
              "      <td>3.0</td>\n",
              "    </tr>\n",
              "    <tr>\n",
              "      <th>3</th>\n",
              "      <td>1.079131</td>\n",
              "      <td>-0.780896</td>\n",
              "      <td>0.465640</td>\n",
              "      <td>-0.886678</td>\n",
              "      <td>0.281052</td>\n",
              "      <td>-0.681895</td>\n",
              "      <td>0.634920</td>\n",
              "      <td>0.624044</td>\n",
              "      <td>-0.905912</td>\n",
              "      <td>0.162279</td>\n",
              "      <td>...</td>\n",
              "      <td>0.120929</td>\n",
              "      <td>0.673786</td>\n",
              "      <td>0.522048</td>\n",
              "      <td>-0.722938</td>\n",
              "      <td>-0.164347</td>\n",
              "      <td>1.201609</td>\n",
              "      <td>-0.673626</td>\n",
              "      <td>-1.598063</td>\n",
              "      <td>2.643712</td>\n",
              "      <td>3.0</td>\n",
              "    </tr>\n",
              "    <tr>\n",
              "      <th>4</th>\n",
              "      <td>0.969944</td>\n",
              "      <td>0.111926</td>\n",
              "      <td>-0.030070</td>\n",
              "      <td>-0.163259</td>\n",
              "      <td>-0.706674</td>\n",
              "      <td>-0.974477</td>\n",
              "      <td>1.271296</td>\n",
              "      <td>-0.917720</td>\n",
              "      <td>-0.543372</td>\n",
              "      <td>-0.199309</td>\n",
              "      <td>...</td>\n",
              "      <td>-0.232870</td>\n",
              "      <td>-0.182736</td>\n",
              "      <td>0.318033</td>\n",
              "      <td>0.060125</td>\n",
              "      <td>-0.217072</td>\n",
              "      <td>0.644748</td>\n",
              "      <td>-0.392546</td>\n",
              "      <td>0.256941</td>\n",
              "      <td>0.084382</td>\n",
              "      <td>3.0</td>\n",
              "    </tr>\n",
              "  </tbody>\n",
              "</table>\n",
              "<p>5 rows × 31 columns</p>\n",
              "</div>\n",
              "      <button class=\"colab-df-convert\" onclick=\"convertToInteractive('df-b96ca8b2-71ce-40e7-bf34-be3000f7d123')\"\n",
              "              title=\"Convert this dataframe to an interactive table.\"\n",
              "              style=\"display:none;\">\n",
              "        \n",
              "  <svg xmlns=\"http://www.w3.org/2000/svg\" height=\"24px\"viewBox=\"0 0 24 24\"\n",
              "       width=\"24px\">\n",
              "    <path d=\"M0 0h24v24H0V0z\" fill=\"none\"/>\n",
              "    <path d=\"M18.56 5.44l.94 2.06.94-2.06 2.06-.94-2.06-.94-.94-2.06-.94 2.06-2.06.94zm-11 1L8.5 8.5l.94-2.06 2.06-.94-2.06-.94L8.5 2.5l-.94 2.06-2.06.94zm10 10l.94 2.06.94-2.06 2.06-.94-2.06-.94-.94-2.06-.94 2.06-2.06.94z\"/><path d=\"M17.41 7.96l-1.37-1.37c-.4-.4-.92-.59-1.43-.59-.52 0-1.04.2-1.43.59L10.3 9.45l-7.72 7.72c-.78.78-.78 2.05 0 2.83L4 21.41c.39.39.9.59 1.41.59.51 0 1.02-.2 1.41-.59l7.78-7.78 2.81-2.81c.8-.78.8-2.07 0-2.86zM5.41 20L4 18.59l7.72-7.72 1.47 1.35L5.41 20z\"/>\n",
              "  </svg>\n",
              "      </button>\n",
              "      \n",
              "  <style>\n",
              "    .colab-df-container {\n",
              "      display:flex;\n",
              "      flex-wrap:wrap;\n",
              "      gap: 12px;\n",
              "    }\n",
              "\n",
              "    .colab-df-convert {\n",
              "      background-color: #E8F0FE;\n",
              "      border: none;\n",
              "      border-radius: 50%;\n",
              "      cursor: pointer;\n",
              "      display: none;\n",
              "      fill: #1967D2;\n",
              "      height: 32px;\n",
              "      padding: 0 0 0 0;\n",
              "      width: 32px;\n",
              "    }\n",
              "\n",
              "    .colab-df-convert:hover {\n",
              "      background-color: #E2EBFA;\n",
              "      box-shadow: 0px 1px 2px rgba(60, 64, 67, 0.3), 0px 1px 3px 1px rgba(60, 64, 67, 0.15);\n",
              "      fill: #174EA6;\n",
              "    }\n",
              "\n",
              "    [theme=dark] .colab-df-convert {\n",
              "      background-color: #3B4455;\n",
              "      fill: #D2E3FC;\n",
              "    }\n",
              "\n",
              "    [theme=dark] .colab-df-convert:hover {\n",
              "      background-color: #434B5C;\n",
              "      box-shadow: 0px 1px 3px 1px rgba(0, 0, 0, 0.15);\n",
              "      filter: drop-shadow(0px 1px 2px rgba(0, 0, 0, 0.3));\n",
              "      fill: #FFFFFF;\n",
              "    }\n",
              "  </style>\n",
              "\n",
              "      <script>\n",
              "        const buttonEl =\n",
              "          document.querySelector('#df-b96ca8b2-71ce-40e7-bf34-be3000f7d123 button.colab-df-convert');\n",
              "        buttonEl.style.display =\n",
              "          google.colab.kernel.accessAllowed ? 'block' : 'none';\n",
              "\n",
              "        async function convertToInteractive(key) {\n",
              "          const element = document.querySelector('#df-b96ca8b2-71ce-40e7-bf34-be3000f7d123');\n",
              "          const dataTable =\n",
              "            await google.colab.kernel.invokeFunction('convertToInteractive',\n",
              "                                                     [key], {});\n",
              "          if (!dataTable) return;\n",
              "\n",
              "          const docLinkHtml = 'Like what you see? Visit the ' +\n",
              "            '<a target=\"_blank\" href=https://colab.research.google.com/notebooks/data_table.ipynb>data table notebook</a>'\n",
              "            + ' to learn more about interactive tables.';\n",
              "          element.innerHTML = '';\n",
              "          dataTable['output_type'] = 'display_data';\n",
              "          await google.colab.output.renderOutput(dataTable, element);\n",
              "          const docLink = document.createElement('div');\n",
              "          docLink.innerHTML = docLinkHtml;\n",
              "          element.appendChild(docLink);\n",
              "        }\n",
              "      </script>\n",
              "    </div>\n",
              "  </div>\n",
              "  "
            ]
          },
          "metadata": {},
          "execution_count": 18
        }
      ]
    },
    {
      "cell_type": "code",
      "source": [
        " hyp_columns = hyp_columns[-1:] + hyp_columns[:-1]\n",
        " df = df[hyp_columns]\n",
        " df.head()"
      ],
      "metadata": {
        "colab": {
          "base_uri": "https://localhost:8080/",
          "height": 299
        },
        "id": "uW9sV9791GwV",
        "outputId": "d3466f5f-f3b1-416b-d3c7-7ccf01529f6d"
      },
      "execution_count": 19,
      "outputs": [
        {
          "output_type": "execute_result",
          "data": {
            "text/plain": [
              "   labels        b0        b1        b2        b3        b4        b5  \\\n",
              "0     3.0  0.968768  0.480151  0.095013  0.125597 -0.835529 -0.153065   \n",
              "1     3.0  1.082063 -0.666886  0.457615 -0.932147  0.283993 -0.641161   \n",
              "2     3.0  1.119685 -1.018529  0.641121 -1.340924  0.498481 -0.292635   \n",
              "3     3.0  1.079131 -0.780896  0.465640 -0.886678  0.281052 -0.681895   \n",
              "4     3.0  0.969944  0.111926 -0.030070 -0.163259 -0.706674 -0.974477   \n",
              "\n",
              "         b6        b7        b8  ...       b20       b21       b22       b23  \\\n",
              "0  0.340914 -0.808389  0.739768  ...  0.216976 -0.680243 -0.742375  0.309232   \n",
              "1  0.513249  0.639667 -1.369898  ...  0.196222 -0.074711  0.634126  0.264466   \n",
              "2  0.437308  0.546881  1.651552  ... -0.033171  0.060651  0.936132  0.691308   \n",
              "3  0.634920  0.624044 -0.905912  ...  0.069646  0.120929  0.673786  0.522048   \n",
              "4  1.271296 -0.917720 -0.543372  ...  0.211589 -0.232870 -0.182736  0.318033   \n",
              "\n",
              "        b24       b25       b26       b27       b28       b29  \n",
              "0  0.706960 -0.505994  0.346319 -0.390967 -0.083083 -0.314441  \n",
              "1 -0.794392 -0.303542  1.126113 -0.518024 -1.700822  3.011178  \n",
              "2 -1.013655 -0.927224  0.821306  0.184328  0.833005 -0.370021  \n",
              "3 -0.722938 -0.164347  1.201609 -0.673626 -1.598063  2.643712  \n",
              "4  0.060125 -0.217072  0.644748 -0.392546  0.256941  0.084382  \n",
              "\n",
              "[5 rows x 31 columns]"
            ],
            "text/html": [
              "\n",
              "  <div id=\"df-ed7faff3-be43-41d2-803f-029384a8bec1\">\n",
              "    <div class=\"colab-df-container\">\n",
              "      <div>\n",
              "<style scoped>\n",
              "    .dataframe tbody tr th:only-of-type {\n",
              "        vertical-align: middle;\n",
              "    }\n",
              "\n",
              "    .dataframe tbody tr th {\n",
              "        vertical-align: top;\n",
              "    }\n",
              "\n",
              "    .dataframe thead th {\n",
              "        text-align: right;\n",
              "    }\n",
              "</style>\n",
              "<table border=\"1\" class=\"dataframe\">\n",
              "  <thead>\n",
              "    <tr style=\"text-align: right;\">\n",
              "      <th></th>\n",
              "      <th>labels</th>\n",
              "      <th>b0</th>\n",
              "      <th>b1</th>\n",
              "      <th>b2</th>\n",
              "      <th>b3</th>\n",
              "      <th>b4</th>\n",
              "      <th>b5</th>\n",
              "      <th>b6</th>\n",
              "      <th>b7</th>\n",
              "      <th>b8</th>\n",
              "      <th>...</th>\n",
              "      <th>b20</th>\n",
              "      <th>b21</th>\n",
              "      <th>b22</th>\n",
              "      <th>b23</th>\n",
              "      <th>b24</th>\n",
              "      <th>b25</th>\n",
              "      <th>b26</th>\n",
              "      <th>b27</th>\n",
              "      <th>b28</th>\n",
              "      <th>b29</th>\n",
              "    </tr>\n",
              "  </thead>\n",
              "  <tbody>\n",
              "    <tr>\n",
              "      <th>0</th>\n",
              "      <td>3.0</td>\n",
              "      <td>0.968768</td>\n",
              "      <td>0.480151</td>\n",
              "      <td>0.095013</td>\n",
              "      <td>0.125597</td>\n",
              "      <td>-0.835529</td>\n",
              "      <td>-0.153065</td>\n",
              "      <td>0.340914</td>\n",
              "      <td>-0.808389</td>\n",
              "      <td>0.739768</td>\n",
              "      <td>...</td>\n",
              "      <td>0.216976</td>\n",
              "      <td>-0.680243</td>\n",
              "      <td>-0.742375</td>\n",
              "      <td>0.309232</td>\n",
              "      <td>0.706960</td>\n",
              "      <td>-0.505994</td>\n",
              "      <td>0.346319</td>\n",
              "      <td>-0.390967</td>\n",
              "      <td>-0.083083</td>\n",
              "      <td>-0.314441</td>\n",
              "    </tr>\n",
              "    <tr>\n",
              "      <th>1</th>\n",
              "      <td>3.0</td>\n",
              "      <td>1.082063</td>\n",
              "      <td>-0.666886</td>\n",
              "      <td>0.457615</td>\n",
              "      <td>-0.932147</td>\n",
              "      <td>0.283993</td>\n",
              "      <td>-0.641161</td>\n",
              "      <td>0.513249</td>\n",
              "      <td>0.639667</td>\n",
              "      <td>-1.369898</td>\n",
              "      <td>...</td>\n",
              "      <td>0.196222</td>\n",
              "      <td>-0.074711</td>\n",
              "      <td>0.634126</td>\n",
              "      <td>0.264466</td>\n",
              "      <td>-0.794392</td>\n",
              "      <td>-0.303542</td>\n",
              "      <td>1.126113</td>\n",
              "      <td>-0.518024</td>\n",
              "      <td>-1.700822</td>\n",
              "      <td>3.011178</td>\n",
              "    </tr>\n",
              "    <tr>\n",
              "      <th>2</th>\n",
              "      <td>3.0</td>\n",
              "      <td>1.119685</td>\n",
              "      <td>-1.018529</td>\n",
              "      <td>0.641121</td>\n",
              "      <td>-1.340924</td>\n",
              "      <td>0.498481</td>\n",
              "      <td>-0.292635</td>\n",
              "      <td>0.437308</td>\n",
              "      <td>0.546881</td>\n",
              "      <td>1.651552</td>\n",
              "      <td>...</td>\n",
              "      <td>-0.033171</td>\n",
              "      <td>0.060651</td>\n",
              "      <td>0.936132</td>\n",
              "      <td>0.691308</td>\n",
              "      <td>-1.013655</td>\n",
              "      <td>-0.927224</td>\n",
              "      <td>0.821306</td>\n",
              "      <td>0.184328</td>\n",
              "      <td>0.833005</td>\n",
              "      <td>-0.370021</td>\n",
              "    </tr>\n",
              "    <tr>\n",
              "      <th>3</th>\n",
              "      <td>3.0</td>\n",
              "      <td>1.079131</td>\n",
              "      <td>-0.780896</td>\n",
              "      <td>0.465640</td>\n",
              "      <td>-0.886678</td>\n",
              "      <td>0.281052</td>\n",
              "      <td>-0.681895</td>\n",
              "      <td>0.634920</td>\n",
              "      <td>0.624044</td>\n",
              "      <td>-0.905912</td>\n",
              "      <td>...</td>\n",
              "      <td>0.069646</td>\n",
              "      <td>0.120929</td>\n",
              "      <td>0.673786</td>\n",
              "      <td>0.522048</td>\n",
              "      <td>-0.722938</td>\n",
              "      <td>-0.164347</td>\n",
              "      <td>1.201609</td>\n",
              "      <td>-0.673626</td>\n",
              "      <td>-1.598063</td>\n",
              "      <td>2.643712</td>\n",
              "    </tr>\n",
              "    <tr>\n",
              "      <th>4</th>\n",
              "      <td>3.0</td>\n",
              "      <td>0.969944</td>\n",
              "      <td>0.111926</td>\n",
              "      <td>-0.030070</td>\n",
              "      <td>-0.163259</td>\n",
              "      <td>-0.706674</td>\n",
              "      <td>-0.974477</td>\n",
              "      <td>1.271296</td>\n",
              "      <td>-0.917720</td>\n",
              "      <td>-0.543372</td>\n",
              "      <td>...</td>\n",
              "      <td>0.211589</td>\n",
              "      <td>-0.232870</td>\n",
              "      <td>-0.182736</td>\n",
              "      <td>0.318033</td>\n",
              "      <td>0.060125</td>\n",
              "      <td>-0.217072</td>\n",
              "      <td>0.644748</td>\n",
              "      <td>-0.392546</td>\n",
              "      <td>0.256941</td>\n",
              "      <td>0.084382</td>\n",
              "    </tr>\n",
              "  </tbody>\n",
              "</table>\n",
              "<p>5 rows × 31 columns</p>\n",
              "</div>\n",
              "      <button class=\"colab-df-convert\" onclick=\"convertToInteractive('df-ed7faff3-be43-41d2-803f-029384a8bec1')\"\n",
              "              title=\"Convert this dataframe to an interactive table.\"\n",
              "              style=\"display:none;\">\n",
              "        \n",
              "  <svg xmlns=\"http://www.w3.org/2000/svg\" height=\"24px\"viewBox=\"0 0 24 24\"\n",
              "       width=\"24px\">\n",
              "    <path d=\"M0 0h24v24H0V0z\" fill=\"none\"/>\n",
              "    <path d=\"M18.56 5.44l.94 2.06.94-2.06 2.06-.94-2.06-.94-.94-2.06-.94 2.06-2.06.94zm-11 1L8.5 8.5l.94-2.06 2.06-.94-2.06-.94L8.5 2.5l-.94 2.06-2.06.94zm10 10l.94 2.06.94-2.06 2.06-.94-2.06-.94-.94-2.06-.94 2.06-2.06.94z\"/><path d=\"M17.41 7.96l-1.37-1.37c-.4-.4-.92-.59-1.43-.59-.52 0-1.04.2-1.43.59L10.3 9.45l-7.72 7.72c-.78.78-.78 2.05 0 2.83L4 21.41c.39.39.9.59 1.41.59.51 0 1.02-.2 1.41-.59l7.78-7.78 2.81-2.81c.8-.78.8-2.07 0-2.86zM5.41 20L4 18.59l7.72-7.72 1.47 1.35L5.41 20z\"/>\n",
              "  </svg>\n",
              "      </button>\n",
              "      \n",
              "  <style>\n",
              "    .colab-df-container {\n",
              "      display:flex;\n",
              "      flex-wrap:wrap;\n",
              "      gap: 12px;\n",
              "    }\n",
              "\n",
              "    .colab-df-convert {\n",
              "      background-color: #E8F0FE;\n",
              "      border: none;\n",
              "      border-radius: 50%;\n",
              "      cursor: pointer;\n",
              "      display: none;\n",
              "      fill: #1967D2;\n",
              "      height: 32px;\n",
              "      padding: 0 0 0 0;\n",
              "      width: 32px;\n",
              "    }\n",
              "\n",
              "    .colab-df-convert:hover {\n",
              "      background-color: #E2EBFA;\n",
              "      box-shadow: 0px 1px 2px rgba(60, 64, 67, 0.3), 0px 1px 3px 1px rgba(60, 64, 67, 0.15);\n",
              "      fill: #174EA6;\n",
              "    }\n",
              "\n",
              "    [theme=dark] .colab-df-convert {\n",
              "      background-color: #3B4455;\n",
              "      fill: #D2E3FC;\n",
              "    }\n",
              "\n",
              "    [theme=dark] .colab-df-convert:hover {\n",
              "      background-color: #434B5C;\n",
              "      box-shadow: 0px 1px 3px 1px rgba(0, 0, 0, 0.15);\n",
              "      filter: drop-shadow(0px 1px 2px rgba(0, 0, 0, 0.3));\n",
              "      fill: #FFFFFF;\n",
              "    }\n",
              "  </style>\n",
              "\n",
              "      <script>\n",
              "        const buttonEl =\n",
              "          document.querySelector('#df-ed7faff3-be43-41d2-803f-029384a8bec1 button.colab-df-convert');\n",
              "        buttonEl.style.display =\n",
              "          google.colab.kernel.accessAllowed ? 'block' : 'none';\n",
              "\n",
              "        async function convertToInteractive(key) {\n",
              "          const element = document.querySelector('#df-ed7faff3-be43-41d2-803f-029384a8bec1');\n",
              "          const dataTable =\n",
              "            await google.colab.kernel.invokeFunction('convertToInteractive',\n",
              "                                                     [key], {});\n",
              "          if (!dataTable) return;\n",
              "\n",
              "          const docLinkHtml = 'Like what you see? Visit the ' +\n",
              "            '<a target=\"_blank\" href=https://colab.research.google.com/notebooks/data_table.ipynb>data table notebook</a>'\n",
              "            + ' to learn more about interactive tables.';\n",
              "          element.innerHTML = '';\n",
              "          dataTable['output_type'] = 'display_data';\n",
              "          await google.colab.output.renderOutput(dataTable, element);\n",
              "          const docLink = document.createElement('div');\n",
              "          docLink.innerHTML = docLinkHtml;\n",
              "          element.appendChild(docLink);\n",
              "        }\n",
              "      </script>\n",
              "    </div>\n",
              "  </div>\n",
              "  "
            ]
          },
          "metadata": {},
          "execution_count": 19
        }
      ]
    },
    {
      "cell_type": "code",
      "source": [
        "class NeuralNetwork:\n",
        "\n",
        "    # def __init__(self, input_size, hidden_size1, hidden_size2, output_size):\n",
        "    #     self.input_size = input_size\n",
        "    #     self.hidden_size1 = hidden_size1\n",
        "    #     self.hidden_size2 = hidden_size2\n",
        "    #     self.output_size = output_size\n",
        "\n",
        "    #     # Initialize weights and biases\n",
        "    #     self.W1 = np.random.randn(self.input_size, self.hidden_size1) * 0.01\n",
        "    #     self.b1 = np.zeros((1, self.hidden_size1))\n",
        "    #     self.W2 = np.random.randn(self.hidden_size1, self.hidden_size2) * 0.01\n",
        "    #     self.b2 = np.zeros((1, self.hidden_size2))\n",
        "    #     self.W3 = np.random.randn(self.hidden_size2, self.output_size) * 0.01\n",
        "    #     self.b3 = np.zeros((1, self.output_size))\n",
        "\n",
        "    # def forward(self, X):\n",
        "    #     # Forward pass\n",
        "    #     self.z1 = np.dot(X, self.W1) + self.b1\n",
        "    #     self.a1 = np.maximum(0, self.z1)  # ReLU activation\n",
        "    #     self.z2 = np.dot(self.a1, self.W2) + self.b2\n",
        "    #     self.a2 = np.maximum(0, self.z2)  # ReLU activation\n",
        "    #     self.z3 = np.dot(self.a2, self.W3) + self.b3\n",
        "    #     self.a3 = np.exp(self.z3 - np.max(self.z3, axis=1, keepdims=True))  # Softmax activation\n",
        "    #     self.a3 /= np.sum(self.a3, axis=1, keepdims=True)\n",
        "    #     return self.a3\n",
        "\n",
        "    # def backward(self, X, y, learning_rate):\n",
        "    # # Backward pass\n",
        "    #   m = X.shape[0]\n",
        "\n",
        "    #   dZ3 = self.a3\n",
        "    #   dZ3[range(m), y.astype(int)] -= 1\n",
        "    #   dZ3 /= m\n",
        "\n",
        "    #   dW3 = np.dot(self.a2.T, dZ3)\n",
        "    #   db3 = np.sum(dZ3, axis=0)\n",
        "\n",
        "    #   dA2 = np.dot(dZ3, self.W3.T)\n",
        "    #   dZ2 = dA2 * (self.a2 > 0)  # ReLU derivative\n",
        "\n",
        "    #   dW2 = np.dot(self.a1.T, dZ2)\n",
        "    #   db2 = np.sum(dZ2, axis=0)\n",
        "\n",
        "    #   dA1 = np.dot(dZ2, self.W2.T)\n",
        "    #   dZ1 = dA1 * (self.a1 > 0)  # ReLU derivative\n",
        "\n",
        "    #   dW1 = np.dot(X.T, dZ1)\n",
        "    #   db1 = np.sum(dZ1, axis=0)\n",
        "\n",
        "    # # Update weights and biases\n",
        "    #   self.W3 -= learning_rate * dW3\n",
        "    #   self.b3 -= learning_rate * db3\n",
        "    #   self.W2 -= learning_rate * dW2\n",
        "    #   self.b2 -= learning_rate * db2\n",
        "    #   self.W1 -= learning_rate * dW1\n",
        "    #   self.b1 -= learning_rate * db1\n",
        "\n",
        "\n",
        "\n",
        "\n",
        "\n",
        "    def __init__(self, input_size, hidden_size, output_size):\n",
        "        self.input_size = input_size\n",
        "        self.hidden_size = hidden_size\n",
        "        self.output_size = output_size\n",
        "\n",
        "        # Initialize weights and biases\n",
        "        self.W1 = np.random.randn(self.input_size, self.hidden_size) * 0.01\n",
        "        self.b1 = np.zeros((1, self.hidden_size))\n",
        "        self.W2 = np.random.randn(self.hidden_size, self.output_size) * 0.01\n",
        "        self.b2 = np.zeros((1, self.output_size))\n",
        "\n",
        "    def forward(self, X):\n",
        "        # Forward pass\n",
        "        self.z1 = np.dot(X, self.W1) + self.b1\n",
        "        self.a1 = np.maximum(0, self.z1)  # ReLU activation\n",
        "        self.z2 = np.dot(self.a1, self.W2) + self.b2\n",
        "        self.a2 = np.exp(self.z2 - np.max(self.z2, axis=1, keepdims=True))  # Softmax activation\n",
        "        self.a2 /= np.sum(self.a2, axis=1, keepdims=True)\n",
        "        return self.a2\n",
        "\n",
        "    def backward(self, X, y, learning_rate):\n",
        "        # Backward pass\n",
        "        m = X.shape[0]\n",
        "\n",
        "        dZ2 = self.a2\n",
        "        dZ2[range(m), y.astype(int)] -= 1\n",
        "        dZ2 /= m\n",
        "\n",
        "        dW2 = np.dot(self.a1.T, dZ2)\n",
        "        db2 = np.sum(dZ2, axis=0)\n",
        "\n",
        "        dA1 = np.dot(dZ2, self.W2.T)\n",
        "        dZ1 = dA1 * (self.a1 > 0)  # ReLU derivative\n",
        "\n",
        "        dW1 = np.dot(X.T, dZ1)\n",
        "        db1 = np.sum(dZ1, axis=0)\n",
        "\n",
        "        # Update weights and biases\n",
        "        self.W2 -= learning_rate * dW2\n",
        "        self.b2 -= learning_rate * db2\n",
        "        self.W1 -= learning_rate * dW1\n",
        "        self.b1 -= learning_rate * db1\n",
        "\n",
        "    def train(self, X, y, epochs, learning_rate):\n",
        "        epsilon = 1e-8\n",
        "        for epoch in range(epochs):\n",
        "            # Forward pass\n",
        "            a2 = self.forward(X)\n",
        "\n",
        "            # Compute loss\n",
        "            loss = -np.sum(np.log(a2[range(X.shape[0]), y.astype(int)]+epsilon)) / X.shape[0]\n",
        "\n",
        "            # Backward pass\n",
        "            self.backward(X, y, learning_rate)\n",
        "\n",
        "            # Print loss\n",
        "            if (epoch+1) % 100 == 0:\n",
        "              print(f'Epoch {epoch}, Loss: {loss:.4f}')\n",
        "\n",
        "    def predict(self, X):\n",
        "        # Predict class labels\n",
        "        a2 = self.forward(X)\n",
        "        y_pred = np.argmax(a2, axis=1)\n",
        "        return y_pred\n"
      ],
      "metadata": {
        "id": "ext54nd-1b_2"
      },
      "execution_count": 20,
      "outputs": []
    },
    {
      "cell_type": "code",
      "source": [
        "def sampling(tdata,val):\n",
        "    len1= int(len(tdata)*val)\n",
        "    t1 = tdata.sample(frac=1)\n",
        "    val_data = t1.iloc[0:len1,:]\n",
        "    train = t1.iloc[len1:,:]\n",
        "    return val_data,train"
      ],
      "metadata": {
        "id": "M1mtRf3C1xX5"
      },
      "execution_count": 21,
      "outputs": []
    },
    {
      "cell_type": "code",
      "source": [
        "# x_train = df.iloc[:,1:]\n",
        "# y_train = df.iloc[:,0]\n",
        "# x_test = df.iloc[:,1:]\n",
        "# y_test = df.iloc[:,0]"
      ],
      "metadata": {
        "id": "GrUvRSiK2EMx"
      },
      "execution_count": 22,
      "outputs": []
    },
    {
      "cell_type": "code",
      "source": [
        "from sklearn.model_selection import train_test_split\n",
        "X_train, X_test, y_train, y_test = train_test_split( df.iloc[:,1:] , df.iloc[:,0] , test_size=0.33, random_state=42)"
      ],
      "metadata": {
        "id": "QJFs_TH73YRL"
      },
      "execution_count": 23,
      "outputs": []
    },
    {
      "cell_type": "code",
      "source": [
        "print(X_train)\n",
        "X_train.shape"
      ],
      "metadata": {
        "colab": {
          "base_uri": "https://localhost:8080/"
        },
        "id": "vVldscvt3r-I",
        "outputId": "36e8700e-38ec-46c1-a859-55e0840ac8e6"
      },
      "execution_count": 24,
      "outputs": [
        {
          "output_type": "stream",
          "name": "stdout",
          "text": [
            "            b0        b1        b2        b3        b4        b5        b6  \\\n",
            "1420  2.050698 -0.896183  5.142563  1.181887  1.497903 -0.019131  0.890384   \n",
            "5281  0.979565  0.212576  0.150633 -0.217770 -1.051537 -0.321965  0.231697   \n",
            "8530 -0.971668 -0.756673 -0.410650 -0.169108  1.466101 -0.898316 -0.682398   \n",
            "6696 -1.684816 -1.397261  0.288518 -0.633818  0.266220  0.781819  0.145849   \n",
            "5517  1.180253  0.519608  0.013616  0.144078 -1.166098  0.479326 -1.089486   \n",
            "...        ...       ...       ...       ...       ...       ...       ...   \n",
            "5734  0.984086  0.483117 -1.338848 -0.107190 -1.241532 -0.639028  1.026829   \n",
            "5191 -0.773074  0.176618  0.033346  0.262807  0.993996 -1.522434 -0.910672   \n",
            "5390  1.302356 -1.317963 -0.081455  0.055237 -1.013731  0.728674 -1.969541   \n",
            "860   0.696948  2.812994 -0.803205  1.112825  0.634107  2.614688  1.467014   \n",
            "7270  0.846028 -0.888089 -0.157176 -0.541581  1.027685  1.254396 -1.428856   \n",
            "\n",
            "            b7        b8        b9  ...       b20       b21       b22  \\\n",
            "1420 -1.099197  1.696390 -0.901143  ... -0.078030  0.097648 -0.047281   \n",
            "5281 -0.933225 -0.920938  0.596231  ...  0.325903 -0.105248 -0.873443   \n",
            "8530 -1.105424 -0.212382  1.487269  ... -1.214304  1.378658  1.307296   \n",
            "6696 -1.532304 -1.027044  0.334632  ... -1.603599 -0.610721 -1.269249   \n",
            "5517 -0.920719 -0.486603  0.794189  ... -1.900052 -0.309421  0.305522   \n",
            "...        ...       ...       ...  ...       ...       ...       ...   \n",
            "5734 -1.004156 -0.117418 -0.080222  ... -1.067291 -0.356113 -0.080580   \n",
            "5191  0.704582 -1.462724  0.101260  ... -1.180538  1.773258 -0.842793   \n",
            "5390  1.619682 -0.823184  0.548913  ...  0.088497  0.226938  0.648505   \n",
            "860   0.037866  1.822876  0.809030  ...  1.767867 -0.961734 -1.470903   \n",
            "7270  0.624398 -1.075576  0.211996  ... -0.003070  0.156569  0.714448   \n",
            "\n",
            "           b23       b24       b25       b26       b27       b28       b29  \n",
            "1420  0.566907  0.827329  0.840177  0.010337 -1.012121  0.031053 -0.039742  \n",
            "5281  0.482066  0.344081 -0.551177  0.743139 -0.409205  0.264265 -0.012227  \n",
            "8530  0.732254  0.480858  0.516897  0.995373  2.326776 -0.223429 -1.319670  \n",
            "6696  0.020304 -2.043320  0.938105  0.763349  0.263561  0.991773 -0.291403  \n",
            "5517  0.763823  0.006327 -1.278501  0.257539  0.006969  0.685898  0.298355  \n",
            "...        ...       ...       ...       ...       ...       ...       ...  \n",
            "5734 -1.657143 -1.995108 -0.827115 -1.776442  1.725835 -0.415827 -0.322810  \n",
            "5191 -0.457555  0.223183 -1.086814  0.774877 -0.541572  0.335722 -0.572958  \n",
            "5390 -0.180533  0.063649  0.701954 -1.350923 -0.223527  5.437720 -1.233154  \n",
            "860  -1.698618 -0.531046  0.422958  1.191770  0.434487  0.379649 -1.811412  \n",
            "7270  0.192046 -0.912434  0.044768  0.858447 -0.314221 -1.438135 -0.642867  \n",
            "\n",
            "[6866 rows x 30 columns]\n"
          ]
        },
        {
          "output_type": "execute_result",
          "data": {
            "text/plain": [
              "(6866, 30)"
            ]
          },
          "metadata": {},
          "execution_count": 24
        }
      ]
    },
    {
      "cell_type": "code",
      "source": [
        "nn = NeuralNetwork(X_train.shape[1],128,17)"
      ],
      "metadata": {
        "id": "luJoc9ge3_lw"
      },
      "execution_count": 25,
      "outputs": []
    },
    {
      "cell_type": "code",
      "source": [
        "nn.train(X_test,y_test,30,0.01)"
      ],
      "metadata": {
        "id": "hgdSpmai4XNV"
      },
      "execution_count": 26,
      "outputs": []
    },
    {
      "cell_type": "code",
      "source": [
        "model_net = []\n",
        "for i in range(5):\n",
        "    validation,train_data = sampling(df,0.2)\n",
        "    v_data = validation.iloc[:,1:]\n",
        "    v_label = validation.iloc[:,0]\n",
        "    # gen = generator(train_data,8)\n",
        "    # x,y = gen\n",
        "    x_data = train_data.iloc[:,1:]\n",
        "    y_data = train_data.iloc[:,0]\n",
        "    nn = NeuralNetwork(X_train.shape[1],128,17)\n",
        "    nn.train(x_data,y_data,500,1)\n",
        "    model_net.append(nn)"
      ],
      "metadata": {
        "id": "NTWMrcze1iqZ",
        "colab": {
          "base_uri": "https://localhost:8080/"
        },
        "outputId": "127c6445-0c6f-4467-a556-6a5857882587"
      },
      "execution_count": 27,
      "outputs": [
        {
          "output_type": "stream",
          "name": "stdout",
          "text": [
            "Epoch 99, Loss: 0.8107\n",
            "Epoch 199, Loss: 0.6131\n",
            "Epoch 299, Loss: 0.5093\n",
            "Epoch 399, Loss: 0.4450\n",
            "Epoch 499, Loss: 0.3986\n",
            "Epoch 99, Loss: 0.8105\n",
            "Epoch 199, Loss: 0.6075\n",
            "Epoch 299, Loss: 0.5015\n",
            "Epoch 399, Loss: 0.4369\n",
            "Epoch 499, Loss: 0.3922\n",
            "Epoch 99, Loss: 0.8294\n",
            "Epoch 199, Loss: 0.6261\n",
            "Epoch 299, Loss: 0.5157\n",
            "Epoch 399, Loss: 0.4481\n",
            "Epoch 499, Loss: 0.3991\n",
            "Epoch 99, Loss: 0.8110\n",
            "Epoch 199, Loss: 0.6169\n",
            "Epoch 299, Loss: 0.5138\n",
            "Epoch 399, Loss: 0.4472\n",
            "Epoch 499, Loss: 0.4013\n",
            "Epoch 99, Loss: 0.8274\n",
            "Epoch 199, Loss: 0.6243\n",
            "Epoch 299, Loss: 0.5186\n",
            "Epoch 399, Loss: 0.4547\n",
            "Epoch 499, Loss: 0.4055\n"
          ]
        }
      ]
    },
    {
      "cell_type": "code",
      "source": [
        "y_pred = []\n",
        "label_op = []\n",
        "for i in range(len(X_test)):\n",
        "  input = X_test.iloc[i]\n",
        "  for model in model_net:\n",
        "      prediction = model.predict(input)\n",
        "      label_op.append(prediction)\n",
        "  max = 0\n",
        "  res = label_op[0]\n",
        "  for i in label_op:\n",
        "      freq = label_op.count(i)\n",
        "      if freq > max:\n",
        "          max = freq\n",
        "          res = i\n",
        "  label_op.clear()\n",
        "  y_pred.append(res)      \n",
        "print(y_pred)"
      ],
      "metadata": {
        "colab": {
          "base_uri": "https://localhost:8080/"
        },
        "id": "q-R7mWNC7qDG",
        "outputId": "a312c795-56c3-4e36-8e6d-8c4e20368567"
      },
      "execution_count": 28,
      "outputs": [
        {
          "output_type": "stream",
          "name": "stdout",
          "text": [
            "[array([14]), array([11]), array([11]), array([11]), array([14]), array([6]), array([8]), array([11]), array([8]), array([14]), array([8]), array([11]), array([11]), array([15]), array([14]), array([12]), array([11]), array([11]), array([1]), array([8]), array([2]), array([8]), array([11]), array([12]), array([11]), array([11]), array([11]), array([2]), array([6]), array([14]), array([6]), array([10]), array([11]), array([11]), array([11]), array([11]), array([10]), array([11]), array([10]), array([3]), array([2]), array([1]), array([11]), array([14]), array([2]), array([11]), array([12]), array([13]), array([10]), array([14]), array([5]), array([10]), array([11]), array([11]), array([5]), array([3]), array([15]), array([6]), array([15]), array([3]), array([11]), array([6]), array([11]), array([11]), array([10]), array([2]), array([6]), array([3]), array([4]), array([11]), array([4]), array([11]), array([14]), array([8]), array([14]), array([14]), array([15]), array([14]), array([11]), array([12]), array([10]), array([6]), array([6]), array([11]), array([6]), array([2]), array([11]), array([2]), array([11]), array([3]), array([11]), array([3]), array([10]), array([8]), array([11]), array([3]), array([15]), array([12]), array([10]), array([13]), array([11]), array([11]), array([10]), array([6]), array([8]), array([14]), array([6]), array([2]), array([14]), array([5]), array([2]), array([14]), array([14]), array([14]), array([14]), array([14]), array([10]), array([11]), array([10]), array([2]), array([3]), array([2]), array([15]), array([2]), array([8]), array([12]), array([6]), array([3]), array([11]), array([11]), array([14]), array([10]), array([15]), array([12]), array([4]), array([12]), array([8]), array([6]), array([3]), array([11]), array([11]), array([5]), array([11]), array([5]), array([6]), array([11]), array([10]), array([11]), array([14]), array([11]), array([11]), array([12]), array([11]), array([5]), array([12]), array([11]), array([15]), array([15]), array([8]), array([2]), array([14]), array([5]), array([11]), array([10]), array([11]), array([12]), array([12]), array([8]), array([14]), array([8]), array([8]), array([6]), array([11]), array([3]), array([6]), array([3]), array([4]), array([11]), array([3]), array([11]), array([10]), array([11]), array([11]), array([11]), array([11]), array([2]), array([10]), array([11]), array([11]), array([6]), array([14]), array([6]), array([2]), array([2]), array([14]), array([10]), array([6]), array([11]), array([11]), array([2]), array([11]), array([8]), array([14]), array([11]), array([5]), array([15]), array([14]), array([11]), array([6]), array([12]), array([14]), array([8]), array([11]), array([12]), array([14]), array([11]), array([8]), array([8]), array([2]), array([6]), array([8]), array([15]), array([2]), array([11]), array([6]), array([2]), array([6]), array([14]), array([11]), array([8]), array([8]), array([15]), array([6]), array([15]), array([14]), array([10]), array([2]), array([11]), array([2]), array([11]), array([6]), array([2]), array([11]), array([11]), array([2]), array([6]), array([14]), array([11]), array([11]), array([11]), array([11]), array([14]), array([6]), array([11]), array([11]), array([6]), array([3]), array([12]), array([10]), array([12]), array([11]), array([11]), array([3]), array([2]), array([2]), array([11]), array([2]), array([11]), array([11]), array([8]), array([14]), array([14]), array([11]), array([3]), array([8]), array([3]), array([14]), array([11]), array([10]), array([11]), array([11]), array([12]), array([13]), array([3]), array([11]), array([12]), array([8]), array([11]), array([6]), array([14]), array([6]), array([11]), array([14]), array([11]), array([14]), array([11]), array([11]), array([3]), array([12]), array([2]), array([11]), array([10]), array([15]), array([11]), array([11]), array([2]), array([11]), array([10]), array([11]), array([11]), array([11]), array([14]), array([6]), array([12]), array([11]), array([10]), array([6]), array([2]), array([2]), array([6]), array([13]), array([3]), array([1]), array([11]), array([6]), array([2]), array([10]), array([14]), array([4]), array([8]), array([4]), array([11]), array([11]), array([11]), array([4]), array([11]), array([11]), array([11]), array([11]), array([10]), array([2]), array([11]), array([11]), array([11]), array([16]), array([5]), array([14]), array([2]), array([3]), array([10]), array([6]), array([6]), array([10]), array([2]), array([10]), array([6]), array([6]), array([11]), array([5]), array([16]), array([2]), array([11]), array([14]), array([6]), array([2]), array([6]), array([3]), array([15]), array([11]), array([11]), array([14]), array([14]), array([14]), array([1]), array([2]), array([5]), array([12]), array([15]), array([14]), array([6]), array([11]), array([11]), array([11]), array([11]), array([11]), array([2]), array([14]), array([11]), array([10]), array([14]), array([5]), array([11]), array([6]), array([2]), array([12]), array([3]), array([14]), array([11]), array([12]), array([10]), array([11]), array([11]), array([8]), array([11]), array([12]), array([2]), array([12]), array([11]), array([11]), array([2]), array([8]), array([14]), array([16]), array([6]), array([4]), array([11]), array([15]), array([6]), array([2]), array([14]), array([2]), array([11]), array([13]), array([2]), array([11]), array([6]), array([11]), array([6]), array([2]), array([6]), array([4]), array([15]), array([11]), array([5]), array([15]), array([10]), array([11]), array([11]), array([3]), array([14]), array([3]), array([8]), array([5]), array([11]), array([11]), array([11]), array([8]), array([11]), array([10]), array([11]), array([2]), array([2]), array([13]), array([15]), array([11]), array([10]), array([6]), array([12]), array([11]), array([15]), array([12]), array([10]), array([11]), array([14]), array([13]), array([14]), array([6]), array([11]), array([11]), array([11]), array([14]), array([2]), array([11]), array([10]), array([11]), array([12]), array([3]), array([3]), array([14]), array([14]), array([11]), array([11]), array([15]), array([11]), array([11]), array([11]), array([5]), array([8]), array([11]), array([11]), array([10]), array([2]), array([14]), array([11]), array([3]), array([14]), array([11]), array([11]), array([11]), array([14]), array([11]), array([11]), array([10]), array([2]), array([14]), array([14]), array([11]), array([11]), array([3]), array([11]), array([6]), array([11]), array([11]), array([11]), array([2]), array([11]), array([11]), array([15]), array([14]), array([1]), array([6]), array([11]), array([11]), array([8]), array([14]), array([11]), array([15]), array([11]), array([6]), array([11]), array([2]), array([11]), array([2]), array([8]), array([9]), array([10]), array([10]), array([3]), array([5]), array([11]), array([11]), array([6]), array([10]), array([2]), array([11]), array([11]), array([11]), array([11]), array([8]), array([15]), array([11]), array([14]), array([15]), array([2]), array([6]), array([14]), array([2]), array([3]), array([2]), array([10]), array([2]), array([10]), array([14]), array([11]), array([14]), array([4]), array([10]), array([11]), array([11]), array([8]), array([8]), array([3]), array([10]), array([11]), array([3]), array([11]), array([11]), array([11]), array([11]), array([14]), array([2]), array([11]), array([3]), array([14]), array([8]), array([14]), array([8]), array([14]), array([5]), array([2]), array([5]), array([14]), array([13]), array([11]), array([6]), array([6]), array([14]), array([12]), array([6]), array([11]), array([11]), array([6]), array([12]), array([10]), array([6]), array([3]), array([11]), array([11]), array([10]), array([12]), array([4]), array([14]), array([10]), array([11]), array([3]), array([14]), array([3]), array([8]), array([15]), array([13]), array([10]), array([11]), array([10]), array([10]), array([2]), array([11]), array([10]), array([10]), array([3]), array([12]), array([10]), array([14]), array([2]), array([1]), array([6]), array([6]), array([15]), array([11]), array([2]), array([2]), array([14]), array([3]), array([11]), array([11]), array([6]), array([11]), array([2]), array([11]), array([11]), array([14]), array([2]), array([6]), array([3]), array([3]), array([15]), array([11]), array([16]), array([6]), array([11]), array([8]), array([11]), array([11]), array([11]), array([14]), array([2]), array([3]), array([14]), array([11]), array([14]), array([15]), array([12]), array([11]), array([14]), array([10]), array([2]), array([8]), array([10]), array([11]), array([11]), array([11]), array([3]), array([12]), array([3]), array([11]), array([6]), array([11]), array([11]), array([11]), array([11]), array([3]), array([11]), array([6]), array([15]), array([3]), array([8]), array([2]), array([14]), array([3]), array([2]), array([3]), array([11]), array([11]), array([2]), array([12]), array([3]), array([6]), array([3]), array([10]), array([10]), array([3]), array([9]), array([6]), array([12]), array([2]), array([3]), array([11]), array([11]), array([11]), array([5]), array([11]), array([3]), array([10]), array([16]), array([8]), array([5]), array([12]), array([15]), array([8]), array([2]), array([10]), array([10]), array([15]), array([2]), array([3]), array([11]), array([14]), array([5]), array([10]), array([11]), array([4]), array([14]), array([12]), array([11]), array([11]), array([11]), array([2]), array([11]), array([8]), array([11]), array([2]), array([11]), array([11]), array([11]), array([5]), array([14]), array([15]), array([8]), array([5]), array([2]), array([4]), array([16]), array([10]), array([2]), array([11]), array([15]), array([11]), array([10]), array([14]), array([6]), array([11]), array([11]), array([14]), array([2]), array([10]), array([3]), array([6]), array([14]), array([3]), array([11]), array([13]), array([14]), array([11]), array([11]), array([15]), array([14]), array([12]), array([11]), array([3]), array([8]), array([6]), array([8]), array([8]), array([10]), array([6]), array([11]), array([11]), array([3]), array([10]), array([5]), array([11]), array([5]), array([11]), array([5]), array([11]), array([8]), array([11]), array([15]), array([1]), array([2]), array([16]), array([11]), array([8]), array([4]), array([3]), array([3]), array([11]), array([14]), array([2]), array([11]), array([12]), array([8]), array([3]), array([11]), array([3]), array([13]), array([11]), array([11]), array([6]), array([11]), array([11]), array([11]), array([14]), array([3]), array([10]), array([8]), array([14]), array([6]), array([8]), array([5]), array([14]), array([14]), array([8]), array([12]), array([11]), array([11]), array([11]), array([10]), array([11]), array([13]), array([11]), array([14]), array([3]), array([11]), array([5]), array([6]), array([11]), array([11]), array([14]), array([11]), array([11]), array([11]), array([5]), array([5]), array([5]), array([14]), array([12]), array([11]), array([11]), array([12]), array([2]), array([12]), array([11]), array([6]), array([11]), array([14]), array([12]), array([8]), array([11]), array([13]), array([14]), array([15]), array([10]), array([11]), array([3]), array([10]), array([12]), array([11]), array([14]), array([3]), array([2]), array([3]), array([14]), array([2]), array([14]), array([12]), array([15]), array([11]), array([8]), array([12]), array([11]), array([10]), array([2]), array([11]), array([11]), array([12]), array([14]), array([12]), array([14]), array([12]), array([11]), array([8]), array([14]), array([6]), array([8]), array([11]), array([11]), array([3]), array([11]), array([15]), array([5]), array([2]), array([2]), array([14]), array([4]), array([6]), array([11]), array([5]), array([3]), array([6]), array([14]), array([3]), array([14]), array([10]), array([2]), array([14]), array([8]), array([14]), array([11]), array([11]), array([11]), array([11]), array([2]), array([2]), array([2]), array([14]), array([11]), array([3]), array([11]), array([11]), array([5]), array([4]), array([3]), array([15]), array([12]), array([12]), array([2]), array([11]), array([14]), array([14]), array([11]), array([11]), array([11]), array([5]), array([14]), array([11]), array([1]), array([11]), array([2]), array([11]), array([11]), array([3]), array([11]), array([6]), array([14]), array([11]), array([3]), array([3]), array([2]), array([5]), array([14]), array([14]), array([14]), array([14]), array([10]), array([11]), array([11]), array([11]), array([5]), array([3]), array([4]), array([15]), array([5]), array([11]), array([14]), array([5]), array([12]), array([14]), array([12]), array([11]), array([11]), array([11]), array([6]), array([11]), array([8]), array([11]), array([14]), array([5]), array([11]), array([11]), array([11]), array([2]), array([10]), array([14]), array([8]), array([3]), array([14]), array([11]), array([10]), array([12]), array([12]), array([14]), array([13]), array([14]), array([11]), array([11]), array([11]), array([6]), array([11]), array([3]), array([6]), array([8]), array([11]), array([6]), array([13]), array([10]), array([11]), array([11]), array([11]), array([10]), array([6]), array([11]), array([11]), array([10]), array([12]), array([2]), array([15]), array([3]), array([2]), array([2]), array([3]), array([11]), array([10]), array([3]), array([14]), array([10]), array([6]), array([11]), array([11]), array([11]), array([15]), array([12]), array([11]), array([6]), array([3]), array([11]), array([12]), array([11]), array([10]), array([11]), array([10]), array([2]), array([11]), array([14]), array([14]), array([2]), array([11]), array([15]), array([11]), array([2]), array([14]), array([11]), array([8]), array([6]), array([12]), array([11]), array([11]), array([3]), array([3]), array([10]), array([5]), array([5]), array([5]), array([3]), array([5]), array([6]), array([11]), array([5]), array([11]), array([10]), array([2]), array([11]), array([11]), array([14]), array([16]), array([14]), array([11]), array([8]), array([3]), array([10]), array([3]), array([3]), array([14]), array([11]), array([8]), array([11]), array([2]), array([3]), array([14]), array([11]), array([6]), array([3]), array([2]), array([14]), array([11]), array([14]), array([6]), array([11]), array([5]), array([1]), array([2]), array([2]), array([11]), array([10]), array([3]), array([10]), array([14]), array([11]), array([14]), array([14]), array([6]), array([14]), array([2]), array([11]), array([11]), array([15]), array([14]), array([3]), array([11]), array([6]), array([14]), array([2]), array([11]), array([11]), array([11]), array([2]), array([4]), array([3]), array([14]), array([12]), array([15]), array([5]), array([14]), array([10]), array([14]), array([11]), array([13]), array([2]), array([10]), array([14]), array([4]), array([7]), array([10]), array([14]), array([10]), array([11]), array([2]), array([8]), array([12]), array([6]), array([8]), array([11]), array([11]), array([6]), array([2]), array([3]), array([14]), array([5]), array([16]), array([12]), array([11]), array([14]), array([11]), array([11]), array([11]), array([11]), array([11]), array([11]), array([11]), array([11]), array([6]), array([11]), array([2]), array([11]), array([14]), array([2]), array([8]), array([5]), array([5]), array([12]), array([14]), array([10]), array([10]), array([8]), array([15]), array([11]), array([2]), array([11]), array([11]), array([11]), array([2]), array([3]), array([6]), array([12]), array([6]), array([12]), array([3]), array([2]), array([6]), array([13]), array([2]), array([15]), array([11]), array([12]), array([11]), array([5]), array([14]), array([11]), array([5]), array([15]), array([11]), array([6]), array([11]), array([8]), array([11]), array([11]), array([10]), array([11]), array([10]), array([11]), array([2]), array([14]), array([11]), array([11]), array([13]), array([11]), array([11]), array([11]), array([15]), array([11]), array([2]), array([11]), array([6]), array([10]), array([14]), array([11]), array([12]), array([6]), array([14]), array([6]), array([11]), array([6]), array([14]), array([11]), array([6]), array([11]), array([14]), array([11]), array([3]), array([11]), array([10]), array([8]), array([3]), array([11]), array([6]), array([11]), array([10]), array([11]), array([11]), array([11]), array([15]), array([11]), array([3]), array([12]), array([11]), array([6]), array([6]), array([2]), array([3]), array([15]), array([4]), array([6]), array([5]), array([2]), array([2]), array([8]), array([10]), array([6]), array([10]), array([14]), array([12]), array([11]), array([14]), array([5]), array([6]), array([14]), array([11]), array([8]), array([2]), array([6]), array([2]), array([6]), array([3]), array([11]), array([8]), array([11]), array([2]), array([8]), array([11]), array([11]), array([6]), array([5]), array([3]), array([3]), array([8]), array([6]), array([15]), array([10]), array([2]), array([11]), array([3]), array([8]), array([2]), array([2]), array([11]), array([11]), array([4]), array([5]), array([11]), array([3]), array([8]), array([4]), array([11]), array([14]), array([5]), array([11]), array([11]), array([5]), array([11]), array([10]), array([11]), array([2]), array([10]), array([10]), array([14]), array([11]), array([11]), array([3]), array([11]), array([12]), array([11]), array([5]), array([6]), array([10]), array([14]), array([4]), array([10]), array([11]), array([11]), array([11]), array([15]), array([14]), array([11]), array([12]), array([13]), array([2]), array([15]), array([5]), array([6]), array([11]), array([8]), array([15]), array([11]), array([2]), array([11]), array([11]), array([14]), array([11]), array([14]), array([11]), array([11]), array([6]), array([5]), array([10]), array([8]), array([10]), array([11]), array([12]), array([13]), array([8]), array([2]), array([5]), array([8]), array([12]), array([4]), array([11]), array([11]), array([11]), array([11]), array([12]), array([14]), array([2]), array([11]), array([3]), array([10]), array([3]), array([6]), array([5]), array([6]), array([11]), array([8]), array([6]), array([11]), array([5]), array([3]), array([11]), array([3]), array([14]), array([14]), array([3]), array([15]), array([11]), array([11]), array([3]), array([11]), array([14]), array([12]), array([14]), array([13]), array([3]), array([5]), array([10]), array([11]), array([11]), array([8]), array([11]), array([12]), array([14]), array([12]), array([5]), array([12]), array([11]), array([2]), array([12]), array([6]), array([8]), array([5]), array([11]), array([8]), array([6]), array([5]), array([10]), array([11]), array([3]), array([4]), array([15]), array([11]), array([5]), array([13]), array([11]), array([2]), array([2]), array([11]), array([10]), array([12]), array([10]), array([10]), array([14]), array([4]), array([11]), array([10]), array([12]), array([11]), array([11]), array([15]), array([11]), array([15]), array([14]), array([8]), array([11]), array([2]), array([11]), array([16]), array([15]), array([12]), array([13]), array([14]), array([2]), array([10]), array([10]), array([13]), array([12]), array([6]), array([11]), array([5]), array([14]), array([11]), array([6]), array([10]), array([11]), array([8]), array([14]), array([14]), array([12]), array([14]), array([11]), array([11]), array([15]), array([11]), array([11]), array([3]), array([3]), array([6]), array([6]), array([11]), array([15]), array([3]), array([10]), array([15]), array([11]), array([14]), array([10]), array([11]), array([2]), array([11]), array([4]), array([11]), array([5]), array([14]), array([11]), array([10]), array([2]), array([2]), array([10]), array([6]), array([2]), array([14]), array([10]), array([8]), array([3]), array([6]), array([6]), array([2]), array([3]), array([14]), array([14]), array([11]), array([11]), array([14]), array([14]), array([11]), array([15]), array([11]), array([8]), array([6]), array([2]), array([11]), array([12]), array([2]), array([11]), array([11]), array([8]), array([3]), array([11]), array([6]), array([6]), array([5]), array([14]), array([10]), array([3]), array([2]), array([2]), array([5]), array([3]), array([11]), array([14]), array([3]), array([5]), array([12]), array([11]), array([10]), array([11]), array([11]), array([3]), array([2]), array([15]), array([12]), array([3]), array([11]), array([14]), array([5]), array([12]), array([2]), array([12]), array([5]), array([11]), array([2]), array([2]), array([11]), array([11]), array([14]), array([15]), array([2]), array([5]), array([14]), array([6]), array([10]), array([11]), array([15]), array([2]), array([16]), array([12]), array([14]), array([14]), array([15]), array([2]), array([11]), array([15]), array([3]), array([4]), array([6]), array([14]), array([14]), array([10]), array([8]), array([3]), array([6]), array([11]), array([10]), array([15]), array([11]), array([12]), array([13]), array([15]), array([8]), array([11]), array([3]), array([14]), array([2]), array([11]), array([12]), array([14]), array([15]), array([15]), array([11]), array([14]), array([11]), array([2]), array([10]), array([6]), array([6]), array([2]), array([14]), array([10]), array([2]), array([14]), array([11]), array([12]), array([12]), array([8]), array([12]), array([15]), array([12]), array([2]), array([6]), array([2]), array([11]), array([14]), array([14]), array([14]), array([1]), array([10]), array([11]), array([10]), array([11]), array([12]), array([6]), array([5]), array([11]), array([15]), array([6]), array([11]), array([5]), array([11]), array([14]), array([14]), array([2]), array([12]), array([5]), array([14]), array([11]), array([10]), array([13]), array([11]), array([14]), array([11]), array([2]), array([8]), array([11]), array([8]), array([14]), array([5]), array([11]), array([3]), array([11]), array([16]), array([10]), array([10]), array([11]), array([2]), array([14]), array([3]), array([5]), array([11]), array([2]), array([11]), array([11]), array([11]), array([11]), array([14]), array([15]), array([15]), array([11]), array([11]), array([14]), array([11]), array([8]), array([10]), array([11]), array([5]), array([11]), array([11]), array([11]), array([7]), array([6]), array([11]), array([10]), array([3]), array([11]), array([10]), array([8]), array([14]), array([11]), array([11]), array([10]), array([2]), array([12]), array([3]), array([10]), array([11]), array([11]), array([3]), array([11]), array([11]), array([14]), array([14]), array([14]), array([14]), array([11]), array([11]), array([11]), array([2]), array([14]), array([12]), array([6]), array([4]), array([11]), array([14]), array([8]), array([12]), array([14]), array([15]), array([2]), array([3]), array([10]), array([13]), array([11]), array([6]), array([11]), array([3]), array([5]), array([6]), array([11]), array([5]), array([8]), array([11]), array([10]), array([13]), array([11]), array([4]), array([14]), array([11]), array([2]), array([3]), array([12]), array([11]), array([11]), array([14]), array([12]), array([15]), array([11]), array([6]), array([13]), array([11]), array([13]), array([5]), array([10]), array([14]), array([14]), array([14]), array([14]), array([15]), array([10]), array([4]), array([12]), array([14]), array([3]), array([10]), array([13]), array([14]), array([10]), array([10]), array([11]), array([12]), array([2]), array([11]), array([11]), array([6]), array([8]), array([11]), array([10]), array([11]), array([6]), array([11]), array([10]), array([14]), array([12]), array([10]), array([5]), array([5]), array([8]), array([11]), array([8]), array([11]), array([6]), array([11]), array([3]), array([11]), array([11]), array([2]), array([14]), array([14]), array([11]), array([6]), array([11]), array([13]), array([2]), array([3]), array([2]), array([3]), array([3]), array([6]), array([11]), array([8]), array([11]), array([3]), array([3]), array([11]), array([11]), array([10]), array([11]), array([11]), array([2]), array([11]), array([3]), array([11]), array([3]), array([11]), array([13]), array([11]), array([11]), array([11]), array([2]), array([6]), array([12]), array([10]), array([11]), array([2]), array([5]), array([11]), array([10]), array([8]), array([11]), array([11]), array([12]), array([11]), array([5]), array([11]), array([3]), array([2]), array([11]), array([6]), array([14]), array([11]), array([11]), array([14]), array([6]), array([10]), array([6]), array([11]), array([5]), array([11]), array([3]), array([12]), array([5]), array([11]), array([5]), array([10]), array([11]), array([11]), array([14]), array([2]), array([12]), array([11]), array([4]), array([11]), array([2]), array([1]), array([2]), array([6]), array([11]), array([14]), array([7]), array([3]), array([16]), array([3]), array([11]), array([11]), array([10]), array([5]), array([11]), array([2]), array([3]), array([14]), array([8]), array([3]), array([11]), array([15]), array([3]), array([10]), array([2]), array([5]), array([10]), array([12]), array([10]), array([14]), array([11]), array([14]), array([3]), array([12]), array([6]), array([2]), array([11]), array([11]), array([12]), array([3]), array([8]), array([11]), array([2]), array([10]), array([4]), array([6]), array([11]), array([11]), array([14]), array([12]), array([4]), array([15]), array([4]), array([5]), array([10]), array([10]), array([15]), array([10]), array([2]), array([11]), array([13]), array([6]), array([12]), array([14]), array([11]), array([11]), array([11]), array([11]), array([3]), array([8]), array([11]), array([14]), array([5]), array([5]), array([14]), array([8]), array([11]), array([11]), array([11]), array([3]), array([11]), array([2]), array([14]), array([11]), array([16]), array([11]), array([8]), array([11]), array([2]), array([12]), array([1]), array([11]), array([14]), array([12]), array([2]), array([11]), array([2]), array([11]), array([14]), array([2]), array([11]), array([6]), array([2]), array([11]), array([2]), array([10]), array([14]), array([10]), array([7]), array([11]), array([15]), array([10]), array([12]), array([6]), array([15]), array([11]), array([14]), array([1]), array([3]), array([10]), array([11]), array([11]), array([12]), array([6]), array([12]), array([11]), array([11]), array([3]), array([11]), array([12]), array([10]), array([11]), array([5]), array([12]), array([14]), array([11]), array([2]), array([11]), array([2]), array([14]), array([11]), array([14]), array([6]), array([6]), array([12]), array([3]), array([10]), array([11]), array([12]), array([11]), array([11]), array([15]), array([6]), array([10]), array([3]), array([14]), array([11]), array([10]), array([12]), array([8]), array([10]), array([5]), array([5]), array([5]), array([14]), array([11]), array([13]), array([6]), array([6]), array([6]), array([11]), array([11]), array([2]), array([15]), array([11]), array([4]), array([11]), array([2]), array([3]), array([6]), array([14]), array([11]), array([2]), array([11]), array([11]), array([11]), array([11]), array([14]), array([11]), array([14]), array([14]), array([5]), array([6]), array([11]), array([2]), array([11]), array([11]), array([11]), array([2]), array([3]), array([6]), array([10]), array([14]), array([14]), array([11]), array([14]), array([12]), array([11]), array([2]), array([5]), array([12]), array([5]), array([2]), array([3]), array([11]), array([11]), array([10]), array([2]), array([4]), array([11]), array([13]), array([14]), array([6]), array([2]), array([15]), array([11]), array([4]), array([2]), array([12]), array([2]), array([11]), array([11]), array([11]), array([6]), array([2]), array([11]), array([6]), array([11]), array([3]), array([2]), array([6]), array([11]), array([5]), array([15]), array([8]), array([6]), array([11]), array([9]), array([3]), array([11]), array([6]), array([3]), array([14]), array([5]), array([3]), array([14]), array([11]), array([11]), array([14]), array([14]), array([11]), array([8]), array([11]), array([10]), array([3]), array([6]), array([11]), array([4]), array([11]), array([10]), array([11]), array([10]), array([14]), array([3]), array([5]), array([11]), array([6]), array([3]), array([12]), array([16]), array([12]), array([11]), array([14]), array([11]), array([2]), array([6]), array([12]), array([11]), array([11]), array([12]), array([6]), array([11]), array([14]), array([14]), array([14]), array([2]), array([8]), array([11]), array([11]), array([3]), array([10]), array([3]), array([10]), array([14]), array([4]), array([12]), array([11]), array([11]), array([10]), array([10]), array([14]), array([10]), array([6]), array([4]), array([11]), array([11]), array([10]), array([11]), array([10]), array([14]), array([14]), array([2]), array([11]), array([12]), array([11]), array([11]), array([11]), array([11]), array([10]), array([6]), array([14]), array([11]), array([11]), array([11]), array([11]), array([2]), array([12]), array([12]), array([3]), array([5]), array([11]), array([10]), array([8]), array([11]), array([2]), array([14]), array([11]), array([7]), array([14]), array([15]), array([11]), array([11]), array([2]), array([12]), array([11]), array([10]), array([10]), array([10]), array([11]), array([10]), array([3]), array([11]), array([14]), array([15]), array([12]), array([6]), array([10]), array([15]), array([2]), array([11]), array([6]), array([11]), array([11]), array([11]), array([11]), array([11]), array([11]), array([11]), array([11]), array([11]), array([11]), array([10]), array([7]), array([2]), array([11]), array([5]), array([15]), array([13]), array([13]), array([12]), array([11]), array([11]), array([14]), array([15]), array([11]), array([2]), array([15]), array([5]), array([2]), array([2]), array([11]), array([5]), array([2]), array([11]), array([5]), array([14]), array([14]), array([14]), array([11]), array([11]), array([10]), array([14]), array([11]), array([14]), array([6]), array([11]), array([12]), array([14]), array([11]), array([2]), array([11]), array([11]), array([11]), array([11]), array([16]), array([14]), array([11]), array([10]), array([11]), array([4]), array([15]), array([11]), array([6]), array([10]), array([14]), array([11]), array([10]), array([11]), array([2]), array([13]), array([7]), array([14]), array([11]), array([12]), array([14]), array([2]), array([11]), array([14]), array([13]), array([4]), array([11]), array([6]), array([3]), array([11]), array([6]), array([10]), array([13]), array([2]), array([15]), array([6]), array([2]), array([15]), array([14]), array([14]), array([6]), array([11]), array([11]), array([12]), array([14]), array([14]), array([12]), array([11]), array([2]), array([2]), array([3]), array([14]), array([14]), array([11]), array([8]), array([13]), array([2]), array([11]), array([11]), array([3]), array([5]), array([2]), array([11]), array([15]), array([11]), array([1]), array([11]), array([5]), array([11]), array([14]), array([14]), array([3]), array([10]), array([11]), array([11]), array([10]), array([11]), array([8]), array([2]), array([14]), array([14]), array([15]), array([11]), array([11]), array([6]), array([13]), array([2]), array([11]), array([11]), array([11]), array([14]), array([8]), array([10]), array([11]), array([11]), array([6]), array([11]), array([14]), array([8]), array([6]), array([12]), array([15]), array([11]), array([14]), array([11]), array([3]), array([14]), array([14]), array([11]), array([11]), array([5]), array([6]), array([5]), array([14]), array([11]), array([4]), array([2]), array([10]), array([6]), array([8]), array([2]), array([2]), array([11]), array([14]), array([14]), array([11]), array([14]), array([11]), array([10]), array([14]), array([2]), array([3]), array([2]), array([3]), array([6]), array([12]), array([16]), array([14]), array([8]), array([11]), array([3]), array([10]), array([11]), array([2]), array([10]), array([11]), array([10]), array([11]), array([11]), array([12]), array([14]), array([11]), array([12]), array([2]), array([14]), array([10]), array([11]), array([2]), array([16]), array([12]), array([10]), array([11]), array([14]), array([11]), array([11]), array([6]), array([15]), array([12]), array([14]), array([13]), array([6]), array([11]), array([11]), array([3]), array([11]), array([12]), array([14]), array([13]), array([5]), array([12]), array([11]), array([11]), array([6]), array([1]), array([11]), array([11]), array([12]), array([2]), array([12]), array([11]), array([11]), array([11]), array([11]), array([14]), array([11]), array([11]), array([2]), array([2]), array([3]), array([11]), array([5]), array([6]), array([11]), array([8]), array([11]), array([11]), array([2]), array([3]), array([10]), array([11]), array([12]), array([11]), array([10]), array([4]), array([14]), array([10]), array([14]), array([3]), array([4]), array([3]), array([14]), array([11]), array([15]), array([12]), array([10]), array([11]), array([3]), array([14]), array([11]), array([11]), array([14]), array([8]), array([14]), array([11]), array([13]), array([10]), array([11]), array([11]), array([11]), array([8]), array([12]), array([11]), array([2]), array([14]), array([15]), array([11]), array([3]), array([2]), array([2]), array([11]), array([10]), array([2]), array([6]), array([11]), array([11]), array([16]), array([12]), array([2]), array([11]), array([14]), array([11]), array([10]), array([12]), array([11]), array([11]), array([10]), array([6]), array([11]), array([11]), array([11]), array([11]), array([2]), array([1]), array([10]), array([15]), array([5]), array([12]), array([14]), array([3]), array([11]), array([10]), array([10]), array([2]), array([14]), array([16]), array([10]), array([14]), array([5]), array([10]), array([11]), array([14]), array([2]), array([14]), array([11]), array([11]), array([14]), array([11]), array([2]), array([14]), array([13]), array([10]), array([6]), array([6]), array([6]), array([11]), array([1]), array([11]), array([10]), array([11]), array([11]), array([14]), array([14]), array([11]), array([10]), array([14]), array([10]), array([14]), array([8]), array([2]), array([11]), array([11]), array([12]), array([15]), array([11]), array([2]), array([10]), array([11]), array([11]), array([5]), array([6]), array([10]), array([12]), array([3]), array([2]), array([14]), array([8]), array([14]), array([6]), array([10]), array([14]), array([2]), array([14]), array([12]), array([12]), array([3]), array([10]), array([6]), array([10]), array([11]), array([14]), array([10]), array([11]), array([3]), array([11]), array([11]), array([2]), array([6]), array([11]), array([2]), array([12]), array([6]), array([8]), array([11]), array([15]), array([14]), array([3]), array([11]), array([8]), array([11]), array([10]), array([11]), array([11]), array([12]), array([11]), array([2]), array([7]), array([6]), array([3]), array([14]), array([9]), array([2]), array([3]), array([11]), array([11]), array([14]), array([8]), array([14]), array([11]), array([13]), array([11]), array([14]), array([11]), array([3]), array([2]), array([11]), array([11]), array([2]), array([10]), array([16]), array([5]), array([3]), array([11]), array([2]), array([11]), array([11]), array([2]), array([10]), array([2]), array([2]), array([11]), array([14]), array([8]), array([14]), array([4]), array([11]), array([11]), array([11]), array([11]), array([2]), array([12]), array([14]), array([6]), array([4]), array([6]), array([15]), array([12]), array([14]), array([2]), array([11]), array([14]), array([16]), array([14]), array([10]), array([2]), array([3]), array([10]), array([11]), array([13]), array([14]), array([6]), array([8]), array([2]), array([5]), array([11]), array([4]), array([13]), array([2]), array([12]), array([14]), array([16]), array([14]), array([11]), array([5]), array([14]), array([11]), array([10]), array([14]), array([13]), array([2]), array([2]), array([14]), array([11]), array([12]), array([10]), array([11]), array([10]), array([16]), array([5]), array([2]), array([13]), array([11]), array([6]), array([3]), array([8]), array([10]), array([11]), array([6]), array([15]), array([15]), array([14]), array([10]), array([11]), array([7]), array([11]), array([11]), array([5]), array([2]), array([11]), array([13]), array([4]), array([10]), array([11]), array([11]), array([11]), array([11]), array([6]), array([12]), array([8]), array([2]), array([5]), array([2]), array([3]), array([11]), array([14]), array([2]), array([12]), array([3]), array([12]), array([14]), array([11]), array([11]), array([10]), array([11]), array([11]), array([2]), array([11]), array([14]), array([14]), array([11]), array([11]), array([3]), array([11]), array([4]), array([4]), array([14]), array([11]), array([10]), array([11]), array([11]), array([15]), array([2]), array([8]), array([10]), array([11]), array([8]), array([14]), array([6]), array([10]), array([5]), array([13]), array([14]), array([11]), array([5]), array([3]), array([11]), array([11]), array([4]), array([14]), array([4]), array([3]), array([14]), array([14]), array([11]), array([10]), array([11]), array([6]), array([2]), array([8]), array([3]), array([3]), array([10]), array([6]), array([2]), array([2]), array([3]), array([11]), array([5]), array([16]), array([15]), array([10]), array([14]), array([10]), array([11]), array([3]), array([10]), array([14]), array([11]), array([6]), array([6]), array([12]), array([11]), array([14]), array([1]), array([2]), array([8]), array([11]), array([14]), array([12]), array([10]), array([2]), array([3]), array([14]), array([2]), array([11]), array([10]), array([3]), array([2]), array([10]), array([11]), array([2]), array([2]), array([3]), array([5]), array([2]), array([10]), array([6]), array([2]), array([10]), array([15]), array([2]), array([14]), array([10]), array([3]), array([12]), array([11]), array([11]), array([12]), array([15]), array([14]), array([11]), array([14]), array([4]), array([6]), array([12]), array([3]), array([10]), array([14]), array([3]), array([12]), array([15]), array([15]), array([12]), array([14]), array([4]), array([12]), array([4]), array([10]), array([11]), array([2]), array([3]), array([11]), array([14]), array([12]), array([11]), array([5]), array([11]), array([2]), array([11]), array([14]), array([14]), array([15]), array([14]), array([5]), array([2]), array([6]), array([11]), array([2]), array([11]), array([11]), array([14]), array([11]), array([11]), array([16]), array([11]), array([14]), array([12]), array([12]), array([14]), array([5]), array([11]), array([6]), array([8]), array([4]), array([13]), array([11]), array([14]), array([14]), array([2]), array([3]), array([13]), array([12]), array([3]), array([11]), array([14]), array([11]), array([11]), array([2]), array([11]), array([12]), array([3]), array([4]), array([14]), array([14]), array([11]), array([11]), array([3]), array([4]), array([10]), array([3]), array([14]), array([11]), array([12]), array([2]), array([11]), array([11]), array([4]), array([14]), array([10]), array([2]), array([11]), array([10]), array([14]), array([3]), array([8]), array([11]), array([14]), array([14]), array([6]), array([12]), array([14]), array([4]), array([2]), array([16]), array([14]), array([3]), array([14]), array([11]), array([2]), array([3]), array([11]), array([11]), array([2]), array([14]), array([6]), array([16]), array([11]), array([13]), array([14]), array([8]), array([13]), array([8]), array([6]), array([5]), array([6]), array([10]), array([3]), array([11]), array([14]), array([3]), array([15]), array([11]), array([8]), array([11]), array([3]), array([14]), array([3]), array([2]), array([15]), array([11]), array([11]), array([14]), array([15]), array([6]), array([11]), array([14]), array([2]), array([5]), array([2]), array([4]), array([8]), array([11]), array([13]), array([14]), array([7]), array([11]), array([11]), array([11]), array([14]), array([2]), array([14]), array([2]), array([6]), array([11]), array([13]), array([11]), array([4]), array([12]), array([5]), array([2]), array([3]), array([3]), array([11]), array([2]), array([8]), array([14]), array([3]), array([16]), array([11]), array([11]), array([4]), array([2]), array([14]), array([5]), array([2]), array([3]), array([12]), array([14]), array([11]), array([10]), array([14]), array([4]), array([11]), array([3]), array([2]), array([11]), array([11]), array([10]), array([4]), array([10]), array([11]), array([6]), array([11]), array([10]), array([10]), array([8]), array([14]), array([14]), array([2]), array([14]), array([14]), array([5]), array([8]), array([10]), array([11]), array([10]), array([11]), array([11]), array([11]), array([11]), array([10]), array([5]), array([14]), array([10]), array([5]), array([11]), array([11]), array([10]), array([10]), array([12]), array([10]), array([8]), array([6]), array([11]), array([3]), array([11]), array([6]), array([12]), array([11]), array([11]), array([11]), array([2]), array([13]), array([11]), array([12]), array([8]), array([14]), array([6]), array([8]), array([12]), array([11]), array([8]), array([2]), array([6]), array([10]), array([11]), array([6]), array([11]), array([10]), array([12]), array([5]), array([8]), array([11]), array([11]), array([5]), array([11]), array([3]), array([14]), array([11]), array([15]), array([15]), array([14]), array([11]), array([13]), array([15]), array([6]), array([8]), array([15]), array([3]), array([6]), array([10]), array([13]), array([11]), array([6]), array([11]), array([3]), array([3]), array([11]), array([14]), array([10]), array([2]), array([15]), array([11]), array([14]), array([12]), array([2]), array([8]), array([11]), array([14]), array([11]), array([11]), array([6]), array([14]), array([11]), array([10]), array([6]), array([11]), array([8]), array([10]), array([2]), array([16]), array([14]), array([11]), array([11]), array([11]), array([11]), array([12]), array([15]), array([4]), array([11]), array([15]), array([14]), array([3]), array([11]), array([14]), array([6]), array([13]), array([11]), array([11]), array([14]), array([3]), array([3]), array([2]), array([11]), array([14]), array([2]), array([11]), array([16]), array([12]), array([11]), array([5]), array([11]), array([11]), array([10]), array([11]), array([6]), array([11]), array([11]), array([10]), array([15]), array([12]), array([2]), array([14]), array([10]), array([16]), array([5]), array([14]), array([5]), array([10]), array([11]), array([5]), array([11]), array([14]), array([12]), array([11]), array([13]), array([15]), array([2]), array([3]), array([4]), array([11]), array([5]), array([12]), array([12]), array([11]), array([11]), array([6]), array([4]), array([2]), array([10]), array([11]), array([2]), array([14]), array([3]), array([11]), array([15]), array([12]), array([6]), array([2]), array([11]), array([11]), array([14]), array([11]), array([14]), array([6])]\n"
          ]
        }
      ]
    },
    {
      "cell_type": "code",
      "source": [
        "arr = np.array(y_pred)"
      ],
      "metadata": {
        "id": "Y9xonR6koTV-"
      },
      "execution_count": 29,
      "outputs": []
    },
    {
      "cell_type": "code",
      "source": [
        "arr.shape"
      ],
      "metadata": {
        "colab": {
          "base_uri": "https://localhost:8080/"
        },
        "id": "FTYqefSoozCV",
        "outputId": "f8461c64-7f35-4522-8d8b-acc9e49cd4eb"
      },
      "execution_count": 30,
      "outputs": [
        {
          "output_type": "execute_result",
          "data": {
            "text/plain": [
              "(3383, 1)"
            ]
          },
          "metadata": {},
          "execution_count": 30
        }
      ]
    },
    {
      "cell_type": "code",
      "source": [
        "# # reshape y_pred to match the shape of the original image\n",
        "# y_pred_2d = np.reshape(y_pred, (145, 145))\n",
        "\n",
        "# # display the predicted labels as a 2D image\n",
        "# plt.imshow(y_pred_2d)\n",
        "# plt.show()"
      ],
      "metadata": {
        "id": "1i2usKEhorMm"
      },
      "execution_count": 31,
      "outputs": []
    },
    {
      "cell_type": "code",
      "source": [
        "y_test"
      ],
      "metadata": {
        "colab": {
          "base_uri": "https://localhost:8080/"
        },
        "id": "ypwoFu_N75zd",
        "outputId": "e1f8122d-f671-428f-b859-181ecf3882a9"
      },
      "execution_count": 32,
      "outputs": [
        {
          "output_type": "execute_result",
          "data": {
            "text/plain": [
              "9530     14.0\n",
              "10213    10.0\n",
              "7434     11.0\n",
              "3059     11.0\n",
              "1145     14.0\n",
              "         ... \n",
              "3509     11.0\n",
              "8740     14.0\n",
              "1108     12.0\n",
              "8864     14.0\n",
              "5461      6.0\n",
              "Name: labels, Length: 3383, dtype: float64"
            ]
          },
          "metadata": {},
          "execution_count": 32
        }
      ]
    },
    {
      "cell_type": "code",
      "source": [
        "from sklearn.metrics import accuracy_score\n",
        "cm = accuracy_score(y_test,y_pred)\n",
        "print(cm)"
      ],
      "metadata": {
        "colab": {
          "base_uri": "https://localhost:8080/"
        },
        "id": "Avb9-M5e76oA",
        "outputId": "51362317-43ab-49e5-b850-ada11cb6d985"
      },
      "execution_count": 33,
      "outputs": [
        {
          "output_type": "stream",
          "name": "stdout",
          "text": [
            "0.858409695536506\n"
          ]
        }
      ]
    },
    {
      "cell_type": "code",
      "source": [
        "old_data = hyp_data[sorted(hyp_data.keys())[-1]]\n",
        "old_data = applyPCA(old_data)\n",
        "print(old_data.shape)\n",
        "old_data = old_data.reshape(old_data.shape[0]*old_data.shape[1],old_data.shape[2])\n",
        "print(old_data.shape)\n",
        "scaler = StandardScaler()\n",
        "scaler.fit(old_data)\n",
        "scaler.transform(old_data)\n",
        "old_data= scaler.fit_transform(old_data)"
      ],
      "metadata": {
        "id": "IeCtR3IZ8e2D",
        "colab": {
          "base_uri": "https://localhost:8080/"
        },
        "outputId": "d96c5a4b-82f7-49d6-e896-fa3bec1e0748"
      },
      "execution_count": 47,
      "outputs": [
        {
          "output_type": "stream",
          "name": "stdout",
          "text": [
            "(145, 145, 30)\n",
            "(21025, 30)\n"
          ]
        }
      ]
    },
    {
      "cell_type": "code",
      "source": [],
      "metadata": {
        "id": "7Pf9ioLTtjYY"
      },
      "execution_count": null,
      "outputs": []
    },
    {
      "cell_type": "code",
      "source": [
        "old_data"
      ],
      "metadata": {
        "colab": {
          "base_uri": "https://localhost:8080/"
        },
        "id": "9vbNZD1v-mvL",
        "outputId": "225dbaaa-d420-422e-dd4e-57b25336198b"
      },
      "execution_count": 48,
      "outputs": [
        {
          "output_type": "execute_result",
          "data": {
            "text/plain": [
              "array([[ 0.96879153,  0.48016262,  0.09501511, ..., -0.39097641,\n",
              "        -0.08308536, -0.31444887],\n",
              "       [ 1.0820887 , -0.66690204,  0.45762631, ..., -0.51803638,\n",
              "        -1.70086232,  3.01124992],\n",
              "       [ 1.1197113 , -1.01855275,  0.64113612, ...,  0.18433222,\n",
              "         0.8330252 , -0.37003011],\n",
              "       ...,\n",
              "       [-1.42372219, -0.37321786,  0.52040884, ...,  0.65006371,\n",
              "         0.37676427,  1.08860267],\n",
              "       [-1.25512285,  0.26308922,  0.88458992, ..., -0.15105788,\n",
              "         0.01608047, -0.010042  ],\n",
              "       [-1.2692974 ,  0.11428403,  0.60834461, ...,  1.15171196,\n",
              "         0.53928606,  0.54791118]])"
            ]
          },
          "metadata": {},
          "execution_count": 48
        }
      ]
    },
    {
      "cell_type": "code",
      "source": [
        "old_data.shape"
      ],
      "metadata": {
        "colab": {
          "base_uri": "https://localhost:8080/"
        },
        "id": "8WPdYK7AqCVw",
        "outputId": "577975c6-fefe-4303-de1c-cada9b813df4"
      },
      "execution_count": 49,
      "outputs": [
        {
          "output_type": "execute_result",
          "data": {
            "text/plain": [
              "(21025, 30)"
            ]
          },
          "metadata": {},
          "execution_count": 49
        }
      ]
    },
    {
      "cell_type": "code",
      "source": [
        "labels"
      ],
      "metadata": {
        "colab": {
          "base_uri": "https://localhost:8080/"
        },
        "id": "v_qMhER0veab",
        "outputId": "825d5246-e77e-48bf-be60-a8a89a582f2a"
      },
      "execution_count": 55,
      "outputs": [
        {
          "output_type": "execute_result",
          "data": {
            "text/plain": [
              "array([[3],\n",
              "       [3],\n",
              "       [3],\n",
              "       ...,\n",
              "       [0],\n",
              "       [0],\n",
              "       [0]], dtype=uint8)"
            ]
          },
          "metadata": {},
          "execution_count": 55
        }
      ]
    },
    {
      "cell_type": "code",
      "source": [
        "new_combine =  np.concatenate((labels,old_data),axis=1)\n",
        "df_new = pd.DataFrame(new_combine,columns = hyp_columns)"
      ],
      "metadata": {
        "id": "pFNAzZ5s-nVP"
      },
      "execution_count": 60,
      "outputs": []
    },
    {
      "cell_type": "code",
      "source": [
        "hyp_columns"
      ],
      "metadata": {
        "colab": {
          "base_uri": "https://localhost:8080/"
        },
        "id": "cXhzm8Ozv3jF",
        "outputId": "899065ab-c25c-472b-89c8-605cfef99e16"
      },
      "execution_count": 62,
      "outputs": [
        {
          "output_type": "execute_result",
          "data": {
            "text/plain": [
              "['b28',\n",
              " 'b29',\n",
              " 'labels',\n",
              " 'b0',\n",
              " 'b1',\n",
              " 'b2',\n",
              " 'b3',\n",
              " 'b4',\n",
              " 'b5',\n",
              " 'b6',\n",
              " 'b7',\n",
              " 'b8',\n",
              " 'b9',\n",
              " 'b10',\n",
              " 'b11',\n",
              " 'b12',\n",
              " 'b13',\n",
              " 'b14',\n",
              " 'b15',\n",
              " 'b16',\n",
              " 'b17',\n",
              " 'b18',\n",
              " 'b19',\n",
              " 'b20',\n",
              " 'b21',\n",
              " 'b22',\n",
              " 'b23',\n",
              " 'b24',\n",
              " 'b25',\n",
              " 'b26',\n",
              " 'b27']"
            ]
          },
          "metadata": {},
          "execution_count": 62
        }
      ]
    },
    {
      "cell_type": "code",
      "source": [
        "df_new.head()"
      ],
      "metadata": {
        "colab": {
          "base_uri": "https://localhost:8080/",
          "height": 299
        },
        "id": "iIH_wqSp_HK7",
        "outputId": "4f8425b7-1c39-4351-8911-4d52bff490ef"
      },
      "execution_count": 63,
      "outputs": [
        {
          "output_type": "execute_result",
          "data": {
            "text/plain": [
              "   b28       b29    labels        b0        b1        b2        b3        b4  \\\n",
              "0  3.0  0.968792  0.480163  0.095015  0.125600 -0.835549 -0.153069  0.340923   \n",
              "1  3.0  1.082089 -0.666902  0.457626 -0.932169  0.284000 -0.641176  0.513261   \n",
              "2  3.0  1.119711 -1.018553  0.641136 -1.340956  0.498493 -0.292642  0.437319   \n",
              "3  3.0  1.079156 -0.780915  0.465651 -0.886699  0.281059 -0.681911  0.634935   \n",
              "4  3.0  0.969967  0.111929 -0.030071 -0.163263 -0.706691 -0.974500  1.271327   \n",
              "\n",
              "         b5        b6  ...       b18       b19       b20       b21       b22  \\\n",
              "0 -0.808409  0.739785  ...  0.216981 -0.680259 -0.742393  0.309239  0.706976   \n",
              "1  0.639682 -1.369930  ...  0.196227 -0.074713  0.634141  0.264473 -0.794410   \n",
              "2  0.546894  1.651591  ... -0.033171  0.060652  0.936155  0.691324 -1.013679   \n",
              "3  0.624059 -0.905934  ...  0.069648  0.120932  0.673802  0.522060 -0.722955   \n",
              "4 -0.917742 -0.543385  ...  0.211594 -0.232875 -0.182741  0.318041  0.060126   \n",
              "\n",
              "        b23       b24       b25       b26       b27  \n",
              "0 -0.506006  0.346327 -0.390976 -0.083085 -0.314449  \n",
              "1 -0.303549  1.126139 -0.518036 -1.700862  3.011250  \n",
              "2 -0.927246  0.821326  0.184332  0.833025 -0.370030  \n",
              "3 -0.164351  1.201638 -0.673642 -1.598101  2.643775  \n",
              "4 -0.217077  0.644763 -0.392555  0.256947  0.084384  \n",
              "\n",
              "[5 rows x 31 columns]"
            ],
            "text/html": [
              "\n",
              "  <div id=\"df-f8bcbb65-c00c-4597-aece-aa3c0a12f772\">\n",
              "    <div class=\"colab-df-container\">\n",
              "      <div>\n",
              "<style scoped>\n",
              "    .dataframe tbody tr th:only-of-type {\n",
              "        vertical-align: middle;\n",
              "    }\n",
              "\n",
              "    .dataframe tbody tr th {\n",
              "        vertical-align: top;\n",
              "    }\n",
              "\n",
              "    .dataframe thead th {\n",
              "        text-align: right;\n",
              "    }\n",
              "</style>\n",
              "<table border=\"1\" class=\"dataframe\">\n",
              "  <thead>\n",
              "    <tr style=\"text-align: right;\">\n",
              "      <th></th>\n",
              "      <th>b28</th>\n",
              "      <th>b29</th>\n",
              "      <th>labels</th>\n",
              "      <th>b0</th>\n",
              "      <th>b1</th>\n",
              "      <th>b2</th>\n",
              "      <th>b3</th>\n",
              "      <th>b4</th>\n",
              "      <th>b5</th>\n",
              "      <th>b6</th>\n",
              "      <th>...</th>\n",
              "      <th>b18</th>\n",
              "      <th>b19</th>\n",
              "      <th>b20</th>\n",
              "      <th>b21</th>\n",
              "      <th>b22</th>\n",
              "      <th>b23</th>\n",
              "      <th>b24</th>\n",
              "      <th>b25</th>\n",
              "      <th>b26</th>\n",
              "      <th>b27</th>\n",
              "    </tr>\n",
              "  </thead>\n",
              "  <tbody>\n",
              "    <tr>\n",
              "      <th>0</th>\n",
              "      <td>3.0</td>\n",
              "      <td>0.968792</td>\n",
              "      <td>0.480163</td>\n",
              "      <td>0.095015</td>\n",
              "      <td>0.125600</td>\n",
              "      <td>-0.835549</td>\n",
              "      <td>-0.153069</td>\n",
              "      <td>0.340923</td>\n",
              "      <td>-0.808409</td>\n",
              "      <td>0.739785</td>\n",
              "      <td>...</td>\n",
              "      <td>0.216981</td>\n",
              "      <td>-0.680259</td>\n",
              "      <td>-0.742393</td>\n",
              "      <td>0.309239</td>\n",
              "      <td>0.706976</td>\n",
              "      <td>-0.506006</td>\n",
              "      <td>0.346327</td>\n",
              "      <td>-0.390976</td>\n",
              "      <td>-0.083085</td>\n",
              "      <td>-0.314449</td>\n",
              "    </tr>\n",
              "    <tr>\n",
              "      <th>1</th>\n",
              "      <td>3.0</td>\n",
              "      <td>1.082089</td>\n",
              "      <td>-0.666902</td>\n",
              "      <td>0.457626</td>\n",
              "      <td>-0.932169</td>\n",
              "      <td>0.284000</td>\n",
              "      <td>-0.641176</td>\n",
              "      <td>0.513261</td>\n",
              "      <td>0.639682</td>\n",
              "      <td>-1.369930</td>\n",
              "      <td>...</td>\n",
              "      <td>0.196227</td>\n",
              "      <td>-0.074713</td>\n",
              "      <td>0.634141</td>\n",
              "      <td>0.264473</td>\n",
              "      <td>-0.794410</td>\n",
              "      <td>-0.303549</td>\n",
              "      <td>1.126139</td>\n",
              "      <td>-0.518036</td>\n",
              "      <td>-1.700862</td>\n",
              "      <td>3.011250</td>\n",
              "    </tr>\n",
              "    <tr>\n",
              "      <th>2</th>\n",
              "      <td>3.0</td>\n",
              "      <td>1.119711</td>\n",
              "      <td>-1.018553</td>\n",
              "      <td>0.641136</td>\n",
              "      <td>-1.340956</td>\n",
              "      <td>0.498493</td>\n",
              "      <td>-0.292642</td>\n",
              "      <td>0.437319</td>\n",
              "      <td>0.546894</td>\n",
              "      <td>1.651591</td>\n",
              "      <td>...</td>\n",
              "      <td>-0.033171</td>\n",
              "      <td>0.060652</td>\n",
              "      <td>0.936155</td>\n",
              "      <td>0.691324</td>\n",
              "      <td>-1.013679</td>\n",
              "      <td>-0.927246</td>\n",
              "      <td>0.821326</td>\n",
              "      <td>0.184332</td>\n",
              "      <td>0.833025</td>\n",
              "      <td>-0.370030</td>\n",
              "    </tr>\n",
              "    <tr>\n",
              "      <th>3</th>\n",
              "      <td>3.0</td>\n",
              "      <td>1.079156</td>\n",
              "      <td>-0.780915</td>\n",
              "      <td>0.465651</td>\n",
              "      <td>-0.886699</td>\n",
              "      <td>0.281059</td>\n",
              "      <td>-0.681911</td>\n",
              "      <td>0.634935</td>\n",
              "      <td>0.624059</td>\n",
              "      <td>-0.905934</td>\n",
              "      <td>...</td>\n",
              "      <td>0.069648</td>\n",
              "      <td>0.120932</td>\n",
              "      <td>0.673802</td>\n",
              "      <td>0.522060</td>\n",
              "      <td>-0.722955</td>\n",
              "      <td>-0.164351</td>\n",
              "      <td>1.201638</td>\n",
              "      <td>-0.673642</td>\n",
              "      <td>-1.598101</td>\n",
              "      <td>2.643775</td>\n",
              "    </tr>\n",
              "    <tr>\n",
              "      <th>4</th>\n",
              "      <td>3.0</td>\n",
              "      <td>0.969967</td>\n",
              "      <td>0.111929</td>\n",
              "      <td>-0.030071</td>\n",
              "      <td>-0.163263</td>\n",
              "      <td>-0.706691</td>\n",
              "      <td>-0.974500</td>\n",
              "      <td>1.271327</td>\n",
              "      <td>-0.917742</td>\n",
              "      <td>-0.543385</td>\n",
              "      <td>...</td>\n",
              "      <td>0.211594</td>\n",
              "      <td>-0.232875</td>\n",
              "      <td>-0.182741</td>\n",
              "      <td>0.318041</td>\n",
              "      <td>0.060126</td>\n",
              "      <td>-0.217077</td>\n",
              "      <td>0.644763</td>\n",
              "      <td>-0.392555</td>\n",
              "      <td>0.256947</td>\n",
              "      <td>0.084384</td>\n",
              "    </tr>\n",
              "  </tbody>\n",
              "</table>\n",
              "<p>5 rows × 31 columns</p>\n",
              "</div>\n",
              "      <button class=\"colab-df-convert\" onclick=\"convertToInteractive('df-f8bcbb65-c00c-4597-aece-aa3c0a12f772')\"\n",
              "              title=\"Convert this dataframe to an interactive table.\"\n",
              "              style=\"display:none;\">\n",
              "        \n",
              "  <svg xmlns=\"http://www.w3.org/2000/svg\" height=\"24px\"viewBox=\"0 0 24 24\"\n",
              "       width=\"24px\">\n",
              "    <path d=\"M0 0h24v24H0V0z\" fill=\"none\"/>\n",
              "    <path d=\"M18.56 5.44l.94 2.06.94-2.06 2.06-.94-2.06-.94-.94-2.06-.94 2.06-2.06.94zm-11 1L8.5 8.5l.94-2.06 2.06-.94-2.06-.94L8.5 2.5l-.94 2.06-2.06.94zm10 10l.94 2.06.94-2.06 2.06-.94-2.06-.94-.94-2.06-.94 2.06-2.06.94z\"/><path d=\"M17.41 7.96l-1.37-1.37c-.4-.4-.92-.59-1.43-.59-.52 0-1.04.2-1.43.59L10.3 9.45l-7.72 7.72c-.78.78-.78 2.05 0 2.83L4 21.41c.39.39.9.59 1.41.59.51 0 1.02-.2 1.41-.59l7.78-7.78 2.81-2.81c.8-.78.8-2.07 0-2.86zM5.41 20L4 18.59l7.72-7.72 1.47 1.35L5.41 20z\"/>\n",
              "  </svg>\n",
              "      </button>\n",
              "      \n",
              "  <style>\n",
              "    .colab-df-container {\n",
              "      display:flex;\n",
              "      flex-wrap:wrap;\n",
              "      gap: 12px;\n",
              "    }\n",
              "\n",
              "    .colab-df-convert {\n",
              "      background-color: #E8F0FE;\n",
              "      border: none;\n",
              "      border-radius: 50%;\n",
              "      cursor: pointer;\n",
              "      display: none;\n",
              "      fill: #1967D2;\n",
              "      height: 32px;\n",
              "      padding: 0 0 0 0;\n",
              "      width: 32px;\n",
              "    }\n",
              "\n",
              "    .colab-df-convert:hover {\n",
              "      background-color: #E2EBFA;\n",
              "      box-shadow: 0px 1px 2px rgba(60, 64, 67, 0.3), 0px 1px 3px 1px rgba(60, 64, 67, 0.15);\n",
              "      fill: #174EA6;\n",
              "    }\n",
              "\n",
              "    [theme=dark] .colab-df-convert {\n",
              "      background-color: #3B4455;\n",
              "      fill: #D2E3FC;\n",
              "    }\n",
              "\n",
              "    [theme=dark] .colab-df-convert:hover {\n",
              "      background-color: #434B5C;\n",
              "      box-shadow: 0px 1px 3px 1px rgba(0, 0, 0, 0.15);\n",
              "      filter: drop-shadow(0px 1px 2px rgba(0, 0, 0, 0.3));\n",
              "      fill: #FFFFFF;\n",
              "    }\n",
              "  </style>\n",
              "\n",
              "      <script>\n",
              "        const buttonEl =\n",
              "          document.querySelector('#df-f8bcbb65-c00c-4597-aece-aa3c0a12f772 button.colab-df-convert');\n",
              "        buttonEl.style.display =\n",
              "          google.colab.kernel.accessAllowed ? 'block' : 'none';\n",
              "\n",
              "        async function convertToInteractive(key) {\n",
              "          const element = document.querySelector('#df-f8bcbb65-c00c-4597-aece-aa3c0a12f772');\n",
              "          const dataTable =\n",
              "            await google.colab.kernel.invokeFunction('convertToInteractive',\n",
              "                                                     [key], {});\n",
              "          if (!dataTable) return;\n",
              "\n",
              "          const docLinkHtml = 'Like what you see? Visit the ' +\n",
              "            '<a target=\"_blank\" href=https://colab.research.google.com/notebooks/data_table.ipynb>data table notebook</a>'\n",
              "            + ' to learn more about interactive tables.';\n",
              "          element.innerHTML = '';\n",
              "          dataTable['output_type'] = 'display_data';\n",
              "          await google.colab.output.renderOutput(dataTable, element);\n",
              "          const docLink = document.createElement('div');\n",
              "          docLink.innerHTML = docLinkHtml;\n",
              "          element.appendChild(docLink);\n",
              "        }\n",
              "      </script>\n",
              "    </div>\n",
              "  </div>\n",
              "  "
            ]
          },
          "metadata": {},
          "execution_count": 63
        }
      ]
    },
    {
      "cell_type": "code",
      "source": [
        " hyp_columns = hyp_columns[-1:] + hyp_columns[:-1]\n",
        " df_new = df_new[hyp_columns]\n",
        " df_new.head()"
      ],
      "metadata": {
        "colab": {
          "base_uri": "https://localhost:8080/",
          "height": 299
        },
        "id": "D4lXsxpc_ITy",
        "outputId": "2a175e1c-1e51-4840-97ea-c872b6b3d2bc"
      },
      "execution_count": 51,
      "outputs": [
        {
          "output_type": "execute_result",
          "data": {
            "text/plain": [
              "   b28       b29    labels        b0        b1        b2        b3        b4  \\\n",
              "0  3.0  0.968792  0.480163  0.095015  0.125600 -0.835549 -0.153069  0.340923   \n",
              "1  3.0  1.082089 -0.666902  0.457626 -0.932169  0.284000 -0.641176  0.513261   \n",
              "2  3.0  1.119711 -1.018553  0.641136 -1.340956  0.498493 -0.292642  0.437319   \n",
              "3  3.0  1.079156 -0.780915  0.465651 -0.886699  0.281059 -0.681911  0.634935   \n",
              "4  3.0  0.969967  0.111929 -0.030071 -0.163263 -0.706691 -0.974500  1.271327   \n",
              "\n",
              "         b5        b6  ...       b18       b19       b20       b21       b22  \\\n",
              "0 -0.808409  0.739785  ...  0.216981 -0.680259 -0.742393  0.309239  0.706976   \n",
              "1  0.639682 -1.369930  ...  0.196227 -0.074713  0.634141  0.264473 -0.794410   \n",
              "2  0.546894  1.651591  ... -0.033171  0.060652  0.936155  0.691324 -1.013679   \n",
              "3  0.624059 -0.905934  ...  0.069648  0.120932  0.673802  0.522060 -0.722955   \n",
              "4 -0.917742 -0.543385  ...  0.211594 -0.232875 -0.182741  0.318041  0.060126   \n",
              "\n",
              "        b23       b24       b25       b26       b27  \n",
              "0 -0.506006  0.346327 -0.390976 -0.083085 -0.314449  \n",
              "1 -0.303549  1.126139 -0.518036 -1.700862  3.011250  \n",
              "2 -0.927246  0.821326  0.184332  0.833025 -0.370030  \n",
              "3 -0.164351  1.201638 -0.673642 -1.598101  2.643775  \n",
              "4 -0.217077  0.644763 -0.392555  0.256947  0.084384  \n",
              "\n",
              "[5 rows x 31 columns]"
            ],
            "text/html": [
              "\n",
              "  <div id=\"df-c85407ab-1f18-400c-a400-15481c0ed41a\">\n",
              "    <div class=\"colab-df-container\">\n",
              "      <div>\n",
              "<style scoped>\n",
              "    .dataframe tbody tr th:only-of-type {\n",
              "        vertical-align: middle;\n",
              "    }\n",
              "\n",
              "    .dataframe tbody tr th {\n",
              "        vertical-align: top;\n",
              "    }\n",
              "\n",
              "    .dataframe thead th {\n",
              "        text-align: right;\n",
              "    }\n",
              "</style>\n",
              "<table border=\"1\" class=\"dataframe\">\n",
              "  <thead>\n",
              "    <tr style=\"text-align: right;\">\n",
              "      <th></th>\n",
              "      <th>b28</th>\n",
              "      <th>b29</th>\n",
              "      <th>labels</th>\n",
              "      <th>b0</th>\n",
              "      <th>b1</th>\n",
              "      <th>b2</th>\n",
              "      <th>b3</th>\n",
              "      <th>b4</th>\n",
              "      <th>b5</th>\n",
              "      <th>b6</th>\n",
              "      <th>...</th>\n",
              "      <th>b18</th>\n",
              "      <th>b19</th>\n",
              "      <th>b20</th>\n",
              "      <th>b21</th>\n",
              "      <th>b22</th>\n",
              "      <th>b23</th>\n",
              "      <th>b24</th>\n",
              "      <th>b25</th>\n",
              "      <th>b26</th>\n",
              "      <th>b27</th>\n",
              "    </tr>\n",
              "  </thead>\n",
              "  <tbody>\n",
              "    <tr>\n",
              "      <th>0</th>\n",
              "      <td>3.0</td>\n",
              "      <td>0.968792</td>\n",
              "      <td>0.480163</td>\n",
              "      <td>0.095015</td>\n",
              "      <td>0.125600</td>\n",
              "      <td>-0.835549</td>\n",
              "      <td>-0.153069</td>\n",
              "      <td>0.340923</td>\n",
              "      <td>-0.808409</td>\n",
              "      <td>0.739785</td>\n",
              "      <td>...</td>\n",
              "      <td>0.216981</td>\n",
              "      <td>-0.680259</td>\n",
              "      <td>-0.742393</td>\n",
              "      <td>0.309239</td>\n",
              "      <td>0.706976</td>\n",
              "      <td>-0.506006</td>\n",
              "      <td>0.346327</td>\n",
              "      <td>-0.390976</td>\n",
              "      <td>-0.083085</td>\n",
              "      <td>-0.314449</td>\n",
              "    </tr>\n",
              "    <tr>\n",
              "      <th>1</th>\n",
              "      <td>3.0</td>\n",
              "      <td>1.082089</td>\n",
              "      <td>-0.666902</td>\n",
              "      <td>0.457626</td>\n",
              "      <td>-0.932169</td>\n",
              "      <td>0.284000</td>\n",
              "      <td>-0.641176</td>\n",
              "      <td>0.513261</td>\n",
              "      <td>0.639682</td>\n",
              "      <td>-1.369930</td>\n",
              "      <td>...</td>\n",
              "      <td>0.196227</td>\n",
              "      <td>-0.074713</td>\n",
              "      <td>0.634141</td>\n",
              "      <td>0.264473</td>\n",
              "      <td>-0.794410</td>\n",
              "      <td>-0.303549</td>\n",
              "      <td>1.126139</td>\n",
              "      <td>-0.518036</td>\n",
              "      <td>-1.700862</td>\n",
              "      <td>3.011250</td>\n",
              "    </tr>\n",
              "    <tr>\n",
              "      <th>2</th>\n",
              "      <td>3.0</td>\n",
              "      <td>1.119711</td>\n",
              "      <td>-1.018553</td>\n",
              "      <td>0.641136</td>\n",
              "      <td>-1.340956</td>\n",
              "      <td>0.498493</td>\n",
              "      <td>-0.292642</td>\n",
              "      <td>0.437319</td>\n",
              "      <td>0.546894</td>\n",
              "      <td>1.651591</td>\n",
              "      <td>...</td>\n",
              "      <td>-0.033171</td>\n",
              "      <td>0.060652</td>\n",
              "      <td>0.936155</td>\n",
              "      <td>0.691324</td>\n",
              "      <td>-1.013679</td>\n",
              "      <td>-0.927246</td>\n",
              "      <td>0.821326</td>\n",
              "      <td>0.184332</td>\n",
              "      <td>0.833025</td>\n",
              "      <td>-0.370030</td>\n",
              "    </tr>\n",
              "    <tr>\n",
              "      <th>3</th>\n",
              "      <td>3.0</td>\n",
              "      <td>1.079156</td>\n",
              "      <td>-0.780915</td>\n",
              "      <td>0.465651</td>\n",
              "      <td>-0.886699</td>\n",
              "      <td>0.281059</td>\n",
              "      <td>-0.681911</td>\n",
              "      <td>0.634935</td>\n",
              "      <td>0.624059</td>\n",
              "      <td>-0.905934</td>\n",
              "      <td>...</td>\n",
              "      <td>0.069648</td>\n",
              "      <td>0.120932</td>\n",
              "      <td>0.673802</td>\n",
              "      <td>0.522060</td>\n",
              "      <td>-0.722955</td>\n",
              "      <td>-0.164351</td>\n",
              "      <td>1.201638</td>\n",
              "      <td>-0.673642</td>\n",
              "      <td>-1.598101</td>\n",
              "      <td>2.643775</td>\n",
              "    </tr>\n",
              "    <tr>\n",
              "      <th>4</th>\n",
              "      <td>3.0</td>\n",
              "      <td>0.969967</td>\n",
              "      <td>0.111929</td>\n",
              "      <td>-0.030071</td>\n",
              "      <td>-0.163263</td>\n",
              "      <td>-0.706691</td>\n",
              "      <td>-0.974500</td>\n",
              "      <td>1.271327</td>\n",
              "      <td>-0.917742</td>\n",
              "      <td>-0.543385</td>\n",
              "      <td>...</td>\n",
              "      <td>0.211594</td>\n",
              "      <td>-0.232875</td>\n",
              "      <td>-0.182741</td>\n",
              "      <td>0.318041</td>\n",
              "      <td>0.060126</td>\n",
              "      <td>-0.217077</td>\n",
              "      <td>0.644763</td>\n",
              "      <td>-0.392555</td>\n",
              "      <td>0.256947</td>\n",
              "      <td>0.084384</td>\n",
              "    </tr>\n",
              "  </tbody>\n",
              "</table>\n",
              "<p>5 rows × 31 columns</p>\n",
              "</div>\n",
              "      <button class=\"colab-df-convert\" onclick=\"convertToInteractive('df-c85407ab-1f18-400c-a400-15481c0ed41a')\"\n",
              "              title=\"Convert this dataframe to an interactive table.\"\n",
              "              style=\"display:none;\">\n",
              "        \n",
              "  <svg xmlns=\"http://www.w3.org/2000/svg\" height=\"24px\"viewBox=\"0 0 24 24\"\n",
              "       width=\"24px\">\n",
              "    <path d=\"M0 0h24v24H0V0z\" fill=\"none\"/>\n",
              "    <path d=\"M18.56 5.44l.94 2.06.94-2.06 2.06-.94-2.06-.94-.94-2.06-.94 2.06-2.06.94zm-11 1L8.5 8.5l.94-2.06 2.06-.94-2.06-.94L8.5 2.5l-.94 2.06-2.06.94zm10 10l.94 2.06.94-2.06 2.06-.94-2.06-.94-.94-2.06-.94 2.06-2.06.94z\"/><path d=\"M17.41 7.96l-1.37-1.37c-.4-.4-.92-.59-1.43-.59-.52 0-1.04.2-1.43.59L10.3 9.45l-7.72 7.72c-.78.78-.78 2.05 0 2.83L4 21.41c.39.39.9.59 1.41.59.51 0 1.02-.2 1.41-.59l7.78-7.78 2.81-2.81c.8-.78.8-2.07 0-2.86zM5.41 20L4 18.59l7.72-7.72 1.47 1.35L5.41 20z\"/>\n",
              "  </svg>\n",
              "      </button>\n",
              "      \n",
              "  <style>\n",
              "    .colab-df-container {\n",
              "      display:flex;\n",
              "      flex-wrap:wrap;\n",
              "      gap: 12px;\n",
              "    }\n",
              "\n",
              "    .colab-df-convert {\n",
              "      background-color: #E8F0FE;\n",
              "      border: none;\n",
              "      border-radius: 50%;\n",
              "      cursor: pointer;\n",
              "      display: none;\n",
              "      fill: #1967D2;\n",
              "      height: 32px;\n",
              "      padding: 0 0 0 0;\n",
              "      width: 32px;\n",
              "    }\n",
              "\n",
              "    .colab-df-convert:hover {\n",
              "      background-color: #E2EBFA;\n",
              "      box-shadow: 0px 1px 2px rgba(60, 64, 67, 0.3), 0px 1px 3px 1px rgba(60, 64, 67, 0.15);\n",
              "      fill: #174EA6;\n",
              "    }\n",
              "\n",
              "    [theme=dark] .colab-df-convert {\n",
              "      background-color: #3B4455;\n",
              "      fill: #D2E3FC;\n",
              "    }\n",
              "\n",
              "    [theme=dark] .colab-df-convert:hover {\n",
              "      background-color: #434B5C;\n",
              "      box-shadow: 0px 1px 3px 1px rgba(0, 0, 0, 0.15);\n",
              "      filter: drop-shadow(0px 1px 2px rgba(0, 0, 0, 0.3));\n",
              "      fill: #FFFFFF;\n",
              "    }\n",
              "  </style>\n",
              "\n",
              "      <script>\n",
              "        const buttonEl =\n",
              "          document.querySelector('#df-c85407ab-1f18-400c-a400-15481c0ed41a button.colab-df-convert');\n",
              "        buttonEl.style.display =\n",
              "          google.colab.kernel.accessAllowed ? 'block' : 'none';\n",
              "\n",
              "        async function convertToInteractive(key) {\n",
              "          const element = document.querySelector('#df-c85407ab-1f18-400c-a400-15481c0ed41a');\n",
              "          const dataTable =\n",
              "            await google.colab.kernel.invokeFunction('convertToInteractive',\n",
              "                                                     [key], {});\n",
              "          if (!dataTable) return;\n",
              "\n",
              "          const docLinkHtml = 'Like what you see? Visit the ' +\n",
              "            '<a target=\"_blank\" href=https://colab.research.google.com/notebooks/data_table.ipynb>data table notebook</a>'\n",
              "            + ' to learn more about interactive tables.';\n",
              "          element.innerHTML = '';\n",
              "          dataTable['output_type'] = 'display_data';\n",
              "          await google.colab.output.renderOutput(dataTable, element);\n",
              "          const docLink = document.createElement('div');\n",
              "          docLink.innerHTML = docLinkHtml;\n",
              "          element.appendChild(docLink);\n",
              "        }\n",
              "      </script>\n",
              "    </div>\n",
              "  </div>\n",
              "  "
            ]
          },
          "metadata": {},
          "execution_count": 51
        }
      ]
    },
    {
      "cell_type": "code",
      "source": [
        "from sklearn.model_selection import train_test_split\n",
        "X_train, X_test, y_train, y_test = train_test_split( df_new.iloc[:,1:] , df_new.iloc[:,0] , test_size=0.3, random_state=42)"
      ],
      "metadata": {
        "id": "v83wRGnF2mHW"
      },
      "execution_count": 81,
      "outputs": []
    },
    {
      "cell_type": "code",
      "source": [
        "np.unique(y_test, return_counts=True)\n"
      ],
      "metadata": {
        "colab": {
          "base_uri": "https://localhost:8080/"
        },
        "id": "lacOH0QY2swE",
        "outputId": "5e0b58c5-7ab8-4c84-f3f7-b9a049210250"
      },
      "execution_count": 84,
      "outputs": [
        {
          "output_type": "execute_result",
          "data": {
            "text/plain": [
              "(array([ 0.,  1.,  2.,  3.,  4.,  5.,  6.,  7.,  8.,  9., 10., 11., 12.,\n",
              "        13., 14., 15., 16.]),\n",
              " array([3273,   16,  427,  220,   80,  117,  227,   11,  146,    5,  291,\n",
              "         729,  194,   55,  391,  106,   20]))"
            ]
          },
          "metadata": {},
          "execution_count": 84
        }
      ]
    },
    {
      "cell_type": "code",
      "source": [
        "# from sklearn.model_selection import train_test_split\n",
        "# X_train, X_test, y_train, y_test = train_test_split( df_new.iloc[:,1:] , df_new.iloc[:,0] , test_size=0.3, random_state=42)\n",
        "\n",
        "nn_new = NeuralNetwork(X_train.shape[1],128,17)\n",
        "nn_new.train(X_test,y_test,30,0.01)\n",
        "\n",
        "model_net = []\n",
        "for i in range(5):\n",
        "    validation,train_data = sampling(df_new,0.2)\n",
        "    v_data = validation.iloc[:,1:]\n",
        "    v_label = validation.iloc[:,0]\n",
        "    # gen = generator(train_data,8)\n",
        "    # x,y = gen\n",
        "    x_data = train_data.iloc[:,1:]\n",
        "    y_data = train_data.iloc[:,0]\n",
        "    nn = NeuralNetwork(X_train.shape[1],128,17)\n",
        "    nn.train(x_data,y_data,500,1)\n",
        "    model_net.append(nn)"
      ],
      "metadata": {
        "colab": {
          "base_uri": "https://localhost:8080/"
        },
        "id": "5Ufwus1C_OyI",
        "outputId": "ffc8d228-66d6-4f80-a1cf-a048a21c6fd2"
      },
      "execution_count": 85,
      "outputs": [
        {
          "output_type": "stream",
          "name": "stdout",
          "text": [
            "Epoch 99, Loss: 0.8764\n",
            "Epoch 199, Loss: 0.7987\n",
            "Epoch 299, Loss: 0.7322\n",
            "Epoch 399, Loss: 0.6865\n",
            "Epoch 499, Loss: 0.6536\n",
            "Epoch 99, Loss: 0.8842\n",
            "Epoch 199, Loss: 0.8051\n",
            "Epoch 299, Loss: 0.7383\n",
            "Epoch 399, Loss: 0.6904\n",
            "Epoch 499, Loss: 0.6543\n",
            "Epoch 99, Loss: 0.8825\n",
            "Epoch 199, Loss: 0.8053\n",
            "Epoch 299, Loss: 0.7357\n",
            "Epoch 399, Loss: 0.6865\n",
            "Epoch 499, Loss: 0.6520\n",
            "Epoch 99, Loss: 0.8771\n",
            "Epoch 199, Loss: 0.8000\n",
            "Epoch 299, Loss: 0.7309\n",
            "Epoch 399, Loss: 0.6835\n",
            "Epoch 499, Loss: 0.6493\n",
            "Epoch 99, Loss: 0.8773\n",
            "Epoch 199, Loss: 0.8025\n",
            "Epoch 299, Loss: 0.7344\n",
            "Epoch 399, Loss: 0.6876\n",
            "Epoch 499, Loss: 0.6528\n"
          ]
        }
      ]
    },
    {
      "cell_type": "code",
      "source": [
        "y_pred = []\n",
        "label_op = []\n",
        "for i in range(len(X_test)):\n",
        "  input = X_test.iloc[i]\n",
        "  for model in model_net:\n",
        "      prediction = model.predict(input)\n",
        "      label_op.append(prediction)\n",
        "  max = 0\n",
        "  res = label_op[0]\n",
        "  for i in label_op:\n",
        "      freq = label_op.count(i)\n",
        "      if freq > max:\n",
        "          max = freq\n",
        "          res = i\n",
        "  label_op.clear()\n",
        "  y_pred.append(res)      \n",
        "# print(y_pred)\n",
        "\n",
        "cm1 = accuracy_score(y_test,y_pred)\n",
        "print(cm1)"
      ],
      "metadata": {
        "colab": {
          "base_uri": "https://localhost:8080/"
        },
        "id": "oaSl-9GR_z02",
        "outputId": "32583866-299e-4ccb-a1cb-3148a2396e3b"
      },
      "execution_count": 86,
      "outputs": [
        {
          "output_type": "stream",
          "name": "stdout",
          "text": [
            "0.7734622701331643\n"
          ]
        }
      ]
    },
    {
      "cell_type": "code",
      "source": [
        "X_test.shape"
      ],
      "metadata": {
        "colab": {
          "base_uri": "https://localhost:8080/"
        },
        "id": "QgdGeYGJxULw",
        "outputId": "d5f4607d-230a-4471-e5a1-fdd18d1c6e65"
      },
      "execution_count": 87,
      "outputs": [
        {
          "output_type": "execute_result",
          "data": {
            "text/plain": [
              "(6308, 30)"
            ]
          },
          "metadata": {},
          "execution_count": 87
        }
      ]
    },
    {
      "cell_type": "code",
      "source": [
        "arr = np.array(y_pred)\n",
        "arr.shape"
      ],
      "metadata": {
        "colab": {
          "base_uri": "https://localhost:8080/"
        },
        "id": "XsBWozCks8FG",
        "outputId": "7a7ef467-3ced-4ed0-e5fb-698bbe11b51f"
      },
      "execution_count": 88,
      "outputs": [
        {
          "output_type": "execute_result",
          "data": {
            "text/plain": [
              "(6308, 1)"
            ]
          },
          "metadata": {},
          "execution_count": 88
        }
      ]
    },
    {
      "cell_type": "code",
      "source": [
        "old_data = hyp_data[sorted(hyp_data.keys())[-1]]\n",
        "old_data = applyPCA(old_data)\n",
        "print(old_data.shape)\n",
        "old_data = old_data.reshape(old_data.shape[0]*old_data.shape[1],old_data.shape[2])\n",
        "print(old_data.shape)\n",
        "scaler = StandardScaler()\n",
        "scaler.fit(old_data)\n",
        "scaler.transform(old_data)\n",
        "old_data= scaler.fit_transform(old_data)"
      ],
      "metadata": {
        "colab": {
          "base_uri": "https://localhost:8080/"
        },
        "id": "5EIwin6ZzRg-",
        "outputId": "ebee0cd3-16ef-40d0-e974-56fc7e04e9a9"
      },
      "execution_count": 89,
      "outputs": [
        {
          "output_type": "stream",
          "name": "stdout",
          "text": [
            "(145, 145, 30)\n",
            "(21025, 30)\n"
          ]
        }
      ]
    },
    {
      "cell_type": "code",
      "source": [
        "y_pred = []\n",
        "label_op = []\n",
        "for i in range(len(old_data)):\n",
        "  input = old_data[i]\n",
        "  for model in model_net:\n",
        "      prediction = model.predict(input)\n",
        "      label_op.append(prediction)\n",
        "  max = 0\n",
        "  res = label_op[0]\n",
        "  for i in label_op:\n",
        "      freq = label_op.count(i)\n",
        "      if freq > max:\n",
        "          max = freq\n",
        "          res = i\n",
        "  label_op.clear()\n",
        "  y_pred.append(res)      \n",
        "# print(y_pred)\n",
        "\n",
        "# cm1 = accuracy_score(y_test,y_pred)\n",
        "# print(cm1)"
      ],
      "metadata": {
        "id": "qHZtISd_zDm9"
      },
      "execution_count": 90,
      "outputs": []
    },
    {
      "cell_type": "code",
      "source": [
        "np.unique(labels, return_counts=True)"
      ],
      "metadata": {
        "colab": {
          "base_uri": "https://localhost:8080/"
        },
        "id": "NLvdDOlz1mZL",
        "outputId": "8ac6f599-302c-4969-aeeb-e807cb9b74ec"
      },
      "execution_count": 91,
      "outputs": [
        {
          "output_type": "execute_result",
          "data": {
            "text/plain": [
              "(array([ 0,  1,  2,  3,  4,  5,  6,  7,  8,  9, 10, 11, 12, 13, 14, 15, 16],\n",
              "       dtype=uint8),\n",
              " array([10776,    46,  1428,   830,   237,   483,   730,    28,   478,\n",
              "           20,   972,  2455,   593,   205,  1265,   386,    93]))"
            ]
          },
          "metadata": {},
          "execution_count": 91
        }
      ]
    },
    {
      "cell_type": "code",
      "source": [
        "np.unique(y_pred, return_counts=True)\n"
      ],
      "metadata": {
        "colab": {
          "base_uri": "https://localhost:8080/"
        },
        "id": "hd-J4oe42DKd",
        "outputId": "51b93696-d34f-4923-f16f-e8bdead56e6e"
      },
      "execution_count": 92,
      "outputs": [
        {
          "output_type": "execute_result",
          "data": {
            "text/plain": [
              "(array([ 0,  1,  2,  3,  4,  5,  6,  7,  8, 10, 11, 12, 13, 14, 15, 16]),\n",
              " array([10257,    30,  1599,   585,   103,   415,   802,     7,   575,\n",
              "          884,  3228,   541,   213,  1655,    15,   116]))"
            ]
          },
          "metadata": {},
          "execution_count": 92
        }
      ]
    },
    {
      "cell_type": "code",
      "source": [
        "arr = np.array(y_pred)\n",
        "arr.shape"
      ],
      "metadata": {
        "colab": {
          "base_uri": "https://localhost:8080/"
        },
        "id": "FMgZQVb7zrE_",
        "outputId": "360a3fb7-e6fe-40ca-9725-6557c8e3fe1d"
      },
      "execution_count": 93,
      "outputs": [
        {
          "output_type": "execute_result",
          "data": {
            "text/plain": [
              "(21025, 1)"
            ]
          },
          "metadata": {},
          "execution_count": 93
        }
      ]
    },
    {
      "cell_type": "code",
      "source": [
        "# # reshape y_pred to match the shape of the original image\n",
        "# y_pred_2d = np.reshape(y_pred, (145,145))\n",
        "\n",
        "# # display the predicted labels as a 2D image\n",
        "\n",
        "# im = plt.imshow(y_pred_2d,cmap = 'twilight')\n",
        "# cbar = plt.colorbar(im)\n",
        "# plt.show()\n",
        "\n",
        "# reshape y_pred to match the shape of the original image\n",
        "y_pred_2d = np.reshape(y_pred, (145,145))\n",
        "\n",
        "# # display the original image and the predicted labels side by side\n",
        "# fig, axs = plt.subplots(1, 2, figsize=(10, 5),num=1)\n",
        "\n",
        "plt.figure(1)\n",
        "fig, axs = plt.subplots(1, 2, figsize=(10, 5))\n",
        "\n",
        "# rest of the code for creating subplots and displaying images\n",
        "\n",
        "\n",
        "# display the original image\n",
        "axs[0].imshow(old_data.reshape(145,145,30)[:,:,0], cmap='gray')\n",
        "axs[0].set_title('Original Image')\n",
        "\n",
        "# display the predicted labels as a 2D image\n",
        "im = axs[1].imshow(y_pred_2d, cmap='twilight')\n",
        "axs[1].set_title('Predicted Labels')\n",
        "cbar = fig.colorbar(im, ax=axs.ravel().tolist())\n",
        "\n",
        "plt.show()\n"
      ],
      "metadata": {
        "colab": {
          "base_uri": "https://localhost:8080/",
          "height": 452
        },
        "id": "3xqq4zBdsULI",
        "outputId": "e7bccf8f-87a8-49f5-ac3f-9cc1cdbfe549"
      },
      "execution_count": 103,
      "outputs": [
        {
          "output_type": "display_data",
          "data": {
            "text/plain": [
              "<Figure size 640x480 with 0 Axes>"
            ]
          },
          "metadata": {}
        },
        {
          "output_type": "display_data",
          "data": {
            "text/plain": [
              "<Figure size 1000x500 with 3 Axes>"
            ],
            "image/png": "[encoded data removed]"
          },
          "metadata": {}
        }
      ]
    }
  ]
}