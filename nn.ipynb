{
 "cells": [
  {
   "cell_type": "code",
   "execution_count": 1,
   "metadata": {},
   "outputs": [],
   "source": [
    "import numpy as np"
   ]
  },
  {
   "cell_type": "code",
   "execution_count": null,
   "metadata": {},
   "outputs": [],
   "source": [
    "class neuralNetwork:\n",
    "    def __init__(self,learning_rate):\n",
    "        self.weights = np.array([np.random.randn(),np.random.randn()])\n",
    "        self.bias = np.random.randn()\n",
    "        self.learning_rate = learning_rate\n",
    "\n",
    "    def sigmoid(self,x):\n",
    "        return 1/(1+np.exp(-x))\n",
    "    \n",
    "    def sigmoid_deriv(self,x):\n",
    "        return self.sigmoid(x)*(1-self.sigmoid(x))\n",
    "    \n",
    "    def predict(self,input):\n",
    "        l1 = np.dot(input,self.weights) + self.bias\n",
    "        l2 = self.sigmoid(l1)\n",
    "        prediction = l2\n",
    "        return prediction\n",
    "    \n",
    "    def gradients(self,input,target):\n",
    "        l1 = np.dot(input,self.weights) + self.bias\n",
    "        l2 = self.sigmoid(l1)\n",
    "        prediction = l2\n",
    "\n",
    "        error_prediction = 2*(prediction-target)\n",
    "        prediction_l1 = self.sigmoid_deriv(l1)\n",
    "        l1_bias = 1\n",
    "        l1_weight = (0*self.weights)+(1*input)\n",
    "        error_bias = (error_prediction*prediction_l1*l1_bias)\n",
    "        error_weights = (error_prediction*prediction_l1*l1_weight)\n",
    "\n",
    "        return error_bias,error_weights\n",
    "\n",
    "    def update_params(self,error_bias,error_weights):\n",
    "        self.bias = self.bias - (error_bias*self.learning_rate)\n",
    "        self.weights = self.weights - (error_weights*self.learning_rate)\n",
    "\n",
    "\n",
    "    def train(self,input,target,iterations):\n",
    "        errors = []\n",
    "        for current in range(iterations):\n",
    "            random_index = np.random.randint(len(input))\n",
    "\n",
    "            input = input[random_index]\n",
    "            target = target[random_index]\n",
    "\n",
    "            #Compute gradients and update weights\n",
    "            error_bias,error_weights = self.gradients(input,target)\n",
    "            self.update_params(error_bias,error_weights)\n",
    "\n",
    "            #Measure error for iterations \n",
    "            if current%100==0:\n",
    "                cum_error = 0\n",
    "                # Loop through all instances to measure the error\n",
    "                for each_instance in range(len(input)):\n",
    "                    data_point = input[each_instance]\n",
    "                    target = target[each_instance]\n",
    "\n",
    "                    prediction = self.predict(data_point)\n",
    "                    error = np.square(prediction-target)\n",
    "                    cum_error = cum_error + error\n",
    "                errors.append(cum_error)\n",
    "\n",
    "        return errors\n",
    "                    \n"
   ]
  }
 ],
 "metadata": {
  "kernelspec": {
   "display_name": "Python 3",
   "language": "python",
   "name": "python3"
  },
  "language_info": {
   "codemirror_mode": {
    "name": "ipython",
    "version": 3
   },
   "file_extension": ".py",
   "mimetype": "text/x-python",
   "name": "python",
   "nbconvert_exporter": "python",
   "pygments_lexer": "ipython3",
   "version": "3.10.5"
  },
  "orig_nbformat": 4
 },
 "nbformat": 4,
 "nbformat_minor": 2
}
