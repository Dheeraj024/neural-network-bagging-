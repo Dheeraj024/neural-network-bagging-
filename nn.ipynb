{
  "nbformat": 4,
  "nbformat_minor": 0,
  "metadata": {
    "colab": {
      "provenance": [],
      "mount_file_id": "1OvHiwUOX3-pqF5I3HENvstU-LHixUsbS",
      "authorship_tag": "ABX9TyPFj1uUi8iFlE4zXp0HyQtJ",
      "include_colab_link": true
    },
    "kernelspec": {
      "name": "python3",
      "display_name": "Python 3"
    },
    "language_info": {
      "name": "python"
    }
  },
  "cells": [
    {
      "cell_type": "markdown",
      "metadata": {
        "id": "view-in-github",
        "colab_type": "text"
      },
      "source": [
        "<a href=\"https://colab.research.google.com/github/Dheeraj024/neural-network-bagging-/blob/main/nn.ipynb\" target=\"_parent\"><img src=\"https://colab.research.google.com/assets/colab-badge.svg\" alt=\"Open In Colab\"/></a>"
      ]
    },
    {
      "cell_type": "code",
      "execution_count": null,
      "metadata": {
        "id": "unhYl77Ji9Je"
      },
      "outputs": [],
      "source": [
        "import numpy as np\n",
        "import pandas as pd\n",
        "import matplotlib.pyplot as plt\n",
        "%matplotlib inline"
      ]
    },
    {
      "cell_type": "code",
      "source": [
        "mnist_train = pd.read_csv(\"/content/drive/MyDrive/Colab Notebooks/mnist_train.csv\")\n",
        "mnist_test = pd.read_csv(\"/content/drive/MyDrive/Colab Notebooks/mnist_test.csv\")"
      ],
      "metadata": {
        "id": "5FqXeOTsj_d_"
      },
      "execution_count": null,
      "outputs": []
    },
    {
      "cell_type": "code",
      "source": [
        "mnist_train"
      ],
      "metadata": {
        "colab": {
          "base_uri": "https://localhost:8080/",
          "height": 423
        },
        "id": "2LL2yNyOk3Pn",
        "outputId": "42cf4e0b-5dbd-4d4f-9796-5b1224544afb"
      },
      "execution_count": null,
      "outputs": [
        {
          "output_type": "execute_result",
          "data": {
            "text/plain": [
              "       label  1x1  1x2  1x3  1x4  1x5  1x6  1x7  1x8  1x9  ...  28x19  28x20  \\\n",
              "0          5    0    0    0    0    0    0    0    0    0  ...      0      0   \n",
              "1          0    0    0    0    0    0    0    0    0    0  ...      0      0   \n",
              "2          4    0    0    0    0    0    0    0    0    0  ...      0      0   \n",
              "3          1    0    0    0    0    0    0    0    0    0  ...      0      0   \n",
              "4          9    0    0    0    0    0    0    0    0    0  ...      0      0   \n",
              "...      ...  ...  ...  ...  ...  ...  ...  ...  ...  ...  ...    ...    ...   \n",
              "59995      8    0    0    0    0    0    0    0    0    0  ...      0      0   \n",
              "59996      3    0    0    0    0    0    0    0    0    0  ...      0      0   \n",
              "59997      5    0    0    0    0    0    0    0    0    0  ...      0      0   \n",
              "59998      6    0    0    0    0    0    0    0    0    0  ...      0      0   \n",
              "59999      8    0    0    0    0    0    0    0    0    0  ...      0      0   \n",
              "\n",
              "       28x21  28x22  28x23  28x24  28x25  28x26  28x27  28x28  \n",
              "0          0      0      0      0      0      0      0      0  \n",
              "1          0      0      0      0      0      0      0      0  \n",
              "2          0      0      0      0      0      0      0      0  \n",
              "3          0      0      0      0      0      0      0      0  \n",
              "4          0      0      0      0      0      0      0      0  \n",
              "...      ...    ...    ...    ...    ...    ...    ...    ...  \n",
              "59995      0      0      0      0      0      0      0      0  \n",
              "59996      0      0      0      0      0      0      0      0  \n",
              "59997      0      0      0      0      0      0      0      0  \n",
              "59998      0      0      0      0      0      0      0      0  \n",
              "59999      0      0      0      0      0      0      0      0  \n",
              "\n",
              "[60000 rows x 785 columns]"
            ],
            "text/html": [
              "\n",
              "  <div id=\"df-c6448d11-517c-4a8d-b17a-91bf045ab5b3\">\n",
              "    <div class=\"colab-df-container\">\n",
              "      <div>\n",
              "<style scoped>\n",
              "    .dataframe tbody tr th:only-of-type {\n",
              "        vertical-align: middle;\n",
              "    }\n",
              "\n",
              "    .dataframe tbody tr th {\n",
              "        vertical-align: top;\n",
              "    }\n",
              "\n",
              "    .dataframe thead th {\n",
              "        text-align: right;\n",
              "    }\n",
              "</style>\n",
              "<table border=\"1\" class=\"dataframe\">\n",
              "  <thead>\n",
              "    <tr style=\"text-align: right;\">\n",
              "      <th></th>\n",
              "      <th>label</th>\n",
              "      <th>1x1</th>\n",
              "      <th>1x2</th>\n",
              "      <th>1x3</th>\n",
              "      <th>1x4</th>\n",
              "      <th>1x5</th>\n",
              "      <th>1x6</th>\n",
              "      <th>1x7</th>\n",
              "      <th>1x8</th>\n",
              "      <th>1x9</th>\n",
              "      <th>...</th>\n",
              "      <th>28x19</th>\n",
              "      <th>28x20</th>\n",
              "      <th>28x21</th>\n",
              "      <th>28x22</th>\n",
              "      <th>28x23</th>\n",
              "      <th>28x24</th>\n",
              "      <th>28x25</th>\n",
              "      <th>28x26</th>\n",
              "      <th>28x27</th>\n",
              "      <th>28x28</th>\n",
              "    </tr>\n",
              "  </thead>\n",
              "  <tbody>\n",
              "    <tr>\n",
              "      <th>0</th>\n",
              "      <td>5</td>\n",
              "      <td>0</td>\n",
              "      <td>0</td>\n",
              "      <td>0</td>\n",
              "      <td>0</td>\n",
              "      <td>0</td>\n",
              "      <td>0</td>\n",
              "      <td>0</td>\n",
              "      <td>0</td>\n",
              "      <td>0</td>\n",
              "      <td>...</td>\n",
              "      <td>0</td>\n",
              "      <td>0</td>\n",
              "      <td>0</td>\n",
              "      <td>0</td>\n",
              "      <td>0</td>\n",
              "      <td>0</td>\n",
              "      <td>0</td>\n",
              "      <td>0</td>\n",
              "      <td>0</td>\n",
              "      <td>0</td>\n",
              "    </tr>\n",
              "    <tr>\n",
              "      <th>1</th>\n",
              "      <td>0</td>\n",
              "      <td>0</td>\n",
              "      <td>0</td>\n",
              "      <td>0</td>\n",
              "      <td>0</td>\n",
              "      <td>0</td>\n",
              "      <td>0</td>\n",
              "      <td>0</td>\n",
              "      <td>0</td>\n",
              "      <td>0</td>\n",
              "      <td>...</td>\n",
              "      <td>0</td>\n",
              "      <td>0</td>\n",
              "      <td>0</td>\n",
              "      <td>0</td>\n",
              "      <td>0</td>\n",
              "      <td>0</td>\n",
              "      <td>0</td>\n",
              "      <td>0</td>\n",
              "      <td>0</td>\n",
              "      <td>0</td>\n",
              "    </tr>\n",
              "    <tr>\n",
              "      <th>2</th>\n",
              "      <td>4</td>\n",
              "      <td>0</td>\n",
              "      <td>0</td>\n",
              "      <td>0</td>\n",
              "      <td>0</td>\n",
              "      <td>0</td>\n",
              "      <td>0</td>\n",
              "      <td>0</td>\n",
              "      <td>0</td>\n",
              "      <td>0</td>\n",
              "      <td>...</td>\n",
              "      <td>0</td>\n",
              "      <td>0</td>\n",
              "      <td>0</td>\n",
              "      <td>0</td>\n",
              "      <td>0</td>\n",
              "      <td>0</td>\n",
              "      <td>0</td>\n",
              "      <td>0</td>\n",
              "      <td>0</td>\n",
              "      <td>0</td>\n",
              "    </tr>\n",
              "    <tr>\n",
              "      <th>3</th>\n",
              "      <td>1</td>\n",
              "      <td>0</td>\n",
              "      <td>0</td>\n",
              "      <td>0</td>\n",
              "      <td>0</td>\n",
              "      <td>0</td>\n",
              "      <td>0</td>\n",
              "      <td>0</td>\n",
              "      <td>0</td>\n",
              "      <td>0</td>\n",
              "      <td>...</td>\n",
              "      <td>0</td>\n",
              "      <td>0</td>\n",
              "      <td>0</td>\n",
              "      <td>0</td>\n",
              "      <td>0</td>\n",
              "      <td>0</td>\n",
              "      <td>0</td>\n",
              "      <td>0</td>\n",
              "      <td>0</td>\n",
              "      <td>0</td>\n",
              "    </tr>\n",
              "    <tr>\n",
              "      <th>4</th>\n",
              "      <td>9</td>\n",
              "      <td>0</td>\n",
              "      <td>0</td>\n",
              "      <td>0</td>\n",
              "      <td>0</td>\n",
              "      <td>0</td>\n",
              "      <td>0</td>\n",
              "      <td>0</td>\n",
              "      <td>0</td>\n",
              "      <td>0</td>\n",
              "      <td>...</td>\n",
              "      <td>0</td>\n",
              "      <td>0</td>\n",
              "      <td>0</td>\n",
              "      <td>0</td>\n",
              "      <td>0</td>\n",
              "      <td>0</td>\n",
              "      <td>0</td>\n",
              "      <td>0</td>\n",
              "      <td>0</td>\n",
              "      <td>0</td>\n",
              "    </tr>\n",
              "    <tr>\n",
              "      <th>...</th>\n",
              "      <td>...</td>\n",
              "      <td>...</td>\n",
              "      <td>...</td>\n",
              "      <td>...</td>\n",
              "      <td>...</td>\n",
              "      <td>...</td>\n",
              "      <td>...</td>\n",
              "      <td>...</td>\n",
              "      <td>...</td>\n",
              "      <td>...</td>\n",
              "      <td>...</td>\n",
              "      <td>...</td>\n",
              "      <td>...</td>\n",
              "      <td>...</td>\n",
              "      <td>...</td>\n",
              "      <td>...</td>\n",
              "      <td>...</td>\n",
              "      <td>...</td>\n",
              "      <td>...</td>\n",
              "      <td>...</td>\n",
              "      <td>...</td>\n",
              "    </tr>\n",
              "    <tr>\n",
              "      <th>59995</th>\n",
              "      <td>8</td>\n",
              "      <td>0</td>\n",
              "      <td>0</td>\n",
              "      <td>0</td>\n",
              "      <td>0</td>\n",
              "      <td>0</td>\n",
              "      <td>0</td>\n",
              "      <td>0</td>\n",
              "      <td>0</td>\n",
              "      <td>0</td>\n",
              "      <td>...</td>\n",
              "      <td>0</td>\n",
              "      <td>0</td>\n",
              "      <td>0</td>\n",
              "      <td>0</td>\n",
              "      <td>0</td>\n",
              "      <td>0</td>\n",
              "      <td>0</td>\n",
              "      <td>0</td>\n",
              "      <td>0</td>\n",
              "      <td>0</td>\n",
              "    </tr>\n",
              "    <tr>\n",
              "      <th>59996</th>\n",
              "      <td>3</td>\n",
              "      <td>0</td>\n",
              "      <td>0</td>\n",
              "      <td>0</td>\n",
              "      <td>0</td>\n",
              "      <td>0</td>\n",
              "      <td>0</td>\n",
              "      <td>0</td>\n",
              "      <td>0</td>\n",
              "      <td>0</td>\n",
              "      <td>...</td>\n",
              "      <td>0</td>\n",
              "      <td>0</td>\n",
              "      <td>0</td>\n",
              "      <td>0</td>\n",
              "      <td>0</td>\n",
              "      <td>0</td>\n",
              "      <td>0</td>\n",
              "      <td>0</td>\n",
              "      <td>0</td>\n",
              "      <td>0</td>\n",
              "    </tr>\n",
              "    <tr>\n",
              "      <th>59997</th>\n",
              "      <td>5</td>\n",
              "      <td>0</td>\n",
              "      <td>0</td>\n",
              "      <td>0</td>\n",
              "      <td>0</td>\n",
              "      <td>0</td>\n",
              "      <td>0</td>\n",
              "      <td>0</td>\n",
              "      <td>0</td>\n",
              "      <td>0</td>\n",
              "      <td>...</td>\n",
              "      <td>0</td>\n",
              "      <td>0</td>\n",
              "      <td>0</td>\n",
              "      <td>0</td>\n",
              "      <td>0</td>\n",
              "      <td>0</td>\n",
              "      <td>0</td>\n",
              "      <td>0</td>\n",
              "      <td>0</td>\n",
              "      <td>0</td>\n",
              "    </tr>\n",
              "    <tr>\n",
              "      <th>59998</th>\n",
              "      <td>6</td>\n",
              "      <td>0</td>\n",
              "      <td>0</td>\n",
              "      <td>0</td>\n",
              "      <td>0</td>\n",
              "      <td>0</td>\n",
              "      <td>0</td>\n",
              "      <td>0</td>\n",
              "      <td>0</td>\n",
              "      <td>0</td>\n",
              "      <td>...</td>\n",
              "      <td>0</td>\n",
              "      <td>0</td>\n",
              "      <td>0</td>\n",
              "      <td>0</td>\n",
              "      <td>0</td>\n",
              "      <td>0</td>\n",
              "      <td>0</td>\n",
              "      <td>0</td>\n",
              "      <td>0</td>\n",
              "      <td>0</td>\n",
              "    </tr>\n",
              "    <tr>\n",
              "      <th>59999</th>\n",
              "      <td>8</td>\n",
              "      <td>0</td>\n",
              "      <td>0</td>\n",
              "      <td>0</td>\n",
              "      <td>0</td>\n",
              "      <td>0</td>\n",
              "      <td>0</td>\n",
              "      <td>0</td>\n",
              "      <td>0</td>\n",
              "      <td>0</td>\n",
              "      <td>...</td>\n",
              "      <td>0</td>\n",
              "      <td>0</td>\n",
              "      <td>0</td>\n",
              "      <td>0</td>\n",
              "      <td>0</td>\n",
              "      <td>0</td>\n",
              "      <td>0</td>\n",
              "      <td>0</td>\n",
              "      <td>0</td>\n",
              "      <td>0</td>\n",
              "    </tr>\n",
              "  </tbody>\n",
              "</table>\n",
              "<p>60000 rows × 785 columns</p>\n",
              "</div>\n",
              "      <button class=\"colab-df-convert\" onclick=\"convertToInteractive('df-c6448d11-517c-4a8d-b17a-91bf045ab5b3')\"\n",
              "              title=\"Convert this dataframe to an interactive table.\"\n",
              "              style=\"display:none;\">\n",
              "        \n",
              "  <svg xmlns=\"http://www.w3.org/2000/svg\" height=\"24px\"viewBox=\"0 0 24 24\"\n",
              "       width=\"24px\">\n",
              "    <path d=\"M0 0h24v24H0V0z\" fill=\"none\"/>\n",
              "    <path d=\"M18.56 5.44l.94 2.06.94-2.06 2.06-.94-2.06-.94-.94-2.06-.94 2.06-2.06.94zm-11 1L8.5 8.5l.94-2.06 2.06-.94-2.06-.94L8.5 2.5l-.94 2.06-2.06.94zm10 10l.94 2.06.94-2.06 2.06-.94-2.06-.94-.94-2.06-.94 2.06-2.06.94z\"/><path d=\"M17.41 7.96l-1.37-1.37c-.4-.4-.92-.59-1.43-.59-.52 0-1.04.2-1.43.59L10.3 9.45l-7.72 7.72c-.78.78-.78 2.05 0 2.83L4 21.41c.39.39.9.59 1.41.59.51 0 1.02-.2 1.41-.59l7.78-7.78 2.81-2.81c.8-.78.8-2.07 0-2.86zM5.41 20L4 18.59l7.72-7.72 1.47 1.35L5.41 20z\"/>\n",
              "  </svg>\n",
              "      </button>\n",
              "      \n",
              "  <style>\n",
              "    .colab-df-container {\n",
              "      display:flex;\n",
              "      flex-wrap:wrap;\n",
              "      gap: 12px;\n",
              "    }\n",
              "\n",
              "    .colab-df-convert {\n",
              "      background-color: #E8F0FE;\n",
              "      border: none;\n",
              "      border-radius: 50%;\n",
              "      cursor: pointer;\n",
              "      display: none;\n",
              "      fill: #1967D2;\n",
              "      height: 32px;\n",
              "      padding: 0 0 0 0;\n",
              "      width: 32px;\n",
              "    }\n",
              "\n",
              "    .colab-df-convert:hover {\n",
              "      background-color: #E2EBFA;\n",
              "      box-shadow: 0px 1px 2px rgba(60, 64, 67, 0.3), 0px 1px 3px 1px rgba(60, 64, 67, 0.15);\n",
              "      fill: #174EA6;\n",
              "    }\n",
              "\n",
              "    [theme=dark] .colab-df-convert {\n",
              "      background-color: #3B4455;\n",
              "      fill: #D2E3FC;\n",
              "    }\n",
              "\n",
              "    [theme=dark] .colab-df-convert:hover {\n",
              "      background-color: #434B5C;\n",
              "      box-shadow: 0px 1px 3px 1px rgba(0, 0, 0, 0.15);\n",
              "      filter: drop-shadow(0px 1px 2px rgba(0, 0, 0, 0.3));\n",
              "      fill: #FFFFFF;\n",
              "    }\n",
              "  </style>\n",
              "\n",
              "      <script>\n",
              "        const buttonEl =\n",
              "          document.querySelector('#df-c6448d11-517c-4a8d-b17a-91bf045ab5b3 button.colab-df-convert');\n",
              "        buttonEl.style.display =\n",
              "          google.colab.kernel.accessAllowed ? 'block' : 'none';\n",
              "\n",
              "        async function convertToInteractive(key) {\n",
              "          const element = document.querySelector('#df-c6448d11-517c-4a8d-b17a-91bf045ab5b3');\n",
              "          const dataTable =\n",
              "            await google.colab.kernel.invokeFunction('convertToInteractive',\n",
              "                                                     [key], {});\n",
              "          if (!dataTable) return;\n",
              "\n",
              "          const docLinkHtml = 'Like what you see? Visit the ' +\n",
              "            '<a target=\"_blank\" href=https://colab.research.google.com/notebooks/data_table.ipynb>data table notebook</a>'\n",
              "            + ' to learn more about interactive tables.';\n",
              "          element.innerHTML = '';\n",
              "          dataTable['output_type'] = 'display_data';\n",
              "          await google.colab.output.renderOutput(dataTable, element);\n",
              "          const docLink = document.createElement('div');\n",
              "          docLink.innerHTML = docLinkHtml;\n",
              "          element.appendChild(docLink);\n",
              "        }\n",
              "      </script>\n",
              "    </div>\n",
              "  </div>\n",
              "  "
            ]
          },
          "metadata": {},
          "execution_count": 7
        }
      ]
    },
    {
      "cell_type": "code",
      "source": [
        "def sampling(tdata,val):\n",
        "    len1= int(len(tdata)*val)\n",
        "    t1 = tdata.sample(frac=1)\n",
        "    val_data = t1.iloc[0:len1,:]\n",
        "    train = t1.iloc[len1:,:]\n",
        "    return val_data,train\n",
        "\n",
        "def generator(train,batch_size):\n",
        "    count = 0\n",
        "    while count<len(train):\n",
        "        data = train.iloc[count:count+batch_size,:]\n",
        "        X = data.iloc[:,1:]\n",
        "        Y = data.iloc[:,0]\n",
        "        yield X.values,Y.values\n",
        "        count+=batch_size"
      ],
      "metadata": {
        "id": "Y2sr5rjKvyff"
      },
      "execution_count": null,
      "outputs": []
    },
    {
      "cell_type": "code",
      "source": [
        "class NeuralNetwork:\n",
        "    def __init__(self, input_size, hidden_size, output_size):\n",
        "        self.input_size = input_size\n",
        "        self.hidden_size = hidden_size\n",
        "        self.output_size = output_size\n",
        "\n",
        "        # Initialize weights and biases\n",
        "        self.W1 = np.random.randn(self.input_size, self.hidden_size) * 0.01\n",
        "        self.b1 = np.zeros((1, self.hidden_size))\n",
        "        self.W2 = np.random.randn(self.hidden_size, self.output_size) * 0.01\n",
        "        self.b2 = np.zeros((1, self.output_size))\n",
        "\n",
        "    def forward(self, X):\n",
        "        # Forward pass\n",
        "        self.z1 = np.dot(X, self.W1) + self.b1\n",
        "        self.a1 = np.maximum(0, self.z1)  # ReLU activation\n",
        "        self.z2 = np.dot(self.a1, self.W2) + self.b2\n",
        "        self.a2 = np.exp(self.z2 - np.max(self.z2, axis=1, keepdims=True))  # Softmax activation\n",
        "        self.a2 /= np.sum(self.a2, axis=1, keepdims=True)\n",
        "        return self.a2\n",
        "\n",
        "    def backward(self, X, y, learning_rate):\n",
        "        # Backward pass\n",
        "        m = X.shape[0]\n",
        "\n",
        "        dZ2 = self.a2\n",
        "        dZ2[range(m), y] -= 1\n",
        "        dZ2 /= m\n",
        "\n",
        "        dW2 = np.dot(self.a1.T, dZ2)\n",
        "        db2 = np.sum(dZ2, axis=0)\n",
        "\n",
        "        dA1 = np.dot(dZ2, self.W2.T)\n",
        "        dZ1 = dA1 * (self.a1 > 0)  # ReLU derivative\n",
        "\n",
        "        dW1 = np.dot(X.T, dZ1)\n",
        "        db1 = np.sum(dZ1, axis=0)\n",
        "\n",
        "        # Update weights and biases\n",
        "        self.W2 -= learning_rate * dW2\n",
        "        self.b2 -= learning_rate * db2\n",
        "        self.W1 -= learning_rate * dW1\n",
        "        self.b1 -= learning_rate * db1\n",
        "\n",
        "    def train(self, X, y, epochs, learning_rate):\n",
        "        epsilon = 1e-8\n",
        "        for epoch in range(epochs):\n",
        "            # Forward pass\n",
        "            a2 = self.forward(X)\n",
        "\n",
        "            # Compute loss\n",
        "            loss = -np.sum(np.log(a2[range(X.shape[0]), y]+epsilon)) / X.shape[0]\n",
        "\n",
        "            # Backward pass\n",
        "            self.backward(X, y, learning_rate)\n",
        "\n",
        "            # Print loss\n",
        "            # if (epoch+1) % 100 == 0:\n",
        "            print(f'Epoch {epoch}, Loss: {loss:.4f}')\n",
        "\n",
        "    def predict(self, X):\n",
        "        # Predict class labels\n",
        "        a2 = self.forward(X)\n",
        "        y_pred = np.argmax(a2, axis=1)\n",
        "        return y_pred\n",
        "\n",
        "# Create and train the neural network"
      ],
      "metadata": {
        "id": "XHghUdFllYz5"
      },
      "execution_count": null,
      "outputs": []
    },
    {
      "cell_type": "code",
      "source": [
        "x_train = mnist_train.iloc[:,1:]"
      ],
      "metadata": {
        "id": "znKGla2lmG8n"
      },
      "execution_count": null,
      "outputs": []
    },
    {
      "cell_type": "code",
      "source": [
        "x_train"
      ],
      "metadata": {
        "colab": {
          "base_uri": "https://localhost:8080/",
          "height": 423
        },
        "id": "8ce3Xbtzm03W",
        "outputId": "0ed9620e-b8b1-4713-8433-896beac346de"
      },
      "execution_count": null,
      "outputs": [
        {
          "output_type": "execute_result",
          "data": {
            "text/plain": [
              "       1x1  1x2  1x3  1x4  1x5  1x6  1x7  1x8  1x9  1x10  ...  28x19  28x20  \\\n",
              "0        0    0    0    0    0    0    0    0    0     0  ...      0      0   \n",
              "1        0    0    0    0    0    0    0    0    0     0  ...      0      0   \n",
              "2        0    0    0    0    0    0    0    0    0     0  ...      0      0   \n",
              "3        0    0    0    0    0    0    0    0    0     0  ...      0      0   \n",
              "4        0    0    0    0    0    0    0    0    0     0  ...      0      0   \n",
              "...    ...  ...  ...  ...  ...  ...  ...  ...  ...   ...  ...    ...    ...   \n",
              "59995    0    0    0    0    0    0    0    0    0     0  ...      0      0   \n",
              "59996    0    0    0    0    0    0    0    0    0     0  ...      0      0   \n",
              "59997    0    0    0    0    0    0    0    0    0     0  ...      0      0   \n",
              "59998    0    0    0    0    0    0    0    0    0     0  ...      0      0   \n",
              "59999    0    0    0    0    0    0    0    0    0     0  ...      0      0   \n",
              "\n",
              "       28x21  28x22  28x23  28x24  28x25  28x26  28x27  28x28  \n",
              "0          0      0      0      0      0      0      0      0  \n",
              "1          0      0      0      0      0      0      0      0  \n",
              "2          0      0      0      0      0      0      0      0  \n",
              "3          0      0      0      0      0      0      0      0  \n",
              "4          0      0      0      0      0      0      0      0  \n",
              "...      ...    ...    ...    ...    ...    ...    ...    ...  \n",
              "59995      0      0      0      0      0      0      0      0  \n",
              "59996      0      0      0      0      0      0      0      0  \n",
              "59997      0      0      0      0      0      0      0      0  \n",
              "59998      0      0      0      0      0      0      0      0  \n",
              "59999      0      0      0      0      0      0      0      0  \n",
              "\n",
              "[60000 rows x 784 columns]"
            ],
            "text/html": [
              "\n",
              "  <div id=\"df-52a51d73-fd62-466b-87f8-faf417342b85\">\n",
              "    <div class=\"colab-df-container\">\n",
              "      <div>\n",
              "<style scoped>\n",
              "    .dataframe tbody tr th:only-of-type {\n",
              "        vertical-align: middle;\n",
              "    }\n",
              "\n",
              "    .dataframe tbody tr th {\n",
              "        vertical-align: top;\n",
              "    }\n",
              "\n",
              "    .dataframe thead th {\n",
              "        text-align: right;\n",
              "    }\n",
              "</style>\n",
              "<table border=\"1\" class=\"dataframe\">\n",
              "  <thead>\n",
              "    <tr style=\"text-align: right;\">\n",
              "      <th></th>\n",
              "      <th>1x1</th>\n",
              "      <th>1x2</th>\n",
              "      <th>1x3</th>\n",
              "      <th>1x4</th>\n",
              "      <th>1x5</th>\n",
              "      <th>1x6</th>\n",
              "      <th>1x7</th>\n",
              "      <th>1x8</th>\n",
              "      <th>1x9</th>\n",
              "      <th>1x10</th>\n",
              "      <th>...</th>\n",
              "      <th>28x19</th>\n",
              "      <th>28x20</th>\n",
              "      <th>28x21</th>\n",
              "      <th>28x22</th>\n",
              "      <th>28x23</th>\n",
              "      <th>28x24</th>\n",
              "      <th>28x25</th>\n",
              "      <th>28x26</th>\n",
              "      <th>28x27</th>\n",
              "      <th>28x28</th>\n",
              "    </tr>\n",
              "  </thead>\n",
              "  <tbody>\n",
              "    <tr>\n",
              "      <th>0</th>\n",
              "      <td>0</td>\n",
              "      <td>0</td>\n",
              "      <td>0</td>\n",
              "      <td>0</td>\n",
              "      <td>0</td>\n",
              "      <td>0</td>\n",
              "      <td>0</td>\n",
              "      <td>0</td>\n",
              "      <td>0</td>\n",
              "      <td>0</td>\n",
              "      <td>...</td>\n",
              "      <td>0</td>\n",
              "      <td>0</td>\n",
              "      <td>0</td>\n",
              "      <td>0</td>\n",
              "      <td>0</td>\n",
              "      <td>0</td>\n",
              "      <td>0</td>\n",
              "      <td>0</td>\n",
              "      <td>0</td>\n",
              "      <td>0</td>\n",
              "    </tr>\n",
              "    <tr>\n",
              "      <th>1</th>\n",
              "      <td>0</td>\n",
              "      <td>0</td>\n",
              "      <td>0</td>\n",
              "      <td>0</td>\n",
              "      <td>0</td>\n",
              "      <td>0</td>\n",
              "      <td>0</td>\n",
              "      <td>0</td>\n",
              "      <td>0</td>\n",
              "      <td>0</td>\n",
              "      <td>...</td>\n",
              "      <td>0</td>\n",
              "      <td>0</td>\n",
              "      <td>0</td>\n",
              "      <td>0</td>\n",
              "      <td>0</td>\n",
              "      <td>0</td>\n",
              "      <td>0</td>\n",
              "      <td>0</td>\n",
              "      <td>0</td>\n",
              "      <td>0</td>\n",
              "    </tr>\n",
              "    <tr>\n",
              "      <th>2</th>\n",
              "      <td>0</td>\n",
              "      <td>0</td>\n",
              "      <td>0</td>\n",
              "      <td>0</td>\n",
              "      <td>0</td>\n",
              "      <td>0</td>\n",
              "      <td>0</td>\n",
              "      <td>0</td>\n",
              "      <td>0</td>\n",
              "      <td>0</td>\n",
              "      <td>...</td>\n",
              "      <td>0</td>\n",
              "      <td>0</td>\n",
              "      <td>0</td>\n",
              "      <td>0</td>\n",
              "      <td>0</td>\n",
              "      <td>0</td>\n",
              "      <td>0</td>\n",
              "      <td>0</td>\n",
              "      <td>0</td>\n",
              "      <td>0</td>\n",
              "    </tr>\n",
              "    <tr>\n",
              "      <th>3</th>\n",
              "      <td>0</td>\n",
              "      <td>0</td>\n",
              "      <td>0</td>\n",
              "      <td>0</td>\n",
              "      <td>0</td>\n",
              "      <td>0</td>\n",
              "      <td>0</td>\n",
              "      <td>0</td>\n",
              "      <td>0</td>\n",
              "      <td>0</td>\n",
              "      <td>...</td>\n",
              "      <td>0</td>\n",
              "      <td>0</td>\n",
              "      <td>0</td>\n",
              "      <td>0</td>\n",
              "      <td>0</td>\n",
              "      <td>0</td>\n",
              "      <td>0</td>\n",
              "      <td>0</td>\n",
              "      <td>0</td>\n",
              "      <td>0</td>\n",
              "    </tr>\n",
              "    <tr>\n",
              "      <th>4</th>\n",
              "      <td>0</td>\n",
              "      <td>0</td>\n",
              "      <td>0</td>\n",
              "      <td>0</td>\n",
              "      <td>0</td>\n",
              "      <td>0</td>\n",
              "      <td>0</td>\n",
              "      <td>0</td>\n",
              "      <td>0</td>\n",
              "      <td>0</td>\n",
              "      <td>...</td>\n",
              "      <td>0</td>\n",
              "      <td>0</td>\n",
              "      <td>0</td>\n",
              "      <td>0</td>\n",
              "      <td>0</td>\n",
              "      <td>0</td>\n",
              "      <td>0</td>\n",
              "      <td>0</td>\n",
              "      <td>0</td>\n",
              "      <td>0</td>\n",
              "    </tr>\n",
              "    <tr>\n",
              "      <th>...</th>\n",
              "      <td>...</td>\n",
              "      <td>...</td>\n",
              "      <td>...</td>\n",
              "      <td>...</td>\n",
              "      <td>...</td>\n",
              "      <td>...</td>\n",
              "      <td>...</td>\n",
              "      <td>...</td>\n",
              "      <td>...</td>\n",
              "      <td>...</td>\n",
              "      <td>...</td>\n",
              "      <td>...</td>\n",
              "      <td>...</td>\n",
              "      <td>...</td>\n",
              "      <td>...</td>\n",
              "      <td>...</td>\n",
              "      <td>...</td>\n",
              "      <td>...</td>\n",
              "      <td>...</td>\n",
              "      <td>...</td>\n",
              "      <td>...</td>\n",
              "    </tr>\n",
              "    <tr>\n",
              "      <th>59995</th>\n",
              "      <td>0</td>\n",
              "      <td>0</td>\n",
              "      <td>0</td>\n",
              "      <td>0</td>\n",
              "      <td>0</td>\n",
              "      <td>0</td>\n",
              "      <td>0</td>\n",
              "      <td>0</td>\n",
              "      <td>0</td>\n",
              "      <td>0</td>\n",
              "      <td>...</td>\n",
              "      <td>0</td>\n",
              "      <td>0</td>\n",
              "      <td>0</td>\n",
              "      <td>0</td>\n",
              "      <td>0</td>\n",
              "      <td>0</td>\n",
              "      <td>0</td>\n",
              "      <td>0</td>\n",
              "      <td>0</td>\n",
              "      <td>0</td>\n",
              "    </tr>\n",
              "    <tr>\n",
              "      <th>59996</th>\n",
              "      <td>0</td>\n",
              "      <td>0</td>\n",
              "      <td>0</td>\n",
              "      <td>0</td>\n",
              "      <td>0</td>\n",
              "      <td>0</td>\n",
              "      <td>0</td>\n",
              "      <td>0</td>\n",
              "      <td>0</td>\n",
              "      <td>0</td>\n",
              "      <td>...</td>\n",
              "      <td>0</td>\n",
              "      <td>0</td>\n",
              "      <td>0</td>\n",
              "      <td>0</td>\n",
              "      <td>0</td>\n",
              "      <td>0</td>\n",
              "      <td>0</td>\n",
              "      <td>0</td>\n",
              "      <td>0</td>\n",
              "      <td>0</td>\n",
              "    </tr>\n",
              "    <tr>\n",
              "      <th>59997</th>\n",
              "      <td>0</td>\n",
              "      <td>0</td>\n",
              "      <td>0</td>\n",
              "      <td>0</td>\n",
              "      <td>0</td>\n",
              "      <td>0</td>\n",
              "      <td>0</td>\n",
              "      <td>0</td>\n",
              "      <td>0</td>\n",
              "      <td>0</td>\n",
              "      <td>...</td>\n",
              "      <td>0</td>\n",
              "      <td>0</td>\n",
              "      <td>0</td>\n",
              "      <td>0</td>\n",
              "      <td>0</td>\n",
              "      <td>0</td>\n",
              "      <td>0</td>\n",
              "      <td>0</td>\n",
              "      <td>0</td>\n",
              "      <td>0</td>\n",
              "    </tr>\n",
              "    <tr>\n",
              "      <th>59998</th>\n",
              "      <td>0</td>\n",
              "      <td>0</td>\n",
              "      <td>0</td>\n",
              "      <td>0</td>\n",
              "      <td>0</td>\n",
              "      <td>0</td>\n",
              "      <td>0</td>\n",
              "      <td>0</td>\n",
              "      <td>0</td>\n",
              "      <td>0</td>\n",
              "      <td>...</td>\n",
              "      <td>0</td>\n",
              "      <td>0</td>\n",
              "      <td>0</td>\n",
              "      <td>0</td>\n",
              "      <td>0</td>\n",
              "      <td>0</td>\n",
              "      <td>0</td>\n",
              "      <td>0</td>\n",
              "      <td>0</td>\n",
              "      <td>0</td>\n",
              "    </tr>\n",
              "    <tr>\n",
              "      <th>59999</th>\n",
              "      <td>0</td>\n",
              "      <td>0</td>\n",
              "      <td>0</td>\n",
              "      <td>0</td>\n",
              "      <td>0</td>\n",
              "      <td>0</td>\n",
              "      <td>0</td>\n",
              "      <td>0</td>\n",
              "      <td>0</td>\n",
              "      <td>0</td>\n",
              "      <td>...</td>\n",
              "      <td>0</td>\n",
              "      <td>0</td>\n",
              "      <td>0</td>\n",
              "      <td>0</td>\n",
              "      <td>0</td>\n",
              "      <td>0</td>\n",
              "      <td>0</td>\n",
              "      <td>0</td>\n",
              "      <td>0</td>\n",
              "      <td>0</td>\n",
              "    </tr>\n",
              "  </tbody>\n",
              "</table>\n",
              "<p>60000 rows × 784 columns</p>\n",
              "</div>\n",
              "      <button class=\"colab-df-convert\" onclick=\"convertToInteractive('df-52a51d73-fd62-466b-87f8-faf417342b85')\"\n",
              "              title=\"Convert this dataframe to an interactive table.\"\n",
              "              style=\"display:none;\">\n",
              "        \n",
              "  <svg xmlns=\"http://www.w3.org/2000/svg\" height=\"24px\"viewBox=\"0 0 24 24\"\n",
              "       width=\"24px\">\n",
              "    <path d=\"M0 0h24v24H0V0z\" fill=\"none\"/>\n",
              "    <path d=\"M18.56 5.44l.94 2.06.94-2.06 2.06-.94-2.06-.94-.94-2.06-.94 2.06-2.06.94zm-11 1L8.5 8.5l.94-2.06 2.06-.94-2.06-.94L8.5 2.5l-.94 2.06-2.06.94zm10 10l.94 2.06.94-2.06 2.06-.94-2.06-.94-.94-2.06-.94 2.06-2.06.94z\"/><path d=\"M17.41 7.96l-1.37-1.37c-.4-.4-.92-.59-1.43-.59-.52 0-1.04.2-1.43.59L10.3 9.45l-7.72 7.72c-.78.78-.78 2.05 0 2.83L4 21.41c.39.39.9.59 1.41.59.51 0 1.02-.2 1.41-.59l7.78-7.78 2.81-2.81c.8-.78.8-2.07 0-2.86zM5.41 20L4 18.59l7.72-7.72 1.47 1.35L5.41 20z\"/>\n",
              "  </svg>\n",
              "      </button>\n",
              "      \n",
              "  <style>\n",
              "    .colab-df-container {\n",
              "      display:flex;\n",
              "      flex-wrap:wrap;\n",
              "      gap: 12px;\n",
              "    }\n",
              "\n",
              "    .colab-df-convert {\n",
              "      background-color: #E8F0FE;\n",
              "      border: none;\n",
              "      border-radius: 50%;\n",
              "      cursor: pointer;\n",
              "      display: none;\n",
              "      fill: #1967D2;\n",
              "      height: 32px;\n",
              "      padding: 0 0 0 0;\n",
              "      width: 32px;\n",
              "    }\n",
              "\n",
              "    .colab-df-convert:hover {\n",
              "      background-color: #E2EBFA;\n",
              "      box-shadow: 0px 1px 2px rgba(60, 64, 67, 0.3), 0px 1px 3px 1px rgba(60, 64, 67, 0.15);\n",
              "      fill: #174EA6;\n",
              "    }\n",
              "\n",
              "    [theme=dark] .colab-df-convert {\n",
              "      background-color: #3B4455;\n",
              "      fill: #D2E3FC;\n",
              "    }\n",
              "\n",
              "    [theme=dark] .colab-df-convert:hover {\n",
              "      background-color: #434B5C;\n",
              "      box-shadow: 0px 1px 3px 1px rgba(0, 0, 0, 0.15);\n",
              "      filter: drop-shadow(0px 1px 2px rgba(0, 0, 0, 0.3));\n",
              "      fill: #FFFFFF;\n",
              "    }\n",
              "  </style>\n",
              "\n",
              "      <script>\n",
              "        const buttonEl =\n",
              "          document.querySelector('#df-52a51d73-fd62-466b-87f8-faf417342b85 button.colab-df-convert');\n",
              "        buttonEl.style.display =\n",
              "          google.colab.kernel.accessAllowed ? 'block' : 'none';\n",
              "\n",
              "        async function convertToInteractive(key) {\n",
              "          const element = document.querySelector('#df-52a51d73-fd62-466b-87f8-faf417342b85');\n",
              "          const dataTable =\n",
              "            await google.colab.kernel.invokeFunction('convertToInteractive',\n",
              "                                                     [key], {});\n",
              "          if (!dataTable) return;\n",
              "\n",
              "          const docLinkHtml = 'Like what you see? Visit the ' +\n",
              "            '<a target=\"_blank\" href=https://colab.research.google.com/notebooks/data_table.ipynb>data table notebook</a>'\n",
              "            + ' to learn more about interactive tables.';\n",
              "          element.innerHTML = '';\n",
              "          dataTable['output_type'] = 'display_data';\n",
              "          await google.colab.output.renderOutput(dataTable, element);\n",
              "          const docLink = document.createElement('div');\n",
              "          docLink.innerHTML = docLinkHtml;\n",
              "          element.appendChild(docLink);\n",
              "        }\n",
              "      </script>\n",
              "    </div>\n",
              "  </div>\n",
              "  "
            ]
          },
          "metadata": {},
          "execution_count": 14
        }
      ]
    },
    {
      "cell_type": "code",
      "source": [
        "y_train = mnist_train.iloc[:,0]\n",
        "y_train.head()"
      ],
      "metadata": {
        "colab": {
          "base_uri": "https://localhost:8080/"
        },
        "id": "rJKXG_IKnCcV",
        "outputId": "a0ebde4f-552d-427d-e86f-d4d479bc4c19"
      },
      "execution_count": null,
      "outputs": [
        {
          "output_type": "execute_result",
          "data": {
            "text/plain": [
              "0    5\n",
              "1    0\n",
              "2    4\n",
              "3    1\n",
              "4    9\n",
              "Name: label, dtype: int64"
            ]
          },
          "metadata": {},
          "execution_count": 13
        }
      ]
    },
    {
      "cell_type": "code",
      "source": [
        "type(y_train)"
      ],
      "metadata": {
        "colab": {
          "base_uri": "https://localhost:8080/"
        },
        "id": "hCm7xnrxFfbI",
        "outputId": "a4c1c6fe-c25f-4a85-f7ec-b2297b896cc3"
      },
      "execution_count": null,
      "outputs": [
        {
          "output_type": "execute_result",
          "data": {
            "text/plain": [
              "pandas.core.series.Series"
            ]
          },
          "metadata": {},
          "execution_count": 14
        }
      ]
    },
    {
      "cell_type": "code",
      "source": [
        "x_test = mnist_test.iloc[:,1:]\n",
        "y_test = mnist_test.iloc[:,0]"
      ],
      "metadata": {
        "id": "Tl_RDWV2nJHI"
      },
      "execution_count": null,
      "outputs": []
    },
    {
      "cell_type": "code",
      "source": [
        "nn = NeuralNetwork(x_train.shape[1],128,10)"
      ],
      "metadata": {
        "id": "xLs4LBYGnNIi"
      },
      "execution_count": null,
      "outputs": []
    },
    {
      "cell_type": "code",
      "source": [
        "nn.train(x_train,y_train,30,0.001)"
      ],
      "metadata": {
        "colab": {
          "base_uri": "https://localhost:8080/"
        },
        "id": "-qchmzkynr0b",
        "outputId": "c2f0cf1e-703f-44fe-dd12-d07375b4f60c"
      },
      "execution_count": null,
      "outputs": [
        {
          "output_type": "stream",
          "name": "stdout",
          "text": [
            "Epoch 0, Loss: 0.5168\n",
            "Epoch 1, Loss: 0.5104\n",
            "Epoch 2, Loss: 0.5043\n",
            "Epoch 3, Loss: 0.4986\n",
            "Epoch 4, Loss: 0.4932\n",
            "Epoch 5, Loss: 0.4881\n",
            "Epoch 6, Loss: 0.4832\n",
            "Epoch 7, Loss: 0.4786\n",
            "Epoch 8, Loss: 0.4741\n",
            "Epoch 9, Loss: 0.4698\n",
            "Epoch 10, Loss: 0.4657\n",
            "Epoch 11, Loss: 0.4617\n",
            "Epoch 12, Loss: 0.4579\n",
            "Epoch 13, Loss: 0.4543\n",
            "Epoch 14, Loss: 0.4507\n",
            "Epoch 15, Loss: 0.4473\n",
            "Epoch 16, Loss: 0.4439\n",
            "Epoch 17, Loss: 0.4407\n",
            "Epoch 18, Loss: 0.4376\n",
            "Epoch 19, Loss: 0.4345\n",
            "Epoch 20, Loss: 0.4316\n",
            "Epoch 21, Loss: 0.4287\n",
            "Epoch 22, Loss: 0.4259\n",
            "Epoch 23, Loss: 0.4232\n",
            "Epoch 24, Loss: 0.4206\n",
            "Epoch 25, Loss: 0.4180\n",
            "Epoch 26, Loss: 0.4155\n",
            "Epoch 27, Loss: 0.4131\n",
            "Epoch 28, Loss: 0.4107\n",
            "Epoch 29, Loss: 0.4084\n"
          ]
        }
      ]
    },
    {
      "cell_type": "code",
      "source": [
        "print(y_test)"
      ],
      "metadata": {
        "colab": {
          "base_uri": "https://localhost:8080/"
        },
        "id": "fkp3PGpAoWO3",
        "outputId": "5a348575-34a4-4925-c26a-d468064a75a8"
      },
      "execution_count": null,
      "outputs": [
        {
          "output_type": "stream",
          "name": "stdout",
          "text": [
            "0       7\n",
            "1       2\n",
            "2       1\n",
            "3       0\n",
            "4       4\n",
            "       ..\n",
            "9995    2\n",
            "9996    3\n",
            "9997    4\n",
            "9998    5\n",
            "9999    6\n",
            "Name: label, Length: 10000, dtype: int64\n"
          ]
        }
      ]
    },
    {
      "cell_type": "code",
      "source": [
        "prediction = nn.predict(x_test)"
      ],
      "metadata": {
        "id": "6PHG4Zyfowcr"
      },
      "execution_count": null,
      "outputs": []
    },
    {
      "cell_type": "code",
      "source": [
        "prediction"
      ],
      "metadata": {
        "colab": {
          "base_uri": "https://localhost:8080/"
        },
        "id": "iTnYVeL5o9C9",
        "outputId": "82df7f42-56e2-412b-c0a7-2f3809eddcf3"
      },
      "execution_count": null,
      "outputs": [
        {
          "output_type": "execute_result",
          "data": {
            "text/plain": [
              "array([7, 2, 1, ..., 4, 5, 6])"
            ]
          },
          "metadata": {},
          "execution_count": 55
        }
      ]
    },
    {
      "cell_type": "code",
      "source": [
        "model_net = []\n",
        "for i in range(5):\n",
        "    validation,train_data = sampling(mnist_train,0.2)\n",
        "    v_data = validation.iloc[:,1:]\n",
        "    v_label = validation.iloc[:,0]\n",
        "    # gen = generator(train_data,8)\n",
        "    # x,y = gen\n",
        "    x_data = train_data.iloc[:,1:]\n",
        "    y_data = train_data.iloc[:,0]\n",
        "    nn = NeuralNetwork(x_train.shape[1],128,10)\n",
        "    nn.train(x_data,y_data,50,0.001)\n",
        "    model_net.append(nn)"
      ],
      "metadata": {
        "colab": {
          "base_uri": "https://localhost:8080/"
        },
        "id": "mze0bQ78raGX",
        "outputId": "10a7dc60-6fb4-48f2-a77a-08a089f6a5fb"
      },
      "execution_count": null,
      "outputs": [
        {
          "output_type": "stream",
          "name": "stdout",
          "text": [
            "Epoch 0, Loss: 3.3884\n",
            "Epoch 1, Loss: 2.7784\n",
            "Epoch 2, Loss: 2.0378\n",
            "Epoch 3, Loss: 1.7384\n",
            "Epoch 4, Loss: 1.4843\n",
            "Epoch 5, Loss: 1.2964\n",
            "Epoch 6, Loss: 1.2085\n",
            "Epoch 7, Loss: 1.0772\n",
            "Epoch 8, Loss: 1.0238\n",
            "Epoch 9, Loss: 0.9473\n",
            "Epoch 10, Loss: 0.9102\n",
            "Epoch 11, Loss: 0.8612\n",
            "Epoch 12, Loss: 0.8331\n",
            "Epoch 13, Loss: 0.7966\n",
            "Epoch 14, Loss: 0.7734\n",
            "Epoch 15, Loss: 0.7444\n",
            "Epoch 16, Loss: 0.7246\n",
            "Epoch 17, Loss: 0.7008\n",
            "Epoch 18, Loss: 0.6835\n",
            "Epoch 19, Loss: 0.6635\n",
            "Epoch 20, Loss: 0.6484\n",
            "Epoch 21, Loss: 0.6315\n",
            "Epoch 22, Loss: 0.6181\n",
            "Epoch 23, Loss: 0.6037\n",
            "Epoch 24, Loss: 0.5919\n",
            "Epoch 25, Loss: 0.5796\n",
            "Epoch 26, Loss: 0.5692\n",
            "Epoch 27, Loss: 0.5588\n",
            "Epoch 28, Loss: 0.5496\n",
            "Epoch 29, Loss: 0.5406\n",
            "Epoch 30, Loss: 0.5326\n",
            "Epoch 31, Loss: 0.5248\n",
            "Epoch 32, Loss: 0.5177\n",
            "Epoch 33, Loss: 0.5108\n",
            "Epoch 34, Loss: 0.5045\n",
            "Epoch 35, Loss: 0.4985\n",
            "Epoch 36, Loss: 0.4928\n",
            "Epoch 37, Loss: 0.4874\n",
            "Epoch 38, Loss: 0.4823\n",
            "Epoch 39, Loss: 0.4775\n",
            "Epoch 40, Loss: 0.4728\n",
            "Epoch 41, Loss: 0.4684\n",
            "Epoch 42, Loss: 0.4641\n",
            "Epoch 43, Loss: 0.4601\n",
            "Epoch 44, Loss: 0.4562\n",
            "Epoch 45, Loss: 0.4524\n",
            "Epoch 46, Loss: 0.4488\n",
            "Epoch 47, Loss: 0.4453\n",
            "Epoch 48, Loss: 0.4419\n",
            "Epoch 49, Loss: 0.4387\n",
            "Epoch 0, Loss: 3.9603\n",
            "Epoch 1, Loss: 3.4876\n",
            "Epoch 2, Loss: 2.4149\n",
            "Epoch 3, Loss: 1.7389\n",
            "Epoch 4, Loss: 1.4097\n",
            "Epoch 5, Loss: 1.2480\n",
            "Epoch 6, Loss: 1.1468\n",
            "Epoch 7, Loss: 1.0639\n",
            "Epoch 8, Loss: 1.0024\n",
            "Epoch 9, Loss: 0.9466\n",
            "Epoch 10, Loss: 0.9024\n",
            "Epoch 11, Loss: 0.8631\n",
            "Epoch 12, Loss: 0.8284\n",
            "Epoch 13, Loss: 0.7996\n",
            "Epoch 14, Loss: 0.7707\n",
            "Epoch 15, Loss: 0.7486\n",
            "Epoch 16, Loss: 0.7239\n",
            "Epoch 17, Loss: 0.7062\n",
            "Epoch 18, Loss: 0.6848\n",
            "Epoch 19, Loss: 0.6699\n",
            "Epoch 20, Loss: 0.6514\n",
            "Epoch 21, Loss: 0.6384\n",
            "Epoch 22, Loss: 0.6225\n",
            "Epoch 23, Loss: 0.6110\n",
            "Epoch 24, Loss: 0.5973\n",
            "Epoch 25, Loss: 0.5870\n",
            "Epoch 26, Loss: 0.5752\n",
            "Epoch 27, Loss: 0.5659\n",
            "Epoch 28, Loss: 0.5558\n",
            "Epoch 29, Loss: 0.5474\n",
            "Epoch 30, Loss: 0.5386\n",
            "Epoch 31, Loss: 0.5311\n",
            "Epoch 32, Loss: 0.5235\n",
            "Epoch 33, Loss: 0.5167\n",
            "Epoch 34, Loss: 0.5100\n",
            "Epoch 35, Loss: 0.5039\n",
            "Epoch 36, Loss: 0.4980\n",
            "Epoch 37, Loss: 0.4925\n",
            "Epoch 38, Loss: 0.4873\n",
            "Epoch 39, Loss: 0.4823\n",
            "Epoch 40, Loss: 0.4776\n",
            "Epoch 41, Loss: 0.4731\n",
            "Epoch 42, Loss: 0.4687\n",
            "Epoch 43, Loss: 0.4646\n",
            "Epoch 44, Loss: 0.4607\n",
            "Epoch 45, Loss: 0.4569\n",
            "Epoch 46, Loss: 0.4532\n",
            "Epoch 47, Loss: 0.4497\n",
            "Epoch 48, Loss: 0.4463\n",
            "Epoch 49, Loss: 0.4430\n",
            "Epoch 0, Loss: 3.5252\n",
            "Epoch 1, Loss: 2.8981\n",
            "Epoch 2, Loss: 2.4630\n",
            "Epoch 3, Loss: 2.0646\n",
            "Epoch 4, Loss: 1.4282\n",
            "Epoch 5, Loss: 1.2570\n",
            "Epoch 6, Loss: 1.1228\n",
            "Epoch 7, Loss: 1.0312\n",
            "Epoch 8, Loss: 0.9595\n",
            "Epoch 9, Loss: 0.9027\n",
            "Epoch 10, Loss: 0.8556\n",
            "Epoch 11, Loss: 0.8170\n",
            "Epoch 12, Loss: 0.7846\n",
            "Epoch 13, Loss: 0.7571\n",
            "Epoch 14, Loss: 0.7347\n",
            "Epoch 15, Loss: 0.7144\n",
            "Epoch 16, Loss: 0.6989\n",
            "Epoch 17, Loss: 0.6824\n",
            "Epoch 18, Loss: 0.6707\n",
            "Epoch 19, Loss: 0.6552\n",
            "Epoch 20, Loss: 0.6443\n",
            "Epoch 21, Loss: 0.6286\n",
            "Epoch 22, Loss: 0.6173\n",
            "Epoch 23, Loss: 0.6019\n",
            "Epoch 24, Loss: 0.5903\n",
            "Epoch 25, Loss: 0.5764\n",
            "Epoch 26, Loss: 0.5653\n",
            "Epoch 27, Loss: 0.5532\n",
            "Epoch 28, Loss: 0.5432\n",
            "Epoch 29, Loss: 0.5331\n",
            "Epoch 30, Loss: 0.5244\n",
            "Epoch 31, Loss: 0.5160\n",
            "Epoch 32, Loss: 0.5085\n",
            "Epoch 33, Loss: 0.5015\n",
            "Epoch 34, Loss: 0.4951\n",
            "Epoch 35, Loss: 0.4891\n",
            "Epoch 36, Loss: 0.4835\n",
            "Epoch 37, Loss: 0.4783\n",
            "Epoch 38, Loss: 0.4734\n",
            "Epoch 39, Loss: 0.4687\n",
            "Epoch 40, Loss: 0.4643\n",
            "Epoch 41, Loss: 0.4601\n",
            "Epoch 42, Loss: 0.4562\n",
            "Epoch 43, Loss: 0.4523\n",
            "Epoch 44, Loss: 0.4487\n",
            "Epoch 45, Loss: 0.4451\n",
            "Epoch 46, Loss: 0.4417\n",
            "Epoch 47, Loss: 0.4385\n",
            "Epoch 48, Loss: 0.4353\n",
            "Epoch 49, Loss: 0.4322\n",
            "Epoch 0, Loss: 3.7518\n",
            "Epoch 1, Loss: 2.9373\n",
            "Epoch 2, Loss: 2.0418\n",
            "Epoch 3, Loss: 1.6489\n",
            "Epoch 4, Loss: 1.4342\n",
            "Epoch 5, Loss: 1.2735\n",
            "Epoch 6, Loss: 1.1553\n",
            "Epoch 7, Loss: 1.0661\n",
            "Epoch 8, Loss: 0.9922\n",
            "Epoch 9, Loss: 0.9328\n",
            "Epoch 10, Loss: 0.8814\n",
            "Epoch 11, Loss: 0.8386\n",
            "Epoch 12, Loss: 0.8008\n",
            "Epoch 13, Loss: 0.7684\n",
            "Epoch 14, Loss: 0.7396\n",
            "Epoch 15, Loss: 0.7143\n",
            "Epoch 16, Loss: 0.6916\n",
            "Epoch 17, Loss: 0.6714\n",
            "Epoch 18, Loss: 0.6530\n",
            "Epoch 19, Loss: 0.6365\n",
            "Epoch 20, Loss: 0.6213\n",
            "Epoch 21, Loss: 0.6075\n",
            "Epoch 22, Loss: 0.5948\n",
            "Epoch 23, Loss: 0.5831\n",
            "Epoch 24, Loss: 0.5722\n",
            "Epoch 25, Loss: 0.5622\n",
            "Epoch 26, Loss: 0.5528\n",
            "Epoch 27, Loss: 0.5440\n",
            "Epoch 28, Loss: 0.5358\n",
            "Epoch 29, Loss: 0.5281\n",
            "Epoch 30, Loss: 0.5208\n",
            "Epoch 31, Loss: 0.5139\n",
            "Epoch 32, Loss: 0.5074\n",
            "Epoch 33, Loss: 0.5012\n",
            "Epoch 34, Loss: 0.4953\n",
            "Epoch 35, Loss: 0.4898\n",
            "Epoch 36, Loss: 0.4844\n",
            "Epoch 37, Loss: 0.4794\n",
            "Epoch 38, Loss: 0.4745\n",
            "Epoch 39, Loss: 0.4699\n",
            "Epoch 40, Loss: 0.4655\n",
            "Epoch 41, Loss: 0.4612\n",
            "Epoch 42, Loss: 0.4571\n",
            "Epoch 43, Loss: 0.4532\n",
            "Epoch 44, Loss: 0.4494\n",
            "Epoch 45, Loss: 0.4457\n",
            "Epoch 46, Loss: 0.4422\n",
            "Epoch 47, Loss: 0.4388\n",
            "Epoch 48, Loss: 0.4355\n",
            "Epoch 49, Loss: 0.4324\n",
            "Epoch 0, Loss: 4.2403\n",
            "Epoch 1, Loss: 3.5828\n",
            "Epoch 2, Loss: 2.6137\n",
            "Epoch 3, Loss: 1.8564\n",
            "Epoch 4, Loss: 1.4149\n",
            "Epoch 5, Loss: 1.2048\n",
            "Epoch 6, Loss: 1.0941\n",
            "Epoch 7, Loss: 1.0144\n",
            "Epoch 8, Loss: 0.9514\n",
            "Epoch 9, Loss: 0.8993\n",
            "Epoch 10, Loss: 0.8555\n",
            "Epoch 11, Loss: 0.8179\n",
            "Epoch 12, Loss: 0.7854\n",
            "Epoch 13, Loss: 0.7569\n",
            "Epoch 14, Loss: 0.7317\n",
            "Epoch 15, Loss: 0.7092\n",
            "Epoch 16, Loss: 0.6890\n",
            "Epoch 17, Loss: 0.6707\n",
            "Epoch 18, Loss: 0.6541\n",
            "Epoch 19, Loss: 0.6390\n",
            "Epoch 20, Loss: 0.6250\n",
            "Epoch 21, Loss: 0.6122\n",
            "Epoch 22, Loss: 0.6003\n",
            "Epoch 23, Loss: 0.5892\n",
            "Epoch 24, Loss: 0.5789\n",
            "Epoch 25, Loss: 0.5693\n",
            "Epoch 26, Loss: 0.5602\n",
            "Epoch 27, Loss: 0.5517\n",
            "Epoch 28, Loss: 0.5437\n",
            "Epoch 29, Loss: 0.5362\n",
            "Epoch 30, Loss: 0.5290\n",
            "Epoch 31, Loss: 0.5222\n",
            "Epoch 32, Loss: 0.5158\n",
            "Epoch 33, Loss: 0.5096\n",
            "Epoch 34, Loss: 0.5038\n",
            "Epoch 35, Loss: 0.4982\n",
            "Epoch 36, Loss: 0.4928\n",
            "Epoch 37, Loss: 0.4877\n",
            "Epoch 38, Loss: 0.4828\n",
            "Epoch 39, Loss: 0.4781\n",
            "Epoch 40, Loss: 0.4736\n",
            "Epoch 41, Loss: 0.4692\n",
            "Epoch 42, Loss: 0.4650\n",
            "Epoch 43, Loss: 0.4610\n",
            "Epoch 44, Loss: 0.4570\n",
            "Epoch 45, Loss: 0.4533\n",
            "Epoch 46, Loss: 0.4496\n",
            "Epoch 47, Loss: 0.4461\n",
            "Epoch 48, Loss: 0.4427\n",
            "Epoch 49, Loss: 0.4394\n"
          ]
        }
      ]
    },
    {
      "cell_type": "code",
      "source": [
        "label_op = []\n",
        "input = x_test.iloc[24]\n",
        "for model in model_net:\n",
        "    prediction = model.predict(input)\n",
        "    label_op.append(prediction)\n",
        "max = 0\n",
        "res = label_op[0]\n",
        "for i in label_op:\n",
        "    freq = label_op.count(i)\n",
        "    if freq > max:\n",
        "        max = freq\n",
        "        res = i\n",
        "print(label_op)        \n",
        "print(res)"
      ],
      "metadata": {
        "colab": {
          "base_uri": "https://localhost:8080/"
        },
        "id": "2zY-2AC79xNu",
        "outputId": "a187ea7a-5080-46ad-8665-14b310a14bad"
      },
      "execution_count": null,
      "outputs": [
        {
          "output_type": "stream",
          "name": "stdout",
          "text": [
            "[array([4]), array([4]), array([9]), array([4]), array([4])]\n",
            "[4]\n"
          ]
        }
      ]
    },
    {
      "cell_type": "code",
      "source": [
        "y_test[24]"
      ],
      "metadata": {
        "colab": {
          "base_uri": "https://localhost:8080/"
        },
        "id": "1VOPuQtvClNZ",
        "outputId": "005465b7-e590-46b1-8a5a-48bf78a37027"
      },
      "execution_count": null,
      "outputs": [
        {
          "output_type": "execute_result",
          "data": {
            "text/plain": [
              "4"
            ]
          },
          "metadata": {},
          "execution_count": 65
        }
      ]
    },
    {
      "cell_type": "code",
      "source": [
        "import scipy.io as sio\n",
        "\n",
        "hyp_data = sio.loadmat(\"/content/drive/MyDrive/Colab Notebooks/SalinasA_corrected.mat\")\n",
        "ground_truth = sio.loadmat(\"/content/drive/MyDrive/Colab Notebooks/SalinasA_gt.mat\")"
      ],
      "metadata": {
        "id": "pEvnlh_1C34j"
      },
      "execution_count": null,
      "outputs": []
    },
    {
      "cell_type": "code",
      "source": [
        "sorted(hyp_data.keys())"
      ],
      "metadata": {
        "colab": {
          "base_uri": "https://localhost:8080/"
        },
        "id": "6kEOtpq_67dP",
        "outputId": "7ab2d520-e83a-40da-9801-5918f0b20925"
      },
      "execution_count": null,
      "outputs": [
        {
          "output_type": "execute_result",
          "data": {
            "text/plain": [
              "['__globals__', '__header__', '__version__', 'salinasA_corrected']"
            ]
          },
          "metadata": {},
          "execution_count": 5
        }
      ]
    },
    {
      "cell_type": "code",
      "source": [
        "x = hyp_data['salinasA_corrected']"
      ],
      "metadata": {
        "id": "4kH-s9Ai69Ib"
      },
      "execution_count": null,
      "outputs": []
    },
    {
      "cell_type": "code",
      "source": [
        "x.shape"
      ],
      "metadata": {
        "colab": {
          "base_uri": "https://localhost:8080/"
        },
        "id": "dR6A_X5378-p",
        "outputId": "361ff075-40d4-4073-8889-3ad5ef481489"
      },
      "execution_count": null,
      "outputs": [
        {
          "output_type": "execute_result",
          "data": {
            "text/plain": [
              "(83, 86, 204)"
            ]
          },
          "metadata": {},
          "execution_count": 7
        }
      ]
    },
    {
      "cell_type": "code",
      "source": [
        "sorted(ground_truth.keys())"
      ],
      "metadata": {
        "colab": {
          "base_uri": "https://localhost:8080/"
        },
        "id": "BzlnwLKG8AzX",
        "outputId": "ca793a1b-adf6-491d-bffb-8b8700d9a36f"
      },
      "execution_count": null,
      "outputs": [
        {
          "output_type": "execute_result",
          "data": {
            "text/plain": [
              "['__globals__', '__header__', '__version__', 'salinasA_gt']"
            ]
          },
          "metadata": {},
          "execution_count": 8
        }
      ]
    },
    {
      "cell_type": "code",
      "source": [
        "y = ground_truth['salinasA_gt']\n",
        "print(y)"
      ],
      "metadata": {
        "colab": {
          "base_uri": "https://localhost:8080/"
        },
        "id": "hrt49h4K8J_M",
        "outputId": "774c861d-54b5-4637-8093-9c669f9a6404"
      },
      "execution_count": null,
      "outputs": [
        {
          "output_type": "stream",
          "name": "stdout",
          "text": [
            "[[ 1  1  1 ... 12 12 12]\n",
            " [ 1  1  1 ... 12 12 12]\n",
            " [ 1  1  1 ... 12 12 12]\n",
            " ...\n",
            " [14 14 14 ...  0  0  0]\n",
            " [14 14 14 ...  0  0  0]\n",
            " [14 14 14 ...  0  0  0]]\n"
          ]
        }
      ]
    },
    {
      "cell_type": "code",
      "source": [
        "y.shape"
      ],
      "metadata": {
        "id": "i5NPxLvJ8Pgl",
        "outputId": "585a682c-5919-4d02-acb0-5399da33b931",
        "colab": {
          "base_uri": "https://localhost:8080/"
        }
      },
      "execution_count": null,
      "outputs": [
        {
          "output_type": "execute_result",
          "data": {
            "text/plain": [
              "(83, 86)"
            ]
          },
          "metadata": {},
          "execution_count": 10
        }
      ]
    },
    {
      "cell_type": "code",
      "source": [
        "y = y.ravel()"
      ],
      "metadata": {
        "id": "rz9P1poc8TFA"
      },
      "execution_count": null,
      "outputs": []
    },
    {
      "cell_type": "code",
      "source": [
        "y"
      ],
      "metadata": {
        "colab": {
          "base_uri": "https://localhost:8080/"
        },
        "id": "DDlFSJcdFpCG",
        "outputId": "316665f4-2cee-40c5-c898-5675cef00025"
      },
      "execution_count": null,
      "outputs": [
        {
          "output_type": "execute_result",
          "data": {
            "text/plain": [
              "array([1, 1, 1, ..., 0, 0, 0], dtype=uint8)"
            ]
          },
          "metadata": {},
          "execution_count": 16
        }
      ]
    },
    {
      "cell_type": "code",
      "source": [
        "print(np.unique(y))"
      ],
      "metadata": {
        "colab": {
          "base_uri": "https://localhost:8080/"
        },
        "id": "T6WHi8OmFqH3",
        "outputId": "13d2ef43-ff48-4a8c-d793-e1db569d7f59"
      },
      "execution_count": null,
      "outputs": [
        {
          "output_type": "stream",
          "name": "stdout",
          "text": [
            "[ 0  1 10 11 12 13 14]\n"
          ]
        }
      ]
    },
    {
      "cell_type": "code",
      "source": [
        "pines_data = sio.loadmat(\"/content/drive/MyDrive/Colab Notebooks/Indian_pines_corrected.mat\")\n",
        "pines_gt = sio.loadmat(\"/content/drive/MyDrive/Colab Notebooks/Indian_pines_gt.mat\")"
      ],
      "metadata": {
        "id": "TDuP7FgOFzhY"
      },
      "execution_count": null,
      "outputs": []
    },
    {
      "cell_type": "code",
      "source": [
        "sorted(pines_data.keys())"
      ],
      "metadata": {
        "colab": {
          "base_uri": "https://localhost:8080/"
        },
        "id": "cmUDJWtbHE7j",
        "outputId": "ac2592fe-54e5-41c9-dff3-5fb0b9b55cfe"
      },
      "execution_count": null,
      "outputs": [
        {
          "output_type": "execute_result",
          "data": {
            "text/plain": [
              "['__globals__', '__header__', '__version__', 'indian_pines_corrected']"
            ]
          },
          "metadata": {},
          "execution_count": 20
        }
      ]
    },
    {
      "cell_type": "code",
      "source": [
        "sorted(pines_gt.keys())"
      ],
      "metadata": {
        "colab": {
          "base_uri": "https://localhost:8080/"
        },
        "id": "Ul6g6w5nHQOt",
        "outputId": "6bb63048-e283-41f3-8ffb-d647edca43a2"
      },
      "execution_count": null,
      "outputs": [
        {
          "output_type": "execute_result",
          "data": {
            "text/plain": [
              "['__globals__', '__header__', '__version__', 'indian_pines_gt']"
            ]
          },
          "metadata": {},
          "execution_count": 24
        }
      ]
    },
    {
      "cell_type": "code",
      "source": [
        "X = pines_data['indian_pines_corrected']"
      ],
      "metadata": {
        "id": "VU-M6FCAG84q"
      },
      "execution_count": null,
      "outputs": []
    },
    {
      "cell_type": "code",
      "source": [
        "Y = pines_gt['indian_pines_gt']"
      ],
      "metadata": {
        "id": "-AHe4kvNHNyy"
      },
      "execution_count": null,
      "outputs": []
    },
    {
      "cell_type": "code",
      "source": [
        "Y = Y.ravel()\n",
        "print(np.unique(Y))"
      ],
      "metadata": {
        "colab": {
          "base_uri": "https://localhost:8080/"
        },
        "id": "He0vUUVsHeB6",
        "outputId": "469d4c5a-2662-4fec-e17c-85c4a3019d90"
      },
      "execution_count": null,
      "outputs": [
        {
          "output_type": "stream",
          "name": "stdout",
          "text": [
            "[ 0  1  2  3  4  5  6  7  8  9 10 11 12 13 14 15 16]\n"
          ]
        }
      ]
    },
    {
      "cell_type": "code",
      "source": [
        "X = X.reshape(X.shape[0]*X.shape[1],X.shape[2])"
      ],
      "metadata": {
        "id": "KHKIdQKoIIvX"
      },
      "execution_count": null,
      "outputs": []
    },
    {
      "cell_type": "code",
      "source": [
        "from sklearn.model_selection import train_test_split"
      ],
      "metadata": {
        "id": "qNF_dSdKHnz-"
      },
      "execution_count": null,
      "outputs": []
    },
    {
      "cell_type": "code",
      "source": [
        "X_train, X_test, y_train, y_test = train_test_split(X,Y,test_size = 0.2,random_state =42)"
      ],
      "metadata": {
        "id": "lYfBPINlH8v9"
      },
      "execution_count": null,
      "outputs": []
    },
    {
      "cell_type": "code",
      "source": [
        "nn = NeuralNetwork(X_train.shape[1],128,17)\n",
        "nn.train(X_train,y_train,10,0.001)"
      ],
      "metadata": {
        "colab": {
          "base_uri": "https://localhost:8080/"
        },
        "id": "X5eiBs3MIWMZ",
        "outputId": "dd03c8ac-0503-45bb-c642-0b77df227aef"
      },
      "execution_count": null,
      "outputs": [
        {
          "output_type": "stream",
          "name": "stdout",
          "text": [
            "Epoch 0, Loss: 16.7846\n",
            "Epoch 1, Loss: 9.0209\n",
            "Epoch 2, Loss: 16.2413\n",
            "Epoch 3, Loss: 2.8330\n",
            "Epoch 4, Loss: 2.8328\n",
            "Epoch 5, Loss: 2.8326\n",
            "Epoch 6, Loss: 2.8323\n",
            "Epoch 7, Loss: 2.8321\n",
            "Epoch 8, Loss: 2.8319\n",
            "Epoch 9, Loss: 2.8316\n"
          ]
        }
      ]
    },
    {
      "cell_type": "code",
      "source": [],
      "metadata": {
        "id": "h4Ja2JMlI1tC"
      },
      "execution_count": null,
      "outputs": []
    }
  ]
}